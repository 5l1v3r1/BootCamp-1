{
 "cells": [
  {
   "cell_type": "markdown",
   "metadata": {},
   "source": [
    "# Python: syntax and concepts\n",
    "\n",
    "This is a tutorial on basic Python syntax and concepts for the [KIPAC computing boot camp](http://kipac.github.io/BootCamp).\n",
    "\n",
    "Author: [Sean McLaughlin](https://github.com/mclaughlin6464)"
   ]
  },
  {
   "cell_type": "markdown",
   "metadata": {},
   "source": [
    "----\n",
    "## Part 0: Basic syntax:\n",
    "\n",
    "Python syntax is very much *unlike* most other standard languages, in some subtle ways at least. \n",
    "\n",
    "This leads to otherwise skilled programmers writing very bad python code. \n",
    "\n",
    "Writing slick, clean python code is very easy, if you just know the basics. Unlike langues like C++ or Java, python has:\n",
    "\n",
    "- No semicolons (;). Each line needs to be a complete statment, unless broken by a backslash (\\).\n",
    "- Variables can be declared dynamically. \n",
    "- Nested statments are opened by colons (:), and the structures are specified by **indentation**.\n",
    "\n",
    "Let's start with something simple: The Zen of python. Press Shift+Enter to evaluate the cell below."
   ]
  },
  {
   "cell_type": "code",
   "execution_count": 19,
   "metadata": {
    "collapsed": false
   },
   "outputs": [],
   "source": [
    "import this"
   ]
  },
  {
   "cell_type": "markdown",
   "metadata": {},
   "source": [
    "This encapsulates the design ideas of python. If something is complex or obtuse, python probably has a better way to do it! \n",
    "\n",
    "Not everything will be covered here, so make sure to check out the [python docs](https://docs.python.org/2/) to learn more! \n",
    "\n",
    "Let's start with a 'hello world' in the cell below! "
   ]
  },
  {
   "cell_type": "code",
   "execution_count": 20,
   "metadata": {
    "collapsed": false
   },
   "outputs": [
    {
     "name": "stdout",
     "output_type": "stream",
     "text": [
      "Hello world!\n"
     ]
    }
   ],
   "source": [
    "print 'Hello world!'"
   ]
  },
  {
   "cell_type": "markdown",
   "metadata": {},
   "source": [
    "-----\n",
    "### Part 1: Simple Types\n",
    "\n",
    "All variables in python are dynamically typed; no declaraion necessary! Here are the built in data types in python."
   ]
  },
  {
   "cell_type": "code",
   "execution_count": 21,
   "metadata": {
    "collapsed": false
   },
   "outputs": [
    {
     "name": "stdout",
     "output_type": "stream",
     "text": [
      "1\n",
      "2.2\n",
      "10000\n",
      "1j\n",
      "STRANG\n",
      "True\n"
     ]
    }
   ],
   "source": [
    "#PSST. I'm a comment! I don't affect anything!\n",
    "#These are all 6 of the built-ins in pythonn\n",
    "x =1 #int\n",
    "print x\n",
    "x = 2.2 #float\n",
    "print x\n",
    "x = 10**4L #Long\n",
    "print x\n",
    "x  = 1.0J #complex\n",
    "print x\n",
    "x = 'STRANG' #string\n",
    "print x\n",
    "x = True #bool\n",
    "print x"
   ]
  },
  {
   "cell_type": "markdown",
   "metadata": {},
   "source": [
    "Certain operations will cast variables from one type to another; it's also possible to manually cast them. "
   ]
  },
  {
   "cell_type": "code",
   "execution_count": 22,
   "metadata": {
    "collapsed": false
   },
   "outputs": [
    {
     "name": "stdout",
     "output_type": "stream",
     "text": [
      "10\n",
      "20\n",
      "30.0\n",
      "10\n"
     ]
    }
   ],
   "source": [
    "s= '10'\n",
    "print s\n",
    "y = int(s)\n",
    "print y+10\n",
    "print y*3.0 #cast as float\n",
    "print long(y)"
   ]
  },
  {
   "cell_type": "markdown",
   "metadata": {},
   "source": [
    "# TODO Consider deleting. \n",
    "One other thing worth mentioning; python simples are **imutable**. You can't change their value! "
   ]
  },
  {
   "cell_type": "code",
   "execution_count": 23,
   "metadata": {
    "collapsed": false
   },
   "outputs": [
    {
     "name": "stdout",
     "output_type": "stream",
     "text": [
      "X is True id:  9431952\n",
      "X is False id: 9431920\n",
      "Y is False id: 9431920\n"
     ]
    }
   ],
   "source": [
    "#the id function returns the address of the variale in memory\n",
    "x = True\n",
    "print 'X is True id:  %d'%id(x)#I'll explain string formatting and printing in a second!\n",
    "x = False\n",
    "print 'X is False id: %d'%id(x)\n",
    "y = False\n",
    "print 'Y is False id: %d'%id(y)"
   ]
  },
  {
   "cell_type": "markdown",
   "metadata": {},
   "source": [
    "Why have multiple bools when they can only every be True or False?"
   ]
  },
  {
   "cell_type": "code",
   "execution_count": 24,
   "metadata": {
    "collapsed": false
   },
   "outputs": [
    {
     "name": "stdout",
     "output_type": "stream",
     "text": [
      "14754168\n",
      "14754144\n",
      "14754144\n"
     ]
    }
   ],
   "source": [
    "#Same is true for all simples!\n",
    "x = 1\n",
    "print id(x)\n",
    "x+=1\n",
    "print id(x)\n",
    "print id(2)"
   ]
  },
  {
   "cell_type": "markdown",
   "metadata": {},
   "source": [
    "\n",
    "Details on all of python's built-ins can be found [here](https://docs.python.org/2/library/stdtypes.html). I'm going to shy away from droning on about the details of the syntax; what you want to know you can look up there. I'll just make a few key mentions.\n",
    " * Longs have unlimited size (limited only by the size of your memory). If you've never heard of scientific notation, go nuts.\n",
    " * bools' are a subset of integers. When you cast `True` to an `int`, you get `1`. What do you think `False` does?\n",
    " * Most types have an interesting `bool` casting that can be used in control flow. More on that in a bit.\n",
    " * the `is` operator is kinda cool, but it compares memory addresses, not equality. Sometimes this is the same thing and sometimes it's not.\n",
    " "
   ]
  },
  {
   "cell_type": "code",
   "execution_count": 25,
   "metadata": {
    "collapsed": false
   },
   "outputs": [
    {
     "name": "stdout",
     "output_type": "stream",
     "text": [
      "True\n"
     ]
    }
   ],
   "source": [
    "x = 2\n",
    "print x is 2"
   ]
  },
  {
   "cell_type": "markdown",
   "metadata": {},
   "source": [
    "### Part 1.1: String Aside\n",
    "\n",
    "Strings are different enought form the numeric types that they warrent a little bit of their own discussion. A string can be created using either double or single quotes. This can be used to insert the other into the string. Escapes are also possible."
   ]
  },
  {
   "cell_type": "code",
   "execution_count": 26,
   "metadata": {
    "collapsed": false
   },
   "outputs": [
    {
     "name": "stdout",
     "output_type": "stream",
     "text": [
      "I'm a string!\n",
      "I'm a string too!\n"
     ]
    }
   ],
   "source": [
    "print \"I'm a string!\"\n",
    "print 'I\\'m a string too!'"
   ]
  },
  {
   "cell_type": "markdown",
   "metadata": {},
   "source": [
    "One of the most important things with strings is formatting. This is done using the `%` sign and the right letter. Once again, details [here](https://docs.python.org/2/library/stdtypes.html#string-formatting). Here's a few short examples of printing fancy strings."
   ]
  },
  {
   "cell_type": "code",
   "execution_count": 27,
   "metadata": {
    "collapsed": false
   },
   "outputs": [
    {
     "name": "stdout",
     "output_type": "stream",
     "text": [
      "Look it's a one: 1\n",
      "Look it's a one followed by a float 2!: 1, 2.000000\n",
      "And finally, pi to 3 digits of precesion is 3.142 ya know?\n"
     ]
    }
   ],
   "source": [
    "print \"Look it's a one: %d\"%1\n",
    "print \"Look it's a one followed by a float 2!: %d, %f\"%(1, 2.0)\n",
    "pi = 3.141592653\n",
    "print \"And finally, pi to 3 digits of precesion is %.3f ya know?\"%pi"
   ]
  },
  {
   "cell_type": "markdown",
   "metadata": {},
   "source": [
    "One of the really interesting things about python strings is that they're kinda like container types. I'll be going into grave detail about them in the next section, but here's a few examples of some things you can do. I'm also going to use some of the cool string methods/functions. There's a list of them [here](https://docs.python.org/2/library/stdtypes.html#string-methods). There are a **ton** of them and they're really useful. I suggest you familizarize yourself with them. "
   ]
  },
  {
   "cell_type": "code",
   "execution_count": 28,
   "metadata": {
    "collapsed": false
   },
   "outputs": [
    {
     "name": "stdout",
     "output_type": "stream",
     "text": [
      "s u p a c a l i f r a g i l i s t i c e x p i a l i d o c i o u s \n",
      "\n",
      "s\n",
      "u\n",
      "Supacalifragilisticexpialidocious\n",
      "['supacal', 'frag', 'l', 'st', 'cexp', 'al', 'doc', 'ous']\n"
     ]
    }
   ],
   "source": [
    "s = 'supacalifragilisticexpialidocious'\n",
    "for char in s: #go character by character\n",
    "    print char,\n",
    "print '\\n' #newline\n",
    "    \n",
    "print s[0] #first char\n",
    "print s[-2] #second to last char\n",
    "print s.capitalize()\n",
    "print s.split('i') #remove i's and partition into chunks aroudn them"
   ]
  },
  {
   "cell_type": "markdown",
   "metadata": {},
   "source": [
    "### Excercise 1\n",
    "#### Answers at the bottom!\n",
    "\n",
    "What is the first digit of `4**16-27`? How about the last?"
   ]
  },
  {
   "cell_type": "code",
   "execution_count": null,
   "metadata": {
    "collapsed": true
   },
   "outputs": [],
   "source": []
  },
  {
   "cell_type": "markdown",
   "metadata": {},
   "source": [
    "------\n",
    "## Part 2: Container Types\n",
    "\n",
    "Now that you know all there is to know about the basics, you can put them places! There are four container types in python:\n",
    " * lists\n",
    " * tuples\n",
    " * sets\n",
    " * dictionaries\n",
    "They have a lot of similarities, but let's break them down one by one.\n",
    "\n",
    "#### Lists\n",
    "Lists are like arrays in other languages, but with 2 majors differences.\n",
    "\n",
    "1) They can hold data of any type.\n",
    "They're meant to hold data of the same type, like the names of the files in a directory or data from voltage source. However, they can hold data of any type. Look!"
   ]
  },
  {
   "cell_type": "code",
   "execution_count": 29,
   "metadata": {
    "collapsed": false
   },
   "outputs": [
    {
     "name": "stdout",
     "output_type": "stream",
     "text": [
      "[1, 2, 3, 4, 5, 6] ['potato', 3, True, 89.6]\n"
     ]
    }
   ],
   "source": [
    "x = [1,2,3,4,5,6]\n",
    "y = ['potato', 3, True, 89.6]\n",
    "print x, y"
   ]
  },
  {
   "cell_type": "markdown",
   "metadata": {},
   "source": [
    "2) They are dynamically sized.\n",
    "This is **AWESOME**. No more worrying about allocating memory in advance."
   ]
  },
  {
   "cell_type": "code",
   "execution_count": 30,
   "metadata": {
    "collapsed": false
   },
   "outputs": [
    {
     "name": "stdout",
     "output_type": "stream",
     "text": [
      "[1]\n",
      "[1, 2, 3, 4, 'I LOVE APPENDING']\n"
     ]
    }
   ],
   "source": [
    "x = []\n",
    "x.append(1)\n",
    "print x\n",
    "x.extend([2,3,4])\n",
    "x.append('I LOVE APPENDING')\n",
    "print x"
   ]
  },
  {
   "cell_type": "markdown",
   "metadata": {},
   "source": [
    "There are also performance costs with this; those are laid out [here](https://wiki.python.org/moin/TimeComplexity) along with the time complexity of a few other operations I'll show you below. \n",
    "\n",
    "As for other regular list stuff, check out the examples below. The rest of the list functions are [here](https://docs.python.org/2/tutorial/datastructures.html). As per my usual shpeal, there are many and they are awesome."
   ]
  },
  {
   "cell_type": "code",
   "execution_count": 31,
   "metadata": {
    "collapsed": false
   },
   "outputs": [
    {
     "name": "stdout",
     "output_type": "stream",
     "text": [
      "8\n",
      "[8, 2, -1]\n",
      "7\n",
      "[-1, -1, 1, 2, 8, 37, 140]\n",
      "[-1, -1, 2, 8, 37, 140]\n"
     ]
    }
   ],
   "source": [
    "arr = [1,8,2,-1, 37,140, -1]\n",
    "print arr[1] #access the second element\n",
    "print arr[1:4]#this is slicing. It cuts the array from the second to the 4th element\n",
    "print len(arr)# get the array's length\n",
    "arr.sort() #sort the array in place\n",
    "print arr\n",
    "arr.remove(1)#remove the first element valued 1\n",
    "print arr"
   ]
  },
  {
   "cell_type": "markdown",
   "metadata": {},
   "source": [
    "We'll be revisiting lists in a bit after we cover control flow structures. They're pretty integral to the layout of `for` loops.\n",
    "\n",
    "#### Tuples\n",
    "\n",
    "Tuples are...weird. They are a lot like lists in a lot of ways,except for one major one."
   ]
  },
  {
   "cell_type": "code",
   "execution_count": 32,
   "metadata": {
    "collapsed": false
   },
   "outputs": [
    {
     "name": "stdout",
     "output_type": "stream",
     "text": [
      "1\n",
      "5\n"
     ]
    },
    {
     "ename": "TypeError",
     "evalue": "'tuple' object does not support item assignment",
     "output_type": "error",
     "traceback": [
      "\u001b[0;31m---------------------------------------------------------------------------\u001b[0m",
      "\u001b[0;31mTypeError\u001b[0m                                 Traceback (most recent call last)",
      "\u001b[0;32m<ipython-input-32-79ddfd298378>\u001b[0m in \u001b[0;36m<module>\u001b[0;34m()\u001b[0m\n\u001b[1;32m      2\u001b[0m \u001b[0;32mprint\u001b[0m \u001b[0mtup\u001b[0m\u001b[0;34m[\u001b[0m\u001b[0;36m0\u001b[0m\u001b[0;34m]\u001b[0m \u001b[0;31m#1st elem\u001b[0m\u001b[0;34m\u001b[0m\u001b[0m\n\u001b[1;32m      3\u001b[0m \u001b[0;32mprint\u001b[0m \u001b[0mlen\u001b[0m\u001b[0;34m(\u001b[0m\u001b[0mtup\u001b[0m\u001b[0;34m)\u001b[0m \u001b[0;31m#length\u001b[0m\u001b[0;34m\u001b[0m\u001b[0m\n\u001b[0;32m----> 4\u001b[0;31m \u001b[0mtup\u001b[0m\u001b[0;34m[\u001b[0m\u001b[0;36m0\u001b[0m\u001b[0;34m]\u001b[0m \u001b[0;34m=\u001b[0m \u001b[0;34m-\u001b[0m\u001b[0;36m1\u001b[0m\u001b[0;31m#modify\u001b[0m\u001b[0;34m\u001b[0m\u001b[0m\n\u001b[0m",
      "\u001b[0;31mTypeError\u001b[0m: 'tuple' object does not support item assignment"
     ]
    }
   ],
   "source": [
    "tup = (1,2,3,4,5)\n",
    "print tup[0] #1st elem\n",
    "print len(tup) #length\n",
    "tup[0] = -1#modify"
   ]
  },
  {
   "cell_type": "markdown",
   "metadata": {},
   "source": [
    "`'tuple' object does not support item assignment`.\n",
    "\n",
    "Tuples differ from lists in that tuples are **immutable**. Once they're set, they can't be changed. This may seem a little bit odd at first, but there are reasons for this. Tuples are not supposed to be homogenous sequences like lists; there are heterogenous. Each element represents a different idea, like cartesian coordinates. Their unique properties also give them unique roles in:\n",
    " * They are hashable, so they can be used as keys for dicts or sets (see that in a sec)\n",
    " * They can be used to have functions return multiple values at once (see that in 2 secs)\n",
    " * Tuple unpacking is crazy cool.\n",
    " \n",
    "The last one I want to elaborate on. Python, as it runs, evalutates comma separated things as tuples automagically. "
   ]
  },
  {
   "cell_type": "code",
   "execution_count": 33,
   "metadata": {
    "collapsed": false
   },
   "outputs": [
    {
     "name": "stdout",
     "output_type": "stream",
     "text": [
      "(1, 2, 3, 4, 5)\n",
      "<type 'tuple'>\n"
     ]
    }
   ],
   "source": [
    "x = 1,2,3,4,5\n",
    "print x\n",
    "print type(x)"
   ]
  },
  {
   "cell_type": "markdown",
   "metadata": {},
   "source": [
    "This also works in reverse. You can assign to individual elements of a tuple."
   ]
  },
  {
   "cell_type": "code",
   "execution_count": 34,
   "metadata": {
    "collapsed": false
   },
   "outputs": [
    {
     "name": "stdout",
     "output_type": "stream",
     "text": [
      "1 2 3 9\n"
     ]
    }
   ],
   "source": [
    "a,b,c,d,e = x\n",
    "print a,b,c,d+e"
   ]
  },
  {
   "cell_type": "markdown",
   "metadata": {},
   "source": [
    "By combinging these 2 effects you encounter something truly unique. In other languages, variable swapping takes a 3rd temp variable like so:"
   ]
  },
  {
   "cell_type": "code",
   "execution_count": 35,
   "metadata": {
    "collapsed": false
   },
   "outputs": [
    {
     "name": "stdout",
     "output_type": "stream",
     "text": [
      "2 1\n"
     ]
    }
   ],
   "source": [
    "a = 1\n",
    "b =2\n",
    "tmp = a\n",
    "a = b\n",
    "b = tmp\n",
    "print a,b"
   ]
  },
  {
   "cell_type": "markdown",
   "metadata": {},
   "source": [
    "Python says no more! One line variable swaps!"
   ]
  },
  {
   "cell_type": "code",
   "execution_count": 36,
   "metadata": {
    "collapsed": false
   },
   "outputs": [
    {
     "name": "stdout",
     "output_type": "stream",
     "text": [
      "2 1\n"
     ]
    }
   ],
   "source": [
    "a, b = 1,2\n",
    "#GAHHHHHHH\n",
    "b,a = a,b\n",
    "print a,b"
   ]
  },
  {
   "cell_type": "markdown",
   "metadata": {},
   "source": [
    "The future is here!\n",
    "\n",
    "#### Sets\n",
    "\n",
    "Sets behave exactly like logical sets. "
   ]
  },
  {
   "cell_type": "code",
   "execution_count": 37,
   "metadata": {
    "collapsed": false
   },
   "outputs": [
    {
     "name": "stdout",
     "output_type": "stream",
     "text": [
      "set([1, 2, 3, 4, 5])\n",
      "set([3])\n",
      "set([1, 2])\n",
      "set([1, 2, 3])\n"
     ]
    }
   ],
   "source": [
    "a = set([1,2,3])\n",
    "b = set([3,4,5])\n",
    "print a | b #a U b\n",
    "print a & b # a intersect b\n",
    "print a-b #a-b\n",
    "a.add(1) #add an element already in a\n",
    "print a #duplicates not allowed"
   ]
  },
  {
   "cell_type": "markdown",
   "metadata": {},
   "source": [
    "Sets can only store immutable objects. This means you can't store a list, but you can store a tuple. This is because sets are ***hash driven***. The details of how that works aren't too important, just remember that immutable objects are the only type that are hashable. \n",
    "\n",
    "The number one important thing about sets is that they have constant time membership checks. Check out below."
   ]
  },
  {
   "cell_type": "code",
   "execution_count": 38,
   "metadata": {
    "collapsed": false
   },
   "outputs": [
    {
     "name": "stdout",
     "output_type": "stream",
     "text": [
      "Membership is size 10\n",
      "List:\n",
      "10000000 loops, best of 3: 93.1 ns per loop\n",
      "Set:\n",
      "10000000 loops, best of 3: 59.7 ns per loop\n",
      "____________________\n",
      "Membership is size 100\n",
      "List:\n",
      "The slowest run took 4.34 times longer than the fastest. This could mean that an intermediate result is being cached.\n",
      "1000000 loops, best of 3: 440 ns per loop\n",
      "Set:\n",
      "10000000 loops, best of 3: 59.5 ns per loop\n",
      "____________________\n",
      "Membership is size 1000\n",
      "List:\n",
      "100000 loops, best of 3: 3.86 µs per loop\n",
      "Set:\n",
      "10000000 loops, best of 3: 73.9 ns per loop\n",
      "____________________\n",
      "Membership is size 10000\n",
      "List:\n",
      "10000 loops, best of 3: 37.4 µs per loop\n",
      "Set:\n",
      "10000000 loops, best of 3: 73.9 ns per loop\n",
      "____________________\n",
      "Membership is size 100000\n",
      "List:\n",
      "1000 loops, best of 3: 375 µs per loop\n",
      "Set:\n",
      "The slowest run took 25.56 times longer than the fastest. This could mean that an intermediate result is being cached.\n",
      "10000000 loops, best of 3: 74.6 ns per loop\n",
      "____________________\n",
      "Membership is size 1000000\n",
      "List:\n",
      "100 loops, best of 3: 4.66 ms per loop\n",
      "Set:\n",
      "The slowest run took 25.84 times longer than the fastest. This could mean that an intermediate result is being cached.\n",
      "10000000 loops, best of 3: 73.8 ns per loop\n",
      "____________________\n"
     ]
    }
   ],
   "source": [
    "for n in xrange(1,7):#We're doing control flow structures next!\n",
    "    N = 10**n\n",
    "    print 'Membership is size %d'%N\n",
    "    l = range(N)#make a list of size N\n",
    "    s = set(l) #note that the creation of a set is O(N), so you need to be careful about how you do it.\n",
    "    print 'List:'\n",
    "    #I'm usign some ipython magic here; i'll get to those later too.\n",
    "    %timeit N/2 in l#check membership\n",
    "    print 'Set:'\n",
    "    %timeit N/2 in s#check membership\n",
    "    print '_'*20"
   ]
  },
  {
   "cell_type": "markdown",
   "metadata": {},
   "source": [
    "This is an insanely useful feature and I reccomend you think of ways to use it in your code wherever you can to increase peformance. \n",
    "\n",
    "#### Dictionaries\n",
    "\n",
    "Dictionaries are python's best data structure; even the language designers have said so. They're like set's older, better brother. Dictionaries are a mapping type, so they pair a key to a value. The key must be immutable, but values need not be. They have a variety of uses, like binning or counting"
   ]
  },
  {
   "cell_type": "code",
   "execution_count": null,
   "metadata": {
    "collapsed": true
   },
   "outputs": [],
   "source": [
    "#counting\n",
    "colors = ['red', 'yellow', 'cyan', 'red', 'green', 'green', 'blue', 'red', 'black']\n",
    "colorDict = {}\n",
    "for color in colors:\n",
    "    if color not in colorDict: #O(1) membership checks\n",
    "        colorDict[color] = 0\n",
    "    colorDict[color]+=1\n",
    "print colorDict\n",
    "print colorDict['red']\n",
    "\n",
    "#binning\n",
    "divDict= {} #dictionary of the smallest prime factor of a number.\n",
    "from math import sqrt #I'll show off imports later\n",
    "for n in xrange(1,10**3):#iterate from 1 to 10000\n",
    "    for d in xrange(2, int(sqrt(n))+1):#iterate from 2 to sqrt(N) in the denominator\n",
    "        result = n/float(d)\n",
    "        if int(result) == result: #it's an int\n",
    "            if d not in divDict: #initialize the dict\n",
    "                divDict[d] = []\n",
    "            divDict[d].append(n)\n",
    "            break\n",
    "print divDict.keys()\n",
    "print divDict[31],divDict[11]\n",
    "\n",
    "#Making a simple pseudo object\n",
    "person = {}\n",
    "person['Name'] = 'Sean'\n",
    "person['Height'] = 6.166 #feet\n",
    "person['Eye Color'] = 'blue'\n",
    "print person"
   ]
  },
  {
   "cell_type": "markdown",
   "metadata": {},
   "source": [
    "Dicts are also just useful to treat like arrays, but with keys that aren't easily encoded as ints. Use them often.\n",
    "\n",
    "### Excercise 2\n",
    "#### Answers at the bottom\n",
    "Using the dictionary below, print 'Hello World' in the ICAO alphabet. Can you generalize it to any message?"
   ]
  },
  {
   "cell_type": "code",
   "execution_count": null,
   "metadata": {
    "collapsed": true
   },
   "outputs": [],
   "source": [
    "d = {'a':'alfa', 'b':'bravo', 'c':'charlie', 'd':'delta', 'e':'echo', 'f':'foxtrot',\n",
    "     'g':'golf', 'h':'hotel', 'i':'india', 'j':'juliett', 'k':'kilo', 'l':'lima',\n",
    "     'm':'mike', 'n':'november', 'o':'oscar', 'p':'papa', 'q':'quebec', 'r':'romeo',\n",
    "     's':'sierra', 't':'tango', 'u':'uniform', 'v':'victor', 'w':'whiskey', \n",
    "     'x':'x-ray', 'y':'yankee', 'z':'zulu'}\n",
    "\n",
    "#your code here\n",
    "#HINT You'll need a for loop. If you'd like, read ahead and come back."
   ]
  },
  {
   "cell_type": "markdown",
   "metadata": {},
   "source": [
    "## Modules\n",
    "\n",
    "Many functionalities and features are availiable by loading modules.\n",
    "\n",
    "[See here](https://docs.python.org/2/library/) for a list of modules in the Python standard library"
   ]
  },
  {
   "cell_type": "code",
   "execution_count": 39,
   "metadata": {
    "collapsed": false
   },
   "outputs": [
    {
     "ename": "NameError",
     "evalue": "name 'cos' is not defined",
     "output_type": "error",
     "traceback": [
      "\u001b[0;31m---------------------------------------------------------------------------\u001b[0m",
      "\u001b[0;31mNameError\u001b[0m                                 Traceback (most recent call last)",
      "\u001b[0;32m<ipython-input-39-eddb8697e1ef>\u001b[0m in \u001b[0;36m<module>\u001b[0;34m()\u001b[0m\n\u001b[0;32m----> 1\u001b[0;31m \u001b[0mcos\u001b[0m\u001b[0;34m(\u001b[0m\u001b[0;36m0\u001b[0m\u001b[0;34m)\u001b[0m\u001b[0;34m\u001b[0m\u001b[0m\n\u001b[0m",
      "\u001b[0;31mNameError\u001b[0m: name 'cos' is not defined"
     ]
    }
   ],
   "source": [
    "cos(0)"
   ]
  },
  {
   "cell_type": "code",
   "execution_count": null,
   "metadata": {
    "collapsed": false
   },
   "outputs": [],
   "source": [
    "import math\n",
    "\n",
    "math.cos(0)"
   ]
  },
  {
   "cell_type": "code",
   "execution_count": null,
   "metadata": {
    "collapsed": false
   },
   "outputs": [],
   "source": [
    "from math import cos\n",
    "\n",
    "cos(0)"
   ]
  },
  {
   "cell_type": "code",
   "execution_count": null,
   "metadata": {
    "collapsed": false
   },
   "outputs": [],
   "source": [
    "sin = 1.0\n",
    "print(sin)\n",
    "\n",
    "from math import sin\n",
    "print(sin)"
   ]
  },
  {
   "cell_type": "code",
   "execution_count": null,
   "metadata": {
    "collapsed": true
   },
   "outputs": [],
   "source": [
    "from math import *"
   ]
  },
  {
   "cell_type": "code",
   "execution_count": null,
   "metadata": {
    "collapsed": false
   },
   "outputs": [],
   "source": [
    "import os\n",
    "\n",
    "print os.listdir(os.curdir)\n",
    "print os.path.getsize('Python (2).ipynb')"
   ]
  },
  {
   "cell_type": "code",
   "execution_count": null,
   "metadata": {
    "collapsed": false
   },
   "outputs": [],
   "source": [
    "import time\n",
    "\n",
    "time.sleep(3)\n",
    "print time.time()"
   ]
  },
  {
   "cell_type": "code",
   "execution_count": null,
   "metadata": {
    "collapsed": false
   },
   "outputs": [],
   "source": [
    "import subprocess\n",
    "\n",
    "subprocess.check_output(['wc', '-l', 'Zen.txt'])"
   ]
  },
  {
   "cell_type": "code",
   "execution_count": null,
   "metadata": {
    "collapsed": true
   },
   "outputs": [],
   "source": [
    "import antigravity"
   ]
  },
  {
   "cell_type": "markdown",
   "metadata": {},
   "source": [
    "## Functions and lambda expressions"
   ]
  },
  {
   "cell_type": "code",
   "execution_count": null,
   "metadata": {
    "collapsed": false
   },
   "outputs": [],
   "source": [
    "def add(x, y):\n",
    "    return x + y\n",
    "\n",
    "add(1, 2)"
   ]
  },
  {
   "cell_type": "code",
   "execution_count": null,
   "metadata": {
    "collapsed": false
   },
   "outputs": [],
   "source": [
    "def addone(x, y=1):\n",
    "    return x + y\n",
    "\n",
    "print(addone(1))\n",
    "print(addone(1, 3))"
   ]
  },
  {
   "cell_type": "markdown",
   "metadata": {},
   "source": [
    "lambda expression is an one-line function that always has a return"
   ]
  },
  {
   "cell_type": "code",
   "execution_count": null,
   "metadata": {
    "collapsed": false
   },
   "outputs": [],
   "source": [
    "addone = lambda x, y=1: x + y\n",
    "addone(1)"
   ]
  },
  {
   "cell_type": "code",
   "execution_count": null,
   "metadata": {
    "collapsed": false
   },
   "outputs": [],
   "source": [
    "from scipy.integrate import quad\n",
    "\n",
    "quad(lambda x: x*x*x, 0, 1)"
   ]
  },
  {
   "cell_type": "code",
   "execution_count": null,
   "metadata": {
    "collapsed": true
   },
   "outputs": [],
   "source": [
    "def cube(x):\n",
    "    return x*x*x\n",
    "\n",
    "quad(cube, 0, 1)"
   ]
  },
  {
   "cell_type": "markdown",
   "metadata": {},
   "source": [
    "### Variable scopes\n",
    "\n",
    "Variable scope is implicitly determined by the scope **in which one assigns a value to the variable**, unless scope is explicitly declared with `global`.\n",
    "\n",
    "See the difference between the following three cells."
   ]
  },
  {
   "cell_type": "code",
   "execution_count": null,
   "metadata": {
    "collapsed": false
   },
   "outputs": [],
   "source": [
    "x = 1\n",
    "\n",
    "def my_function():\n",
    "    print(x)\n",
    "    \n",
    "my_function()\n",
    "\n",
    "print(x)"
   ]
  },
  {
   "cell_type": "code",
   "execution_count": null,
   "metadata": {
    "collapsed": false
   },
   "outputs": [],
   "source": [
    "x = 1\n",
    "\n",
    "def my_function():\n",
    "    x = 3\n",
    "    print(x)\n",
    "    \n",
    "my_function()\n",
    "\n",
    "print(x)"
   ]
  },
  {
   "cell_type": "code",
   "execution_count": null,
   "metadata": {
    "collapsed": false
   },
   "outputs": [],
   "source": [
    "x = 1\n",
    "\n",
    "def my_function():\n",
    "    global x\n",
    "    x = 3\n",
    "    print(x)\n",
    "    \n",
    "my_function()\n",
    "\n",
    "print(x)"
   ]
  },
  {
   "cell_type": "markdown",
   "metadata": {},
   "source": [
    "## Unpacking"
   ]
  },
  {
   "cell_type": "code",
   "execution_count": null,
   "metadata": {
    "collapsed": false
   },
   "outputs": [],
   "source": [
    "a, b = ('this is a', 'this is b')\n",
    "print(a)\n",
    "print(b)"
   ]
  },
  {
   "cell_type": "code",
   "execution_count": null,
   "metadata": {
    "collapsed": false
   },
   "outputs": [],
   "source": [
    "a, b = b, a\n",
    "print(a)\n",
    "print(b)"
   ]
  },
  {
   "cell_type": "code",
   "execution_count": null,
   "metadata": {
    "collapsed": false
   },
   "outputs": [],
   "source": [
    "def func(a, b):\n",
    "    return a+b, a-b, a*b, a/b\n",
    "\n",
    "x, y, z, w = func(1, 3)\n",
    "\n",
    "print(x)\n",
    "print(y)\n",
    "print(z)\n",
    "print(w)"
   ]
  },
  {
   "cell_type": "markdown",
   "metadata": {},
   "source": [
    "## Slicing"
   ]
  },
  {
   "cell_type": "code",
   "execution_count": null,
   "metadata": {
    "collapsed": false
   },
   "outputs": [],
   "source": [
    "s = 'Happy birthday to you!'\n",
    "\n",
    "print s[:5]\n",
    "print s[6:14]\n",
    "print s[-4:]\n",
    "print s[6:-4]\n",
    "print s[::2]\n",
    "print s[1::2]\n",
    "print s[::-1]"
   ]
  },
  {
   "cell_type": "markdown",
   "metadata": {},
   "source": [
    "## Dictionaries"
   ]
  },
  {
   "cell_type": "code",
   "execution_count": null,
   "metadata": {
    "collapsed": false
   },
   "outputs": [],
   "source": [
    "d = dict(a=1, b=2, c=3)\n",
    "print d['a']\n",
    "print d['b']\n",
    "print d['c']\n",
    "print d['d'] # this would raise a KeyError"
   ]
  },
  {
   "cell_type": "markdown",
   "metadata": {},
   "source": [
    "## Iterator"
   ]
  },
  {
   "cell_type": "markdown",
   "metadata": {},
   "source": [
    "### For loop syntax\n",
    "\n",
    "    for <counter> in <iterator>:\n",
    "        <do ...>\n",
    "        \n",
    "You can iterate over many differnt objects!"
   ]
  },
  {
   "cell_type": "code",
   "execution_count": null,
   "metadata": {
    "collapsed": false
   },
   "outputs": [],
   "source": [
    "for i in xrange(10):\n",
    "    print(i)"
   ]
  },
  {
   "cell_type": "code",
   "execution_count": null,
   "metadata": {
    "collapsed": false
   },
   "outputs": [],
   "source": [
    "for i in xrange(6, 22, 4):\n",
    "    print(i)"
   ]
  },
  {
   "cell_type": "markdown",
   "metadata": {},
   "source": [
    "Note the counter is just a container, and is *not* used in controlling the for loop"
   ]
  },
  {
   "cell_type": "code",
   "execution_count": null,
   "metadata": {
    "collapsed": false
   },
   "outputs": [],
   "source": [
    "for i in xrange(6, 20, 4):\n",
    "    i = 0\n",
    "    print(i)"
   ]
  },
  {
   "cell_type": "code",
   "execution_count": null,
   "metadata": {
    "collapsed": false
   },
   "outputs": [],
   "source": [
    "for i in 'Hello World!':\n",
    "    print(i)"
   ]
  },
  {
   "cell_type": "code",
   "execution_count": null,
   "metadata": {
    "collapsed": false
   },
   "outputs": [],
   "source": [
    "for i in [1, 2.23, None, 'string', lambda x:x+1, [1,2,3]]:\n",
    "    print(i)"
   ]
  },
  {
   "cell_type": "code",
   "execution_count": null,
   "metadata": {
    "collapsed": false
   },
   "outputs": [],
   "source": [
    "with open('Zen.txt') as f:\n",
    "    for line in f:\n",
    "        print(line)"
   ]
  },
  {
   "cell_type": "markdown",
   "metadata": {},
   "source": [
    "Iterators can also be used in expressions!"
   ]
  },
  {
   "cell_type": "code",
   "execution_count": null,
   "metadata": {
    "collapsed": false
   },
   "outputs": [],
   "source": [
    "any(x == 9 for x in xrange(9))"
   ]
  },
  {
   "cell_type": "code",
   "execution_count": null,
   "metadata": {
    "collapsed": false
   },
   "outputs": [],
   "source": [
    "all(x < 9 for x in xrange(9))"
   ]
  },
  {
   "cell_type": "code",
   "execution_count": null,
   "metadata": {
    "collapsed": false
   },
   "outputs": [],
   "source": [
    "list(x*x for x in xrange(9))\n",
    "\n",
    "# or use list comprehension\n",
    "[x*x for x in xrange(9)]"
   ]
  },
  {
   "cell_type": "code",
   "execution_count": null,
   "metadata": {
    "collapsed": false
   },
   "outputs": [],
   "source": [
    "dict((str(x), x) for x in xrange(9))\n",
    "\n",
    "# or use dictionary comprehension\n",
    "{str(x): x for x in xrange(9)}"
   ]
  },
  {
   "cell_type": "code",
   "execution_count": null,
   "metadata": {
    "collapsed": true
   },
   "outputs": [],
   "source": [
    "arr = [1,2,3,4,5,6,7,8,9,10,11]"
   ]
  },
  {
   "cell_type": "markdown",
   "metadata": {},
   "source": [
    "Compare the three methods below:"
   ]
  },
  {
   "cell_type": "code",
   "execution_count": null,
   "metadata": {
    "collapsed": false
   },
   "outputs": [],
   "source": [
    "count = 0\n",
    "for i in range(len(arr)):\n",
    "    if arr[i] > 1:\n",
    "        count += 1"
   ]
  },
  {
   "cell_type": "code",
   "execution_count": null,
   "metadata": {
    "collapsed": false
   },
   "outputs": [],
   "source": [
    "count = 0\n",
    "for i in arr:\n",
    "    if i > 1:\n",
    "        count += 1"
   ]
  },
  {
   "cell_type": "code",
   "execution_count": null,
   "metadata": {
    "collapsed": false
   },
   "outputs": [],
   "source": [
    "count = sum(1 for i in arr if i > 1)"
   ]
  },
  {
   "cell_type": "markdown",
   "metadata": {},
   "source": [
    "Good practice: if you use this expression more than once, name it a function."
   ]
  },
  {
   "cell_type": "code",
   "execution_count": null,
   "metadata": {
    "collapsed": false
   },
   "outputs": [],
   "source": [
    "def countif(f, arr):\n",
    "    return sum(1 for i in arr if f(i))\n",
    "\n",
    "countif(lambda x: x > 1, arr)"
   ]
  },
  {
   "cell_type": "markdown",
   "metadata": {
    "collapsed": true
   },
   "source": [
    "## Exceptions"
   ]
  },
  {
   "cell_type": "code",
   "execution_count": null,
   "metadata": {
    "collapsed": true
   },
   "outputs": [],
   "source": [
    "a = 'abc'\n",
    "a = int(a) # this would raise an Error"
   ]
  },
  {
   "cell_type": "code",
   "execution_count": null,
   "metadata": {
    "collapsed": false
   },
   "outputs": [],
   "source": [
    "try:\n",
    "    a = int(a)\n",
    "except (ValueError, TypeError):\n",
    "    a = 0\n",
    "    \n",
    "print(a)"
   ]
  },
  {
   "cell_type": "markdown",
   "metadata": {},
   "source": [
    "# Tasks\n",
    "\n",
    "Some problems to work out. \n",
    "\n",
    "(Thanks to Joshua Meyers for providing some of the one-liner solutions!)"
   ]
  },
  {
   "cell_type": "markdown",
   "metadata": {},
   "source": [
    "## Task 1\n",
    "\n",
    "Write a function: \n",
    "- Take one string as input\n",
    "- Return `Ture` if there exists an integer character *AND* its value matches its index in that string. Reture `False` otherwise.\n",
    "\n",
    "Examples:\n",
    "\n",
    "    task1('000')    => True      # '0' at index 0\n",
    "    task1('abc')    => False     # no integer character\n",
    "    task1('321')    => False     # no matchin indices\n",
    "    task1('abc321') => True      # '3' at index 3"
   ]
  },
  {
   "cell_type": "code",
   "execution_count": null,
   "metadata": {
    "collapsed": false
   },
   "outputs": [],
   "source": [
    "def task1(s):\n",
    "    return any(str(i)==c for i, c in enumerate(s[:10])) "
   ]
  },
  {
   "cell_type": "markdown",
   "metadata": {},
   "source": [
    "## Task 2\n",
    "\n",
    "Write a function: \n",
    "-   Take one list of numbers as input\n",
    "-   Return `True` if the numbers in the list are monotone (strictly) decreasing. Reture `False` otherwise.\n",
    "\n",
    "Examples:\n",
    "\n",
    "    task2([4,3,1,2])   => False\n",
    "    task2([4,3,2,1])   => True\n",
    "    task2([4,3,2,2,1]) => False"
   ]
  },
  {
   "cell_type": "code",
   "execution_count": null,
   "metadata": {
    "collapsed": true
   },
   "outputs": [],
   "source": [
    "def task2(numbers):\n",
    "    try:\n",
    "        n = numbers[0]\n",
    "    except IndexError: # the input list is empty\n",
    "        return True\n",
    "    for m in numbers[1:]:\n",
    "        if m >= n:\n",
    "            return False\n",
    "        n = m\n",
    "    return True"
   ]
  },
  {
   "cell_type": "code",
   "execution_count": null,
   "metadata": {
    "collapsed": true
   },
   "outputs": [],
   "source": [
    "# alternative, an one liner, using `zip`\n",
    "\n",
    "def task2(numbers):\n",
    "    return all(m < n for m, n in zip(numbers[1:], numbers[:-1]))"
   ]
  },
  {
   "cell_type": "markdown",
   "metadata": {},
   "source": [
    "## Task 3\n",
    "\n",
    "Write a function: \n",
    "-   Take two lists of numbers as input\n",
    "-   Return `True` if the following two criteria are both true:\n",
    "    1.  The second list is longer than or of the same length as the first list.\n",
    "    2.  Each element in the second list is larger than or equal to the corresponding element (i.e., at the same index)\n",
    "        in the first list.\n",
    "-  Reture `False` otherwise.\n",
    "\n",
    "Examples:\n",
    "\n",
    "    task3([3,2,1,0], [1,2,3,4])   => False\n",
    "    task3([3,2,1,0], [9,8,7])     => False\n",
    "    task3([3,2,1,0], [9,8,7,6])   => True\n",
    "    task3([3,2,1,0], [9,8,7,6,5]) => True\n"
   ]
  },
  {
   "cell_type": "code",
   "execution_count": null,
   "metadata": {
    "collapsed": true
   },
   "outputs": [],
   "source": [
    "def task3(list1, list2):\n",
    "    return len(list2) >= len(list1) and all(y >= x for x, y in zip(list1, list2))"
   ]
  },
  {
   "cell_type": "markdown",
   "metadata": {},
   "source": [
    "## Task 4\n",
    "\n",
    "Write a function: \n",
    "-   Take a string as input\n",
    "-   Return a tuple whichs contains two numbers\n",
    "    1. The first number is the number of unique characters in the input string.\n",
    "    2. The second number is maximal occurance of a single character.\n",
    "\n",
    "Examples:\n",
    "\n",
    "    task4('apple')       => (4, 2)\n",
    "    task4('universe')    => (7, 2)\n",
    "    task4('mississippi') => (4, 4)\n",
    "    task4('')            => (0, 0)"
   ]
  },
  {
   "cell_type": "code",
   "execution_count": null,
   "metadata": {
    "collapsed": false
   },
   "outputs": [],
   "source": [
    "# using `dict`\n",
    "\n",
    "def task4(s):\n",
    "    d = dict()\n",
    "    for c in s:\n",
    "        if c in d:\n",
    "            d[c] += 1\n",
    "        else:\n",
    "            d[c] = 1\n",
    "    return len(d), max(d.values()) if d else 0"
   ]
  },
  {
   "cell_type": "code",
   "execution_count": null,
   "metadata": {
    "collapsed": true
   },
   "outputs": [],
   "source": [
    "# using `defaultdict`\n",
    "\n",
    "from collections import defaultdict\n",
    "\n",
    "def task4(s):\n",
    "    d = defaultdict(int)\n",
    "    for c in s:\n",
    "        d[c] += 1\n",
    "    return len(d), max(d.values()) if d else 0"
   ]
  },
  {
   "cell_type": "code",
   "execution_count": null,
   "metadata": {
    "collapsed": true
   },
   "outputs": [],
   "source": [
    "# using `set`\n",
    "\n",
    "def task4(s):\n",
    "    unique_char = set(s)\n",
    "    max_occurance = max(s.count(c) for c in unique_char) if unique_char else 0\n",
    "    return len(unique_char), max_occurance"
   ]
  },
  {
   "cell_type": "code",
   "execution_count": null,
   "metadata": {
    "collapsed": true
   },
   "outputs": [],
   "source": [
    "# alternatively, an one liner\n",
    "\n",
    "def task4(s):\n",
    "    return len(set(s)), max(s.count(c) for c in s) if s else 0"
   ]
  },
  {
   "cell_type": "markdown",
   "metadata": {},
   "source": [
    "## Task 5\n",
    "\n",
    "Write a function: \n",
    "-   Take two arguments:\n",
    "    1. a list of lists\n",
    "    2. an integer, n\n",
    "-   Return a list, which collects the n-th element of each list in the input list, in the same order. (0-indexed)\n",
    "-   Note: if a list in the input list is shorter than n+1, put `None` as the corresponding element in the returned list.\n",
    "\n",
    "Examples:\n",
    "\n",
    "    task5([[1, 2, 3], [4, 5, 6], [7, 8], [9, 10]], 1)       => [2, 5, 8, 10]\n",
    "    task5([[1, 2, 3], [4, 5, 6], [7, 8], [9, 10]], 2)       => [3, 6, None, None]\n",
    "    task5([[], [], [], [], []], 0)                          => [None, None, None, None, None]"
   ]
  },
  {
   "cell_type": "code",
   "execution_count": null,
   "metadata": {
    "collapsed": true
   },
   "outputs": [],
   "source": [
    "def task5(lists, n):\n",
    "    return_arr = list()\n",
    "    for this_list in lists:\n",
    "        try:\n",
    "            item = this_list[n]\n",
    "        except IndexError:\n",
    "            item = None\n",
    "        return_arr.append(item)\n",
    "    return return_arr"
   ]
  },
  {
   "cell_type": "code",
   "execution_count": null,
   "metadata": {
    "collapsed": true
   },
   "outputs": [],
   "source": [
    "# alternative, an one liner, using list comprehension\n",
    "\n",
    "def task5(lists, n):\n",
    "    return [this_list[n] if n < len(this_list) and n >= -len(this_list) else None for this_list in lists]"
   ]
  }
 ],
 "metadata": {
  "kernelspec": {
   "display_name": "Python 2",
   "language": "python",
   "name": "python2"
  },
  "language_info": {
   "codemirror_mode": {
    "name": "ipython",
    "version": 2
   },
   "file_extension": ".py",
   "mimetype": "text/x-python",
   "name": "python",
   "nbconvert_exporter": "python",
   "pygments_lexer": "ipython2",
   "version": "2.7.12"
  }
 },
 "nbformat": 4,
 "nbformat_minor": 0
}
