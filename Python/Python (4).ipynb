{
 "cells": [
  {
   "cell_type": "markdown",
   "metadata": {},
   "source": [
    "# Python Object Oriented Programming\n",
    "\n",
    "This is a tutorial on basic Python syntax and concepts for the [KIPAC computing boot camp](http://kipac.github.io/BootCamp).\n",
    "\n",
    "Author: [Sean McLaughlin](https://github.com/mclaughlin6464)"
   ]
  },
  {
   "cell_type": "markdown",
   "metadata": {},
   "source": [
    "Object Oriented Programming (OOP) is arguably the most popular programming paradigm. It refers to a \"style\" of programming, partly in the user's control and partly emphasized by the programming language itself. Python, for example, was built from the start as an OOP language. That means that much of the language's built-ins follow and OOP design, and making your own objects is easy. \n",
    "\n",
    "**Disclaimer:** OOP is a powerful and popular programming paradigm. It is not, however, the only one. Some people have very, *very* strong opinions on this. For the next hour, we'll ignore those people. However, keep in mind going forward there are other was to design a program, and OOP is not always the best way! "
   ]
  },
  {
   "cell_type": "markdown",
   "metadata": {},
   "source": [
    "# TODO DELETME\n",
    "Topics to cover:\n",
    "* Iheritance\n",
    "* Abstract classes"
   ]
  },
  {
   "cell_type": "markdown",
   "metadata": {},
   "source": [
    "-----\n",
    "### Part 0: What is OOP?"
   ]
  },
  {
   "cell_type": "markdown",
   "metadata": {},
   "source": [
    "What *is* an object?\n",
    "\n",
    "Well, first what *is* programming? \n",
    "\n",
    "Programming, in the most abstract sense, is defining logic to perform manipulations on data. \n",
    "\n",
    "An object is an abstract... um... *object* that contains both its relevant data and functions to manipulate that data. It follows from the idea that what we really care about are these abstract objects than the logic or data separately. "
   ]
  },
  {
   "cell_type": "markdown",
   "metadata": {},
   "source": [
    "Ok sure but... what *is* an object?\n",
    "\n",
    "It can be a lot of things. It can represent something real, like a student or an astronomical object. It can represent something more abstract, like a statistical model or a cosmology. It could even be something completely abstract. For example, all the widgets and cells in this notebook are actually objects within the Jupyter code. \n",
    "\n",
    "\n",
    "Programming with objects allows you to design your programs the way you actually understand the logic yourself. "
   ]
  },
  {
   "cell_type": "markdown",
   "metadata": {},
   "source": [
    "---\n",
    "### Part 1: Python Classes "
   ]
  },
  {
   "cell_type": "markdown",
   "metadata": {},
   "source": [
    "Let's make a simple class to get started. "
   ]
  },
  {
   "cell_type": "code",
   "execution_count": 1,
   "metadata": {
    "collapsed": true
   },
   "outputs": [],
   "source": [
    "class Student(object):\n",
    "    'A class defining a student!'\n",
    "    \n",
    "    def __init__(self, name, gpa, major = 'Physics'):\n",
    "        '''\n",
    "        Initialize the student. \n",
    "        \n",
    "        name: String, the student's name\n",
    "        gpa: The student's overall gpa\n",
    "        major: The student's major. Default is Physics. \n",
    "        '''\n",
    "        self.name = name\n",
    "        self.gpa = gpa\n",
    "        self.major = major\n",
    "        \n",
    "    def change_major(self, new_major):\n",
    "        '''\n",
    "        Change the student's major. \n",
    "        \n",
    "        new_major: str, the student's new major\n",
    "        '''\n",
    "        if new_major != self.major:\n",
    "            self.major=new_major\n",
    "        else:\n",
    "            print \"%s is already %s's major!\"%(self.major, self.name)\n",
    "        "
   ]
  },
  {
   "cell_type": "markdown",
   "metadata": {},
   "source": [
    "There's a lot to unpack here, so lets break it down. We've defined a class `Student` that has three attributes and two methods.\n",
    "\n",
    "The attributes are:\n",
    "* name\n",
    "* gpa\n",
    "* major\n",
    "\n",
    "And the methods are:\n",
    "* \\__init__\n",
    "* change_major\n",
    "\n",
    "How do these work? Let's make some instances to see. "
   ]
  },
  {
   "cell_type": "code",
   "execution_count": 17,
   "metadata": {
    "collapsed": false
   },
   "outputs": [
    {
     "name": "stdout",
     "output_type": "stream",
     "text": [
      "<class '__main__.Student'>\n",
      "Sean 3.0 Physics\n",
      "Physics is already Sean's major!\n",
      "A class defining a student!\n"
     ]
    }
   ],
   "source": [
    "student1 = Student('Sean', 3.0)\n",
    "print type(student1)\n",
    "print student1.name, student1.gpa, student1.major\n",
    "student2 = Student('Alice', 4.5, major='Biology')\n",
    "\n",
    "student2.change_major('Physics')#she wised up\n",
    "student1.change_major('Physics')#this should print! \n",
    "print student1.__doc__ #access the docstring"
   ]
  },
  {
   "cell_type": "markdown",
   "metadata": {},
   "source": [
    "There's a few things to notice here:\n",
    "* student1 and student2 are *instances* of the student object. \n",
    "* We can access a Student's attributes and methods via `.` syntax\n",
    "* The \\__init\\__ method is what is called the *constructor*. It details the initialization of the instance. \n",
    "* Both methods have *self* as their first argument, but it is not passed in when called. This is how class methods are defined, and allows them to access the object's attributes.\n",
    "* Pay close attention to how the `Student` object is declared. It *inherits* from the `object` class. We'll discuss what that means in more detail later, but it is not exactly necessary to do that. It is, however, strongly encouraged. "
   ]
  },
  {
   "cell_type": "code",
   "execution_count": 3,
   "metadata": {
    "collapsed": true
   },
   "outputs": [],
   "source": [
    "class Student2:\n",
    "    'A class defining a student!'\n",
    "    \n",
    "    def __init__(self, name, gpa, major = 'Physics'):\n",
    "        '''\n",
    "        Initialize the student. \n",
    "        \n",
    "        name: String, the student's name\n",
    "        gpa: The student's overall gpa\n",
    "        major: The student's major. Default is Physics. \n",
    "        '''\n",
    "        self.name = name\n",
    "        self.gpa = gpa\n",
    "        self.major = major\n",
    "        \n",
    "    def change_major(self, new_major):\n",
    "        '''\n",
    "        Change the student's major. \n",
    "        \n",
    "        new_major: str, the student's new major\n",
    "        '''\n",
    "        if new_major != self.major:\n",
    "            self.major=new_major\n",
    "        else:\n",
    "            print \"%s is already %s's major!\"%(self.major, self.name)\n",
    "        "
   ]
  },
  {
   "cell_type": "code",
   "execution_count": 4,
   "metadata": {
    "collapsed": false
   },
   "outputs": [
    {
     "name": "stdout",
     "output_type": "stream",
     "text": [
      "Sean 3.0 Physics\n",
      "Physics is already Sean's major!\n",
      "A class defining a student!\n"
     ]
    }
   ],
   "source": [
    "#run the same code without inheriting from object\n",
    "student1 = Student2('Sean', 3.0)\n",
    "print student1.name, student1.gpa, student1.major\n",
    "student2 = Student2('Alice', 4.5, major='Biology')\n",
    "\n",
    "student2.change_major('Physics')#she wised up\n",
    "student1.change_major('Physics')#this should print! \n",
    "print student1.__doc__ #access the docstring"
   ]
  },
  {
   "cell_type": "markdown",
   "metadata": {},
   "source": [
    "Python 2 supports these \"old style classes\" for backward compatibility reasons, but Python 3 does not. They function the same way in a number of ways, but they differ in subtle ways; just use new style classes! You can read more about the details [here](https://wiki.python.org/moin/NewClassVsClassicClass). \n",
    "\n",
    "---\n",
    "### Excercise 1\n",
    "#### Answers Below\n",
    "Define a class named `Professor` with the following attributes:\n",
    "* A name attribute\n",
    "* An integer attribute `n_papers`\n",
    "* A boolean attribute `tenure` that defaults to `False`.\n",
    "\n",
    "And the following methods:\n",
    "* An `__init__` method that initializes the attributes\n",
    "* A `write_paper` method that increments `n_papers` by one. \n",
    "* A `check_tenure` method that sets `tenure` to true if `n_papers` is greater than 10. \n",
    "\n",
    "Make sure to test it out! "
   ]
  },
  {
   "cell_type": "code",
   "execution_count": null,
   "metadata": {
    "collapsed": true
   },
   "outputs": [],
   "source": []
  },
  {
   "cell_type": "markdown",
   "metadata": {},
   "source": [
    "---\n",
    "### Part 2: More Complex Objects and Operator Overloading\n",
    "\n",
    "Below I've defined a more complex object than the one above; take some time to read and understand it. What are its attributes and methods?"
   ]
  },
  {
   "cell_type": "code",
   "execution_count": 5,
   "metadata": {
    "collapsed": true
   },
   "outputs": [],
   "source": [
    "from math import pi\n",
    "class Planet(object):\n",
    "    'A class defining the attributes of a planet.'\n",
    "    \n",
    "    G = 6.67e-11 #Newton's constant in SI units\n",
    "    \n",
    "    def __init__(self,name, order, mass,radius, moons=[]):\n",
    "        '''\n",
    "        Initialize the planet object.\n",
    "        name: str, the name of the planet\n",
    "        order: int, the planet's order in distance from the sun. \n",
    "        mass: float, The mass of the planet (in kg)\n",
    "        radius: float, radius of the planet (in m)\n",
    "        moons: list, a list of the names of the planet's moons. Default is an empty list. \n",
    "        '''\n",
    "        self.name = name\n",
    "        self.order = order\n",
    "        self.mass = mass\n",
    "        self.radius = radius\n",
    "        self.moons=moons\n",
    "        \n",
    "        volume = 4/3*pi*self.radius**3#volume is not stored\n",
    "        self._density = self.mass/volume\n",
    "        \n",
    "    def __cmp__(self, other):\n",
    "        '''\n",
    "        Define comparison between planets. Defined as the planet closer to the sun is \"less\"\n",
    "        \n",
    "        other: Another Planet object\n",
    "        \n",
    "        return: the difference of self and other's orders. \n",
    "        '''\n",
    "        return self.order-other.order\n",
    "    \n",
    "    def __str__(self):\n",
    "        return self.name\n",
    "\n",
    "    def num_moons(self):\n",
    "        '''\n",
    "        Return the number of moons the planet has\n",
    "        \n",
    "        return: Int, the number of moons\n",
    "        '''\n",
    "        return len(self.moons)\n",
    "    \n",
    "    def gravity(self, r):\n",
    "        '''\n",
    "        Calculate the acceleration due to gravity of the planet at a distance r.\n",
    "        r: float, the distance from the planet's center to calculate the force of gravity.\n",
    "        \n",
    "        return: float, the strength of gravity in m/s^2\n",
    "        '''\n",
    "        return self.G*self.mass/(r*r)\n",
    "    \n",
    "    def surface_gravity(self):\n",
    "        '''\n",
    "        Calculate the acceleration due to gravity on the planet's surface. \n",
    "        \n",
    "        return: float, the surface gravity in m/s^2\n",
    "        '''\n",
    "        return self.gravity(self.radius)"
   ]
  },
  {
   "cell_type": "markdown",
   "metadata": {},
   "source": [
    "This object has quite a bit more instances and methods. Some of which are easier to understand, like we used above. "
   ]
  },
  {
   "cell_type": "code",
   "execution_count": 6,
   "metadata": {
    "collapsed": false
   },
   "outputs": [
    {
     "name": "stdout",
     "output_type": "stream",
     "text": [
      "1\n",
      "6.67e-11\n",
      "9.81364678737\n",
      "3.983324\n"
     ]
    }
   ],
   "source": [
    "earth = Planet('Earth', 3, 5.972e24, 6.371e6, moons=['Luna'])\n",
    "print earth.num_moons()\n",
    "print earth.G\n",
    "print earth.surface_gravity()\n",
    "print earth.gravity(1e7)"
   ]
  },
  {
   "cell_type": "markdown",
   "metadata": {},
   "source": [
    "Most of that we've seen above, but what is `G`?. `G` is an example of a class variable; instead of being attached to an individual object it is attached to the class. \n",
    "\n",
    "All instances carry the same value of `G`. Note that if one instances class variable is modified, it does not change the other instances. And if we change it for the class, they do for new objects and those which have not already been changed! . It can be tough to keep track of, so it's not reccomended to modify these. "
   ]
  },
  {
   "cell_type": "code",
   "execution_count": 7,
   "metadata": {
    "collapsed": false
   },
   "outputs": [
    {
     "name": "stdout",
     "output_type": "stream",
     "text": [
      "6.67e-11 6.67e-11 6.67e-11\n",
      "1 6.67e-11 6.67e-11\n",
      "1 0 0\n",
      "0 0 0\n"
     ]
    }
   ],
   "source": [
    "mars = Planet('Mars', 4, 6.39e23, 3.39e6, moons=['Phobos', 'Deimos'] )\n",
    "print mars.G, earth.G, Planet.G\n",
    "mars.G = 1 #change for instance\n",
    "print mars.G, earth.G, Planet.G\n",
    "\n",
    "Planet.G = 0\n",
    "print mars.G, earth.G, Planet.G\n",
    "\n",
    "mars = Planet('Mars', 4, 6.39e23, 3.39e6, moons=['Phobos', 'Deimos'] )\n",
    "print mars.G, earth.G, Planet.G"
   ]
  },
  {
   "cell_type": "code",
   "execution_count": 9,
   "metadata": {
    "collapsed": false
   },
   "outputs": [
    {
     "name": "stdout",
     "output_type": "stream",
     "text": [
      "6.67e-11 6.67e-11 6.67e-11\n"
     ]
    }
   ],
   "source": [
    "#fix things. \n",
    "Planet.G=6.67e-11\n",
    "mars = Planet('Mars', 4, 6.39e23, 3.39e6, moons=['Phobos', 'Deimos'] )\n",
    "earth = Planet('Earth', 3, 5.972e24, 6.371e6, moons=['Luna'])\n",
    "print mars.G, earth.G, Planet.G"
   ]
  },
  {
   "cell_type": "markdown",
   "metadata": {},
   "source": [
    "Also notice that \n",
    "* The variable `volume` is not stored as an instance variable, so it can't be accessed. \n",
    "* The variable `_density` has one underscore. The one underscore symbolizes that the object should be treated as \"private\", but that is not enforced. If it had been named `__density`, the behavior would've been different. If you're interested in the way python sort of does private variables, read about [name mangling](https://en.wikipedia.org/wiki/Name_mangling#Python). \n",
    "* The method `surface_gravity` makes use of the instance method `gravity`; in fact it's a special case of that broader function. \n",
    "\n",
    "There is an elephant in the room, though. What about the `__*__` methods? That is the syntax for python's \"special\" or \"magic\" methods. They have defined behavior, and they can be used in your own objects. Let's take a look at how these methods work:"
   ]
  },
  {
   "cell_type": "code",
   "execution_count": 13,
   "metadata": {
    "collapsed": false
   },
   "outputs": [
    {
     "name": "stdout",
     "output_type": "stream",
     "text": [
      "Earth Mars\n",
      "Earth Mars\n"
     ]
    }
   ],
   "source": [
    "print str(earth), str(mars)# call __str__\n",
    "\n",
    "print earth.__str__(), mars.__str__()"
   ]
  },
  {
   "cell_type": "code",
   "execution_count": 16,
   "metadata": {
    "collapsed": false
   },
   "outputs": [
    {
     "name": "stdout",
     "output_type": "stream",
     "text": [
      "False\n",
      "False\n"
     ]
    }
   ],
   "source": [
    "print earth > mars # call __cmp__\n",
    "print 0 < earth.__cmp__(mars) "
   ]
  },
  {
   "cell_type": "markdown",
   "metadata": {},
   "source": [
    "What do we see here? These built-in functions and operations actually just call these \"magic\" methods!\n",
    "\n",
    "So overloading those operations allows you to define how those objects work with operations like these. This is operator overloading. You should skim all the ones that are available [here](https://docs.python.org/2/reference/datamodel.html)\n",
    "\n",
    "---\n",
    "### Aside\n",
    "\n",
    "This \"operator overloading\" is not just for user-defined objects. It is used in major third party packages and is essential to python itself. Take, for example, numpy's exceptionally powerful array object."
   ]
  },
  {
   "cell_type": "code",
   "execution_count": 12,
   "metadata": {
    "collapsed": false
   },
   "outputs": [
    {
     "name": "stdout",
     "output_type": "stream",
     "text": [
      "[0 1 2 3 4]\n",
      "[1 2 3 4 5]\n",
      "[10 11 12 13 14]\n",
      "[ True  True  True  True  True]\n",
      "[ 5  7  9 11 13]\n"
     ]
    }
   ],
   "source": [
    "import numpy as np\n",
    "x = np.array(range(5))\n",
    "print x\n",
    "print x+1 #overload __add__\n",
    "x+=10 #overload __iadd__\n",
    "print x\n",
    "print x>5 #overload __cmp__\n",
    "x = np.array(range(5))\n",
    "y = np.array(range(5,10))\n",
    "print x+y #overload __add__ with an alternative behavior"
   ]
  },
  {
   "cell_type": "markdown",
   "metadata": {},
   "source": [
    "What about these operations in python? Well this allows us to really peer under the hood of python."
   ]
  },
  {
   "cell_type": "code",
   "execution_count": 22,
   "metadata": {
    "collapsed": false
   },
   "outputs": [
    {
     "name": "stdout",
     "output_type": "stream",
     "text": [
      "2\n",
      "10\n"
     ]
    }
   ],
   "source": [
    "x = 1\n",
    "y= x.__add__(1)\n",
    "print y\n",
    "z = range(10)\n",
    "print z.__len__()"
   ]
  },
  {
   "cell_type": "markdown",
   "metadata": {},
   "source": [
    "This is how python objects work too! In python, everything is an object, and the objects you create are not that different than the built-ins! \n",
    "\n",
    "---\n",
    "### Excercise 2\n",
    "#### Answers Below\n",
    "\n",
    "Define a new class Professor2. It should have all the same instance variables as Professor. However:\n",
    "* redefine the `__iadd__` magic method to add to `n_papers` the value on the right and return self\n",
    "* overload the `__nonzero__` (similar to `bool`) method to have the same functionality as `check_tenure` and return `self.tenure`\n",
    "\n",
    "Write it below, and then run the cell below (and make sure it works!). "
   ]
  },
  {
   "cell_type": "code",
   "execution_count": null,
   "metadata": {
    "collapsed": true
   },
   "outputs": [],
   "source": []
  },
  {
   "cell_type": "code",
   "execution_count": null,
   "metadata": {
    "collapsed": true
   },
   "outputs": [],
   "source": [
    "prof = Professor2('Jim', 0)\n",
    "whlie not prof:\n",
    "    print prof.n_papers\n",
    "    prof+=1"
   ]
  },
  {
   "cell_type": "markdown",
   "metadata": {},
   "source": [
    "## Answers"
   ]
  },
  {
   "cell_type": "code",
   "execution_count": 13,
   "metadata": {
    "collapsed": true
   },
   "outputs": [],
   "source": [
    "#Excercise 1\n",
    "class Professor(object):\n",
    "    'A professor on a surprisngly easy tenure track.'\n",
    "    \n",
    "    def __init__(self,name, n_papers, tenure=False ):\n",
    "        'Initialize the professor.'\n",
    "        self.name = name\n",
    "        self.n_papers = n_papers\n",
    "        self.tenure=tenure\n",
    "        \n",
    "    def write_paper(self):\n",
    "        self.n_papers+=1\n",
    "        \n",
    "    def check_tenure(self):\n",
    "        self.tenure = self.n_papers > 10"
   ]
  },
  {
   "cell_type": "code",
   "execution_count": 16,
   "metadata": {
    "collapsed": false
   },
   "outputs": [
    {
     "name": "stdout",
     "output_type": "stream",
     "text": [
      "0\n",
      "1\n",
      "2\n",
      "3\n",
      "4\n",
      "5\n",
      "6\n",
      "7\n",
      "8\n",
      "9\n",
      "10\n"
     ]
    }
   ],
   "source": [
    "prof = Professor('Jim', 0)\n",
    "#Academia, in a nutshell\n",
    "while not prof.tenure:\n",
    "    print prof.n_papers\n",
    "    prof.write_paper()\n",
    "    prof.check_tenure()"
   ]
  },
  {
   "cell_type": "code",
   "execution_count": 39,
   "metadata": {
    "collapsed": true
   },
   "outputs": [],
   "source": [
    "#Excercise 2\n",
    "class Professor2(object):\n",
    "    'A professor on a surprisngly easy tenure track.'\n",
    "    \n",
    "    def __init__(self,name, n_papers, tenure=False ):\n",
    "        'Initialize the professor.'\n",
    "        self.name = name\n",
    "        self.n_papers = n_papers\n",
    "        self.tenure=tenure\n",
    "        \n",
    "    def __iadd__(self, other):\n",
    "        self.n_papers+=other\n",
    "        return self\n",
    "        \n",
    "    def __nonzero__(self):\n",
    "        self.tenure = self.n_papers > 10\n",
    "        return self.tenure"
   ]
  },
  {
   "cell_type": "code",
   "execution_count": 40,
   "metadata": {
    "collapsed": false
   },
   "outputs": [
    {
     "name": "stdout",
     "output_type": "stream",
     "text": [
      "0\n",
      "1\n",
      "2\n",
      "3\n",
      "4\n",
      "5\n",
      "6\n",
      "7\n",
      "8\n",
      "9\n",
      "10\n"
     ]
    }
   ],
   "source": [
    "prof = Professor2('Jim', 0)\n",
    "while not prof:\n",
    "    print prof.n_papers\n",
    "    prof+=1"
   ]
  },
  {
   "cell_type": "code",
   "execution_count": null,
   "metadata": {
    "collapsed": true
   },
   "outputs": [],
   "source": []
  }
 ],
 "metadata": {
  "kernelspec": {
   "display_name": "Python [default]",
   "language": "python",
   "name": "python2"
  },
  "language_info": {
   "codemirror_mode": {
    "name": "ipython",
    "version": 2
   },
   "file_extension": ".py",
   "mimetype": "text/x-python",
   "name": "python",
   "nbconvert_exporter": "python",
   "pygments_lexer": "ipython2",
   "version": "2.7.12"
  }
 },
 "nbformat": 4,
 "nbformat_minor": 0
}
