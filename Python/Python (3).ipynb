{
 "cells": [
  {
   "cell_type": "markdown",
   "metadata": {},
   "source": [
    "# Python: numpy, and matplotlib\n",
    "\n",
    "This is a tutorial on scientific Python for the [KIPAC computing boot camp](http://kipac.github.io/BootCamp).\n",
    "\n",
    "Authors: [Yao-Yuan Mao](http://yymao.github.io), [Joe DeRose](https://github.com/j-dr)"
   ]
  },
  {
   "cell_type": "code",
   "execution_count": 25,
   "metadata": {
    "collapsed": false
   },
   "outputs": [],
   "source": [
    "from __future__ import print_function, division\n",
    "import numpy as np\n",
    "import matplotlib.pyplot as plt\n",
    "%matplotlib inline\n",
    "from IPython.display import display"
   ]
  },
  {
   "cell_type": "markdown",
   "metadata": {},
   "source": [
    "Numpy and matplotlib are the workhorse packages of the scientist using python. Efficient use of numpy is the only way to perform most operations in a tractable amount of time in python. Once you've performed those operations, matplotlib is the go to package for visualization."
   ]
  },
  {
   "cell_type": "markdown",
   "metadata": {},
   "source": [
    "## numpy\n",
    "Why use numpy instead of regular old python?\n",
    "\n",
    "**python** has built-in:   \n",
    "containers: lists (costless insertion and append), dictionnaries (fast lookup)    \n",
    "high-level number objects: integers, floating point\n",
    "\n",
    "\n",
    "**numpy** is:   \n",
    "an extension package to Python for multidimensional arrays   \n",
    "closer to hardware (efficiency)   \n",
    "designed for scientific computation (convenience)   \n"
   ]
  },
  {
   "cell_type": "markdown",
   "metadata": {},
   "source": [
    "### Creating arrays\n",
    "The fundamental object in numpy is the ndarray. Here we will see how to create them."
   ]
  },
  {
   "cell_type": "code",
   "execution_count": 38,
   "metadata": {
    "collapsed": false
   },
   "outputs": [
    {
     "name": "stdout",
     "output_type": "stream",
     "text": [
      "The shape of this array is (10, 10)\n"
     ]
    },
    {
     "data": {
      "text/plain": [
       "array([[ 0.,  0.,  0.,  0.,  0.,  0.,  0.,  0.,  0.,  0.],\n",
       "       [ 0.,  0.,  0.,  0.,  0.,  0.,  0.,  0.,  0.,  0.],\n",
       "       [ 0.,  0.,  0.,  0.,  0.,  0.,  0.,  0.,  0.,  0.],\n",
       "       [ 0.,  0.,  0.,  0.,  0.,  0.,  0.,  0.,  0.,  0.],\n",
       "       [ 0.,  0.,  0.,  0.,  0.,  0.,  0.,  0.,  0.,  0.],\n",
       "       [ 0.,  0.,  0.,  0.,  0.,  0.,  0.,  0.,  0.,  0.],\n",
       "       [ 0.,  0.,  0.,  0.,  0.,  0.,  0.,  0.,  0.,  0.],\n",
       "       [ 0.,  0.,  0.,  0.,  0.,  0.,  0.,  0.,  0.,  0.],\n",
       "       [ 0.,  0.,  0.,  0.,  0.,  0.,  0.,  0.,  0.,  0.],\n",
       "       [ 0.,  0.,  0.,  0.,  0.,  0.,  0.,  0.,  0.,  0.]])"
      ]
     },
     "metadata": {},
     "output_type": "display_data"
    }
   ],
   "source": [
    "#an array of all zeros (pass in the shape of the array you want)\n",
    "shape = (10,10)\n",
    "z = np.ndarray(shape)\n",
    "print('The shape of this array is {0}'.format(z.shape))\n",
    "display(z)"
   ]
  },
  {
   "cell_type": "code",
   "execution_count": 39,
   "metadata": {
    "collapsed": false
   },
   "outputs": [
    {
     "data": {
      "text/plain": [
       "array([[ 0.,  0.,  0.,  0.,  0.,  0.,  0.,  0.,  0.,  0.],\n",
       "       [ 0.,  0.,  0.,  0.,  0.,  0.,  0.,  0.,  0.,  0.],\n",
       "       [ 0.,  0.,  0.,  0.,  0.,  0.,  0.,  0.,  0.,  0.],\n",
       "       [ 0.,  0.,  0.,  0.,  0.,  0.,  0.,  0.,  0.,  0.],\n",
       "       [ 0.,  0.,  0.,  0.,  0.,  0.,  0.,  0.,  0.,  0.],\n",
       "       [ 0.,  0.,  0.,  0.,  0.,  0.,  0.,  0.,  0.,  0.],\n",
       "       [ 0.,  0.,  0.,  0.,  0.,  0.,  0.,  0.,  0.,  0.],\n",
       "       [ 0.,  0.,  0.,  0.,  0.,  0.,  0.,  0.,  0.,  0.],\n",
       "       [ 0.,  0.,  0.,  0.,  0.,  0.,  0.,  0.,  0.,  0.],\n",
       "       [ 0.,  0.,  0.,  0.,  0.,  0.,  0.,  0.,  0.,  0.]])"
      ]
     },
     "metadata": {},
     "output_type": "display_data"
    },
    {
     "data": {
      "text/plain": [
       "array([[ 0.,  0.,  0.,  0.,  0.,  0.,  0.,  0.,  0.,  0.],\n",
       "       [ 0.,  0.,  0.,  0.,  0.,  0.,  0.,  0.,  0.,  0.],\n",
       "       [ 0.,  0.,  0.,  0.,  0.,  0.,  0.,  0.,  0.,  0.],\n",
       "       [ 0.,  0.,  0.,  0.,  0.,  0.,  0.,  0.,  0.,  0.],\n",
       "       [ 0.,  0.,  0.,  0.,  0.,  0.,  0.,  0.,  0.,  0.],\n",
       "       [ 0.,  0.,  0.,  0.,  0.,  0.,  0.,  0.,  0.,  0.],\n",
       "       [ 0.,  0.,  0.,  0.,  0.,  0.,  0.,  0.,  0.,  0.],\n",
       "       [ 0.,  0.,  0.,  0.,  0.,  0.,  0.,  0.,  0.,  0.],\n",
       "       [ 0.,  0.,  0.,  0.,  0.,  0.,  0.,  0.,  0.,  0.],\n",
       "       [ 0.,  0.,  0.,  0.,  0.,  0.,  0.,  0.,  0.,  0.]])"
      ]
     },
     "metadata": {},
     "output_type": "display_data"
    }
   ],
   "source": [
    "#an array of zeros\n",
    "z = np.zeros(shape)\n",
    "display(z)\n",
    "o = np.zeros(shape)\n",
    "display(o)"
   ]
  },
  {
   "cell_type": "code",
   "execution_count": 27,
   "metadata": {
    "collapsed": false
   },
   "outputs": [
    {
     "data": {
      "text/plain": [
       "array([ 0,  1,  2,  3,  4,  5,  6,  7,  8,  9, 10, 11, 12, 13, 14, 15, 16,\n",
       "       17, 18, 19, 20, 21, 22, 23, 24, 25, 26, 27, 28, 29, 30, 31, 32, 33,\n",
       "       34, 35, 36, 37, 38, 39, 40, 41, 42, 43, 44, 45, 46, 47, 48, 49, 50,\n",
       "       51, 52, 53, 54, 55, 56, 57, 58, 59, 60, 61, 62, 63, 64, 65, 66, 67,\n",
       "       68, 69, 70, 71, 72, 73, 74, 75, 76, 77, 78, 79, 80, 81, 82, 83, 84,\n",
       "       85, 86, 87, 88, 89, 90, 91, 92, 93, 94, 95, 96, 97, 98, 99])"
      ]
     },
     "metadata": {},
     "output_type": "display_data"
    }
   ],
   "source": [
    "#A range of integers\n",
    "a = np.arange(100)\n",
    "display(a)"
   ]
  },
  {
   "cell_type": "code",
   "execution_count": 44,
   "metadata": {
    "collapsed": false
   },
   "outputs": [
    {
     "data": {
      "text/plain": [
       "array([ 0.        ,  0.05050505,  0.1010101 ,  0.15151515,  0.2020202 ,\n",
       "        0.25252525,  0.3030303 ,  0.35353535,  0.4040404 ,  0.45454545,\n",
       "        0.50505051,  0.55555556,  0.60606061,  0.65656566,  0.70707071,\n",
       "        0.75757576,  0.80808081,  0.85858586,  0.90909091,  0.95959596,\n",
       "        1.01010101,  1.06060606,  1.11111111,  1.16161616,  1.21212121,\n",
       "        1.26262626,  1.31313131,  1.36363636,  1.41414141,  1.46464646,\n",
       "        1.51515152,  1.56565657,  1.61616162,  1.66666667,  1.71717172,\n",
       "        1.76767677,  1.81818182,  1.86868687,  1.91919192,  1.96969697,\n",
       "        2.02020202,  2.07070707,  2.12121212,  2.17171717,  2.22222222,\n",
       "        2.27272727,  2.32323232,  2.37373737,  2.42424242,  2.47474747,\n",
       "        2.52525253,  2.57575758,  2.62626263,  2.67676768,  2.72727273,\n",
       "        2.77777778,  2.82828283,  2.87878788,  2.92929293,  2.97979798,\n",
       "        3.03030303,  3.08080808,  3.13131313,  3.18181818,  3.23232323,\n",
       "        3.28282828,  3.33333333,  3.38383838,  3.43434343,  3.48484848,\n",
       "        3.53535354,  3.58585859,  3.63636364,  3.68686869,  3.73737374,\n",
       "        3.78787879,  3.83838384,  3.88888889,  3.93939394,  3.98989899,\n",
       "        4.04040404,  4.09090909,  4.14141414,  4.19191919,  4.24242424,\n",
       "        4.29292929,  4.34343434,  4.39393939,  4.44444444,  4.49494949,\n",
       "        4.54545455,  4.5959596 ,  4.64646465,  4.6969697 ,  4.74747475,\n",
       "        4.7979798 ,  4.84848485,  4.8989899 ,  4.94949495,  5.        ])"
      ]
     },
     "metadata": {},
     "output_type": "display_data"
    }
   ],
   "source": [
    "#An array with numbers at linearly spaced intervals\n",
    "l = np.linspace(0,5,100)\n",
    "display(l)"
   ]
  },
  {
   "cell_type": "code",
   "execution_count": 45,
   "metadata": {
    "collapsed": false
   },
   "outputs": [
    {
     "data": {
      "text/plain": [
       "array([  1.00000000e+01,   1.09749877e+01,   1.20450354e+01,\n",
       "         1.32194115e+01,   1.45082878e+01,   1.59228279e+01,\n",
       "         1.74752840e+01,   1.91791026e+01,   2.10490414e+01,\n",
       "         2.31012970e+01,   2.53536449e+01,   2.78255940e+01,\n",
       "         3.05385551e+01,   3.35160265e+01,   3.67837977e+01,\n",
       "         4.03701726e+01,   4.43062146e+01,   4.86260158e+01,\n",
       "         5.33669923e+01,   5.85702082e+01,   6.42807312e+01,\n",
       "         7.05480231e+01,   7.74263683e+01,   8.49753436e+01,\n",
       "         9.32603347e+01,   1.02353102e+02,   1.12332403e+02,\n",
       "         1.23284674e+02,   1.35304777e+02,   1.48496826e+02,\n",
       "         1.62975083e+02,   1.78864953e+02,   1.96304065e+02,\n",
       "         2.15443469e+02,   2.36448941e+02,   2.59502421e+02,\n",
       "         2.84803587e+02,   3.12571585e+02,   3.43046929e+02,\n",
       "         3.76493581e+02,   4.13201240e+02,   4.53487851e+02,\n",
       "         4.97702356e+02,   5.46227722e+02,   5.99484250e+02,\n",
       "         6.57933225e+02,   7.22080902e+02,   7.92482898e+02,\n",
       "         8.69749003e+02,   9.54548457e+02,   1.04761575e+03,\n",
       "         1.14975700e+03,   1.26185688e+03,   1.38488637e+03,\n",
       "         1.51991108e+03,   1.66810054e+03,   1.83073828e+03,\n",
       "         2.00923300e+03,   2.20513074e+03,   2.42012826e+03,\n",
       "         2.65608778e+03,   2.91505306e+03,   3.19926714e+03,\n",
       "         3.51119173e+03,   3.85352859e+03,   4.22924287e+03,\n",
       "         4.64158883e+03,   5.09413801e+03,   5.59081018e+03,\n",
       "         6.13590727e+03,   6.73415066e+03,   7.39072203e+03,\n",
       "         8.11130831e+03,   8.90215085e+03,   9.77009957e+03,\n",
       "         1.07226722e+04,   1.17681195e+04,   1.29154967e+04,\n",
       "         1.41747416e+04,   1.55567614e+04,   1.70735265e+04,\n",
       "         1.87381742e+04,   2.05651231e+04,   2.25701972e+04,\n",
       "         2.47707636e+04,   2.71858824e+04,   2.98364724e+04,\n",
       "         3.27454916e+04,   3.59381366e+04,   3.94420606e+04,\n",
       "         4.32876128e+04,   4.75081016e+04,   5.21400829e+04,\n",
       "         5.72236766e+04,   6.28029144e+04,   6.89261210e+04,\n",
       "         7.56463328e+04,   8.30217568e+04,   9.11162756e+04,\n",
       "         1.00000000e+05])"
      ]
     },
     "metadata": {},
     "output_type": "display_data"
    }
   ],
   "source": [
    "#An array with numbers at log spaced intervals\n",
    "l = np.logspace(1,5,100)\n",
    "display(l)"
   ]
  },
  {
   "cell_type": "code",
   "execution_count": 34,
   "metadata": {
    "collapsed": false
   },
   "outputs": [
    {
     "name": "stdout",
     "output_type": "stream",
     "text": [
      "<type 'list'>\n",
      "<type 'numpy.ndarray'>\n",
      "[0, 1, 2, 3, 4, 5, 6, 7, 8, 9, 10, 11, 12, 13, 14, 15, 16, 17, 18, 19, 20, 21, 22, 23, 24, 25, 26, 27, 28, 29, 30, 31, 32, 33, 34, 35, 36, 37, 38, 39, 40, 41, 42, 43, 44, 45, 46, 47, 48, 49, 50, 51, 52, 53, 54, 55, 56, 57, 58, 59, 60, 61, 62, 63, 64, 65, 66, 67, 68, 69, 70, 71, 72, 73, 74, 75, 76, 77, 78, 79, 80, 81, 82, 83, 84, 85, 86, 87, 88, 89, 90, 91, 92, 93, 94, 95, 96, 97, 98, 99]\n"
     ]
    },
    {
     "data": {
      "text/plain": [
       "array([ 0,  1,  2,  3,  4,  5,  6,  7,  8,  9, 10, 11, 12, 13, 14, 15, 16,\n",
       "       17, 18, 19, 20, 21, 22, 23, 24, 25, 26, 27, 28, 29, 30, 31, 32, 33,\n",
       "       34, 35, 36, 37, 38, 39, 40, 41, 42, 43, 44, 45, 46, 47, 48, 49, 50,\n",
       "       51, 52, 53, 54, 55, 56, 57, 58, 59, 60, 61, 62, 63, 64, 65, 66, 67,\n",
       "       68, 69, 70, 71, 72, 73, 74, 75, 76, 77, 78, 79, 80, 81, 82, 83, 84,\n",
       "       85, 86, 87, 88, 89, 90, 91, 92, 93, 94, 95, 96, 97, 98, 99])"
      ]
     },
     "metadata": {},
     "output_type": "display_data"
    }
   ],
   "source": [
    "#1-d array creation from a list\n",
    "l = range(100)\n",
    "la = np.array(l)\n",
    "print(type(l))\n",
    "print(type(la))\n",
    "print(l)\n",
    "display(la)"
   ]
  },
  {
   "cell_type": "code",
   "execution_count": 43,
   "metadata": {
    "collapsed": false
   },
   "outputs": [
    {
     "data": {
      "text/plain": [
       "array([[0, 1, 2],\n",
       "       [3, 4, 5]])"
      ]
     },
     "metadata": {},
     "output_type": "display_data"
    },
    {
     "name": "stdout",
     "output_type": "stream",
     "text": [
      "(2, 3)\n"
     ]
    }
   ],
   "source": [
    "#2-d array creation from a list\n",
    "l = [[0,1,2], [3,4,5]]\n",
    "la = np.array(l)\n",
    "display(la)\n",
    "print(la.shape)\n"
   ]
  },
  {
   "cell_type": "code",
   "execution_count": 42,
   "metadata": {
    "collapsed": false
   },
   "outputs": [
    {
     "data": {
      "text/plain": [
       "array([[[1],\n",
       "        [2]],\n",
       "\n",
       "       [[3],\n",
       "        [4]]])"
      ]
     },
     "metadata": {},
     "output_type": "display_data"
    },
    {
     "name": "stdout",
     "output_type": "stream",
     "text": [
      "(2, 2, 1)\n"
     ]
    }
   ],
   "source": [
    "#3-d array\n",
    "c = np.array([[[1], [2]], [[3], [4]]])\n",
    "display(c)\n",
    "print(c.shape)"
   ]
  },
  {
   "cell_type": "markdown",
   "metadata": {},
   "source": [
    "### Data types"
   ]
  },
  {
   "cell_type": "code",
   "execution_count": 50,
   "metadata": {
    "collapsed": false
   },
   "outputs": [
    {
     "name": "stdout",
     "output_type": "stream",
     "text": [
      "This array has type int64\n",
      "This array has type float64\n"
     ]
    }
   ],
   "source": [
    "#these are different arrays!\n",
    "a = np.array([1, 2, 3])\n",
    "print('This array has type {0}'.format(a.dtype))\n",
    "\n",
    "\n",
    "b = np.array([1., 2., 3.])\n",
    "print('This array has type {0}'.format(b.dtype))\n"
   ]
  },
  {
   "cell_type": "markdown",
   "metadata": {},
   "source": [
    "Type can be specified"
   ]
  },
  {
   "cell_type": "code",
   "execution_count": 55,
   "metadata": {
    "collapsed": false
   },
   "outputs": [
    {
     "name": "stdout",
     "output_type": "stream",
     "text": [
      "int64\n",
      "float64\n"
     ]
    }
   ],
   "source": [
    "a = np.array([0.,1.,2.], dtype=int)\n",
    "print(a.dtype)\n",
    "\n",
    "#default dtype is float\n",
    "a = np.zeros(2)\n",
    "print(a.dtype)"
   ]
  },
  {
   "cell_type": "code",
   "execution_count": 57,
   "metadata": {
    "collapsed": false
   },
   "outputs": [
    {
     "data": {
      "text/plain": [
       "array([(1.0, 1, ''), (1.0, 1, ''), (1.0, 1, '')], \n",
       "      dtype=[('c1', '<f8'), ('c2', '<i8'), ('c3', 'S')])"
      ]
     },
     "metadata": {},
     "output_type": "display_data"
    }
   ],
   "source": [
    "#more complex dtypes can be specified as well\n",
    "dt = np.dtype([('c1', np.float), ('c2', np.int), ('c3', str)])\n",
    "z = np.ones(3, dtype=dt)\n",
    "display(z)"
   ]
  },
  {
   "cell_type": "markdown",
   "metadata": {},
   "source": [
    "### Indexing and slicing"
   ]
  },
  {
   "cell_type": "code",
   "execution_count": 59,
   "metadata": {
    "collapsed": false
   },
   "outputs": [
    {
     "data": {
      "text/plain": [
       "(0, 4, 10)"
      ]
     },
     "execution_count": 59,
     "metadata": {},
     "output_type": "execute_result"
    }
   ],
   "source": [
    "a = np.arange(100)\n",
    "#numpy arrays are zero indexed\n",
    "a[0], a[4], a[10]"
   ]
  },
  {
   "cell_type": "code",
   "execution_count": 66,
   "metadata": {
    "collapsed": false
   },
   "outputs": [
    {
     "data": {
      "text/plain": [
       "array([[0, 0, 0],\n",
       "       [0, 1, 0],\n",
       "       [0, 0, 2]])"
      ]
     },
     "metadata": {},
     "output_type": "display_data"
    },
    {
     "name": "stdout",
     "output_type": "stream",
     "text": [
      "2\n"
     ]
    }
   ],
   "source": [
    "#indices of multi dimensional arrays are tuples of integers\n",
    "x = np.diag(np.arange(3))\n",
    "display(x)\n",
    "print(x[2,2])"
   ]
  },
  {
   "cell_type": "code",
   "execution_count": 67,
   "metadata": {
    "collapsed": false
   },
   "outputs": [
    {
     "name": "stdout",
     "output_type": "stream",
     "text": [
      "10\n"
     ]
    }
   ],
   "source": [
    "#setting elements\n",
    "x[2,2] = 10\n",
    "print(x[2,2])"
   ]
  },
  {
   "cell_type": "code",
   "execution_count": 68,
   "metadata": {
    "collapsed": false
   },
   "outputs": [
    {
     "data": {
      "text/plain": [
       "array([0, 2, 4, 6, 8])"
      ]
     },
     "execution_count": 68,
     "metadata": {},
     "output_type": "execute_result"
    }
   ],
   "source": [
    "#slicing\n",
    "x = np.arange(100)\n",
    "x[0:10:2] #syntax is same as for lists start:stop:step"
   ]
  },
  {
   "cell_type": "markdown",
   "metadata": {},
   "source": [
    "### Fancy Indexing"
   ]
  },
  {
   "cell_type": "code",
   "execution_count": 74,
   "metadata": {
    "collapsed": false
   },
   "outputs": [
    {
     "data": {
      "text/plain": [
       "array([10, 20, 45])"
      ]
     },
     "execution_count": 74,
     "metadata": {},
     "output_type": "execute_result"
    }
   ],
   "source": [
    "#you can also use lists or other numpy arrays to index\n",
    "x = np.arange(200)\n",
    "x[[10,20,45]]"
   ]
  },
  {
   "cell_type": "code",
   "execution_count": 93,
   "metadata": {
    "collapsed": false
   },
   "outputs": [
    {
     "data": {
      "text/plain": [
       "array([[3, 4],\n",
       "       [9, 7]])"
      ]
     },
     "execution_count": 93,
     "metadata": {},
     "output_type": "execute_result"
    }
   ],
   "source": [
    "#when indexing with arrays of ints, the output takes the shape of the index\n",
    "a = np.arange(10)\n",
    "idx = np.array([[3, 4], [9, 7]])\n",
    "a[idx]"
   ]
  },
  {
   "cell_type": "code",
   "execution_count": 104,
   "metadata": {
    "collapsed": false
   },
   "outputs": [
    {
     "name": "stdout",
     "output_type": "stream",
     "text": [
      "[10  3  8  0 19 10 11  9 10  6  0 12  7 14 17]\n",
      "[False  True False  True False False False  True False  True  True  True\n",
      " False False False]\n"
     ]
    },
    {
     "data": {
      "text/plain": [
       "array([ 3,  0,  9,  6,  0, 12])"
      ]
     },
     "execution_count": 104,
     "metadata": {},
     "output_type": "execute_result"
    }
   ],
   "source": [
    "#we can also use boolean masks to index arrays\n",
    "np.random.seed(3)\n",
    "a = np.random.randint(0, 20, 15)\n",
    "print(a)\n",
    "print(a % 3 == 0)\n",
    "mask = (a % 3 == 0)\n",
    "extract_from_a = a[mask] # or,  a[a%3==0]\n",
    "extract_from_a "
   ]
  },
  {
   "cell_type": "markdown",
   "metadata": {},
   "source": [
    "But indexing like this is much slower. We will see why in a moment."
   ]
  },
  {
   "cell_type": "markdown",
   "metadata": {},
   "source": [
    "### Exercise 1"
   ]
  },
  {
   "cell_type": "code",
   "execution_count": 77,
   "metadata": {
    "collapsed": true
   },
   "outputs": [],
   "source": [
    "x = np.arange(10000)"
   ]
  },
  {
   "cell_type": "code",
   "execution_count": 80,
   "metadata": {
    "collapsed": false
   },
   "outputs": [
    {
     "name": "stdout",
     "output_type": "stream",
     "text": [
      "10000 loops, best of 3: 117 µs per loop\n",
      "The slowest run took 9.13 times longer than the fastest. This could mean that an intermediate result is being cached.\n",
      "1000000 loops, best of 3: 339 ns per loop\n"
     ]
    }
   ],
   "source": [
    "%timeit x[range(10000)[::100]]\n",
    "%timeit x[::100]"
   ]
  },
  {
   "cell_type": "markdown",
   "metadata": {},
   "source": [
    "### Views and copying"
   ]
  },
  {
   "cell_type": "code",
   "execution_count": 82,
   "metadata": {
    "collapsed": false
   },
   "outputs": [],
   "source": [
    "fa = x[range(10000)[::100]]\n",
    "sa = x[::100]"
   ]
  },
  {
   "cell_type": "code",
   "execution_count": 83,
   "metadata": {
    "collapsed": false
   },
   "outputs": [
    {
     "data": {
      "text/plain": [
       "False"
      ]
     },
     "execution_count": 83,
     "metadata": {},
     "output_type": "execute_result"
    }
   ],
   "source": [
    "fa.base is x"
   ]
  },
  {
   "cell_type": "code",
   "execution_count": 90,
   "metadata": {
    "collapsed": false
   },
   "outputs": [
    {
     "data": {
      "text/plain": [
       "True"
      ]
     },
     "execution_count": 90,
     "metadata": {},
     "output_type": "execute_result"
    }
   ],
   "source": [
    "#If an array does not own it's own data, we say it is a view of an array\n",
    "sa.base is x"
   ]
  },
  {
   "cell_type": "code",
   "execution_count": 100,
   "metadata": {
    "collapsed": false
   },
   "outputs": [
    {
     "data": {
      "text/plain": [
       "  C_CONTIGUOUS : False\n",
       "  F_CONTIGUOUS : False\n",
       "  OWNDATA : False\n",
       "  WRITEABLE : True\n",
       "  ALIGNED : True\n",
       "  UPDATEIFCOPY : False"
      ]
     },
     "execution_count": 100,
     "metadata": {},
     "output_type": "execute_result"
    }
   ],
   "source": [
    "#for instance, transposes of arrays are actually views\n",
    "sa.T.flags"
   ]
  },
  {
   "cell_type": "code",
   "execution_count": 89,
   "metadata": {
    "collapsed": false
   },
   "outputs": [
    {
     "name": "stdout",
     "output_type": "stream",
     "text": [
      "None\n"
     ]
    }
   ],
   "source": [
    "#if an array owns its own data, its base will be None\n",
    "print(fa.base)"
   ]
  },
  {
   "cell_type": "markdown",
   "metadata": {},
   "source": [
    "### Array operations"
   ]
  },
  {
   "cell_type": "markdown",
   "metadata": {},
   "source": [
    "### manipulating arrays"
   ]
  },
  {
   "cell_type": "markdown",
   "metadata": {},
   "source": [
    "### broadcasting"
   ]
  },
  {
   "cell_type": "code",
   "execution_count": null,
   "metadata": {
    "collapsed": false
   },
   "outputs": [],
   "source": [
    "a = np.arange(40).reshape(5, 8)\n",
    "display(a)"
   ]
  },
  {
   "cell_type": "code",
   "execution_count": null,
   "metadata": {
    "collapsed": false
   },
   "outputs": [],
   "source": [
    "a = a + 1"
   ]
  },
  {
   "cell_type": "code",
   "execution_count": null,
   "metadata": {
    "collapsed": false
   },
   "outputs": [],
   "source": [
    "display(a)"
   ]
  },
  {
   "cell_type": "code",
   "execution_count": null,
   "metadata": {
    "collapsed": false
   },
   "outputs": [],
   "source": [
    "a += 1\n",
    "display(a)"
   ]
  },
  {
   "cell_type": "code",
   "execution_count": null,
   "metadata": {
    "collapsed": false
   },
   "outputs": [],
   "source": [
    "b = np.arange(-1, -9, -1)\n",
    "display(b)"
   ]
  },
  {
   "cell_type": "code",
   "execution_count": null,
   "metadata": {
    "collapsed": false
   },
   "outputs": [],
   "source": [
    "a + b"
   ]
  },
  {
   "cell_type": "code",
   "execution_count": null,
   "metadata": {
    "collapsed": false
   },
   "outputs": [],
   "source": [
    "c = np.array([10,20,30,40,50], dtype=np.float64)\n",
    "display(c)"
   ]
  },
  {
   "cell_type": "code",
   "execution_count": null,
   "metadata": {
    "collapsed": false
   },
   "outputs": [],
   "source": [
    "a + c  # this would raise an error"
   ]
  },
  {
   "cell_type": "code",
   "execution_count": null,
   "metadata": {
    "collapsed": false
   },
   "outputs": [],
   "source": [
    "a += c[:,np.newaxis]"
   ]
  },
  {
   "cell_type": "markdown",
   "metadata": {},
   "source": [
    "### reduce"
   ]
  },
  {
   "cell_type": "code",
   "execution_count": null,
   "metadata": {
    "collapsed": false
   },
   "outputs": [],
   "source": [
    "a.sum()"
   ]
  },
  {
   "cell_type": "code",
   "execution_count": null,
   "metadata": {
    "collapsed": false
   },
   "outputs": [],
   "source": [
    "a.mean()"
   ]
  },
  {
   "cell_type": "code",
   "execution_count": null,
   "metadata": {
    "collapsed": false
   },
   "outputs": [],
   "source": [
    "a.sum(axis=1)"
   ]
  },
  {
   "cell_type": "code",
   "execution_count": null,
   "metadata": {
    "collapsed": false,
    "scrolled": true
   },
   "outputs": [],
   "source": [
    "a.max(axis=0)"
   ]
  },
  {
   "cell_type": "code",
   "execution_count": null,
   "metadata": {
    "collapsed": false
   },
   "outputs": [],
   "source": [
    "np.median(a, axis=1)"
   ]
  },
  {
   "cell_type": "code",
   "execution_count": null,
   "metadata": {
    "collapsed": false
   },
   "outputs": [],
   "source": [
    "np.std(a, axis=0)"
   ]
  },
  {
   "cell_type": "markdown",
   "metadata": {},
   "source": [
    "The first rule of numpy: **AVOID LARGE FOR LOOPS**"
   ]
  },
  {
   "cell_type": "code",
   "execution_count": 73,
   "metadata": {
    "collapsed": false
   },
   "outputs": [
    {
     "name": "stdout",
     "output_type": "stream",
     "text": [
      "The slowest run took 9.42 times longer than the fastest. This could mean that an intermediate result is being cached.\n",
      "1000000 loops, best of 3: 1.73 µs per loop\n",
      "1000 loops, best of 3: 290 µs per loop\n"
     ]
    }
   ],
   "source": [
    "a = np.arange(1000)\n",
    "%timeit a**2\n",
    "%timeit [i**2 for i in a] #these yield identical answers"
   ]
  },
  {
   "cell_type": "markdown",
   "metadata": {},
   "source": [
    "### searching and sorting"
   ]
  },
  {
   "cell_type": "markdown",
   "metadata": {},
   "source": [
    "## matplotlib\n",
    "\n",
    "The easiest way to learn is to look at the [gallery](http://matplotlib.org/gallery.html)"
   ]
  },
  {
   "cell_type": "code",
   "execution_count": null,
   "metadata": {
    "collapsed": false
   },
   "outputs": [],
   "source": [
    "fig, axes = plt.subplots(ncols=2, nrows=2)\n",
    "ax1, ax2, ax3, ax4 = axes.flat\n",
    "\n",
    "# scatter plot (Note: `plt.scatter` doesn't use default colors)\n",
    "x, y = np.random.normal(size=(2, 200))\n",
    "ax1.plot(x, y, 'o')\n",
    "\n",
    "# sinusoidal lines with colors from default color cycle\n",
    "L = 2*np.pi\n",
    "x = np.linspace(0, L)\n",
    "ncolors = len(plt.rcParams['axes.color_cycle'])\n",
    "shift = np.linspace(0, L, ncolors, endpoint=False)\n",
    "for s in shift:\n",
    "    ax2.plot(x, np.sin(x + s), '-')\n",
    "ax2.margins(0)\n",
    "\n",
    "# bar graphs\n",
    "x = np.arange(5)\n",
    "y1, y2 = np.random.randint(1, 25, size=(2, 5))\n",
    "width = 0.25\n",
    "ax3.bar(x, y1, width)\n",
    "ax3.bar(x+width, y2, width, color=plt.rcParams['axes.color_cycle'][2])\n",
    "ax3.set_xticks(x+width)\n",
    "ax3.set_xticklabels(['a', 'b', 'c', 'd', 'e'])\n",
    "\n",
    "# circles with colors from default color cycle\n",
    "for color in plt.rcParams['axes.color_cycle']:\n",
    "    ax4.add_patch(plt.Circle(np.random.randn(2), radius=0.3, color=color))\n",
    "ax4.axis('equal')\n",
    "\n",
    "plt.tight_layout()\n",
    "plt.show()"
   ]
  },
  {
   "cell_type": "markdown",
   "metadata": {},
   "source": [
    "### Tensor product"
   ]
  },
  {
   "cell_type": "code",
   "execution_count": null,
   "metadata": {
    "collapsed": false
   },
   "outputs": [],
   "source": [
    "a = np.arange(15).reshape(5,3)\n",
    "b = np.arange(12).reshape(3,4)\n",
    "\n",
    "display(a)\n",
    "display(b)"
   ]
  },
  {
   "cell_type": "code",
   "execution_count": null,
   "metadata": {
    "collapsed": false
   },
   "outputs": [],
   "source": [
    "np.dot(a, b)"
   ]
  },
  {
   "cell_type": "code",
   "execution_count": null,
   "metadata": {
    "collapsed": false
   },
   "outputs": [],
   "source": [
    "a = np.arange(30).reshape(5,3,2)\n",
    "b = np.arange(60).reshape(3,4,5)\n",
    "\n",
    "display(a)\n",
    "display(b)"
   ]
  },
  {
   "cell_type": "code",
   "execution_count": null,
   "metadata": {
    "collapsed": false
   },
   "outputs": [],
   "source": [
    "np.einsum('ijk,jli', a, b)"
   ]
  },
  {
   "cell_type": "markdown",
   "metadata": {},
   "source": [
    "### useful functions"
   ]
  },
  {
   "cell_type": "code",
   "execution_count": null,
   "metadata": {
    "collapsed": false
   },
   "outputs": [],
   "source": [
    "# You can find most mathematical function. \n",
    "# For special functions, find them in `scipy.special`\n",
    "\n",
    "x = np.linspace(0, np.pi*2, 101)\n",
    "plt.plot(x, np.cos(x))\n",
    "plt.plot(x, np.sin(x))"
   ]
  },
  {
   "cell_type": "code",
   "execution_count": null,
   "metadata": {
    "collapsed": false
   },
   "outputs": [],
   "source": [
    "# dealing with bool array\n",
    "\n",
    "a = np.random.randint(2, size=20).astype(bool)\n",
    "display(a)\n",
    "display(np.count_nonzero(a))\n",
    "display(np.where(a))"
   ]
  },
  {
   "cell_type": "code",
   "execution_count": null,
   "metadata": {
    "collapsed": false
   },
   "outputs": [],
   "source": [
    "# argsort\n",
    "\n",
    "a = np.random.rand(10)\n",
    "\n",
    "display(a)\n",
    "display(a.argsort())\n",
    "\n",
    "display(a[a.argsort()])\n",
    "\n",
    "# note: to sort \"in place\", just do a.sort()"
   ]
  },
  {
   "cell_type": "code",
   "execution_count": null,
   "metadata": {
    "collapsed": false
   },
   "outputs": [],
   "source": [
    "# argmax and unravel_index\n",
    "\n",
    "a = np.random.rand(100)\n",
    "display(a.argmax())\n",
    "\n",
    "a = np.random.rand(100, 100)\n",
    "display(a.argmax())\n",
    "display(np.unravel_index(a.argmax(), a.shape))"
   ]
  },
  {
   "cell_type": "code",
   "execution_count": null,
   "metadata": {
    "collapsed": false
   },
   "outputs": [],
   "source": [
    "# different ways to do histogram\n",
    "\n",
    "a = np.random.rand(500)\n",
    "bins = np.linspace(0, 1, 21)\n",
    "\n",
    "display(np.bincount(np.searchsorted(bins, a)))\n",
    "\n",
    "display(np.histogram(a, bins))\n",
    "\n",
    "display(np.searchsorted(a, bins, sorter=a.argsort()))"
   ]
  },
  {
   "cell_type": "markdown",
   "metadata": {},
   "source": [
    "### Task \n",
    "\n",
    "Given an 2-D int array, fill the 0th row and 0th column with 1, and the rest by the following rule:\n",
    "\n",
    "    a[i,j] = a[i-1,j] + a[i,j-1]"
   ]
  },
  {
   "cell_type": "code",
   "execution_count": null,
   "metadata": {
    "collapsed": false
   },
   "outputs": [],
   "source": [
    "# run this cell to see hints\n",
    "\n",
    "hint = 'Pqv|{B\\x125(_wzs(wv(wvm(zw\\x7f(i|(i(|qum6(\\x125(aw}/tt(vmml(i(v}ux\\x81(n}vk|qwv6(Vw|({}zm(\\x7fpqkp(wvmG(\\\\z\\x81(z}v(hvx6twwsnwz0/k}u}ti|q~m/1h6'\n",
    "print((np.array(map(ord, hint), np.int8)-8).tostring())"
   ]
  },
  {
   "cell_type": "code",
   "execution_count": null,
   "metadata": {
    "collapsed": false
   },
   "outputs": [],
   "source": [
    "np.lookfor('cumulative')"
   ]
  },
  {
   "cell_type": "code",
   "execution_count": null,
   "metadata": {
    "collapsed": false
   },
   "outputs": [],
   "source": [
    "a = np.zeros((6, 6), int)\n",
    "\n",
    "for i, row in enumerate(a):\n",
    "    if i ==0 :\n",
    "        row[:] = 1\n",
    "    else:\n",
    "        row[:] = np.cumsum(a[i-1])"
   ]
  },
  {
   "cell_type": "code",
   "execution_count": null,
   "metadata": {
    "collapsed": false
   },
   "outputs": [],
   "source": [
    "# iterate over elements\n",
    "for e in a.flat:\n",
    "    print e"
   ]
  },
  {
   "cell_type": "code",
   "execution_count": null,
   "metadata": {
    "collapsed": true
   },
   "outputs": [],
   "source": []
  }
 ],
 "metadata": {
  "kernelspec": {
   "display_name": "Python 2",
   "language": "python",
   "name": "python2"
  },
  "language_info": {
   "codemirror_mode": {
    "name": "ipython",
    "version": 2
   },
   "file_extension": ".py",
   "mimetype": "text/x-python",
   "name": "python",
   "nbconvert_exporter": "python",
   "pygments_lexer": "ipython2",
   "version": "2.7.12"
  }
 },
 "nbformat": 4,
 "nbformat_minor": 0
}
