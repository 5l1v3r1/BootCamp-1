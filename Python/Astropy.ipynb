{
 "cells": [
  {
   "cell_type": "markdown",
   "metadata": {},
   "source": [
    "# Astropy\n",
    "\n",
    "### What is it?\n",
    "\n",
    "A set of Python modules for astrophysics. It contains many useful functions for dealing with datasets, astronomical coordinates, astrometry, units, etc. The astropy project tries to maintain fairly high coding standards, and astropy modules are maintained and regularly updated.\n",
    "\n",
    "### How do I install it?\n",
    "\n",
    "If you're on a \\*nix system, then you have a couple of ways of installing astropy. In order of my preference:\n",
    "\n",
    "1. Using `pip`, which is a package manager for Python:\n",
    "   `pip install --user astropy` *or* `sudo pip install astropy`.\n",
    "2. Using your system's package manager. In Ubuntu/Debian, this would be\n",
    "   `sudo apt-get install python-astropy`.\n",
    "3. Using Anaconda, which is another package manager for Python: `conda install -c anaconda astropy`.\n",
    "\n",
    "There are more instructions [here](http://docs.astropy.org/en/stable/install.html).\n",
    "\n",
    "### And now, for something completely different\n",
    "\n",
    "In this notebook, we'll briefly touch on a couple of astropy's sub-packages. There are many we won't cover, however. Take a look at the [astropy documentation](http://astropy.readthedocs.io/en/stable/index.html) to get an overview of the sub-packages they have."
   ]
  },
  {
   "cell_type": "markdown",
   "metadata": {},
   "source": [
    "## Let's import some useful packages first"
   ]
  },
  {
   "cell_type": "code",
   "execution_count": 154,
   "metadata": {
    "collapsed": true
   },
   "outputs": [],
   "source": [
    "from __future__ import print_function, division # Do this for Python 2/3 compatibility\n",
    "\n",
    "import numpy as np\n",
    "\n",
    "%matplotlib inline\n",
    "import matplotlib.pyplot as plt"
   ]
  },
  {
   "cell_type": "markdown",
   "metadata": {},
   "source": [
    "# Units (astropy.units)\n",
    "\n",
    "A number of astropy modules use astropy.units to keep track of units. This can help avoid headaches and bugs, because the quantities being passed around to different functions always have units attached to them. You won't have to wonder whether the variable `dist` is in units of parsecs or kiloparsecs. It will contain that information."
   ]
  },
  {
   "cell_type": "code",
   "execution_count": 4,
   "metadata": {
    "collapsed": true
   },
   "outputs": [],
   "source": [
    "import astropy.units as u"
   ]
  },
  {
   "cell_type": "markdown",
   "metadata": {},
   "source": [
    "Let's define some arrays of distances:"
   ]
  },
  {
   "cell_type": "code",
   "execution_count": 24,
   "metadata": {
    "collapsed": false
   },
   "outputs": [
    {
     "name": "stdout",
     "output_type": "stream",
     "text": [
      "[ 0.47784266  0.58558688  0.19914588  0.94928348  0.47979048] m\n",
      "[ 0.47685909  0.80493623  0.88376093  0.05962728  0.1930782 ] pc\n"
     ]
    }
   ],
   "source": [
    "d1 = np.random.random(5) * u.m    # u.meter also works\n",
    "d2 = np.random.random(5) * u.pc   # u.parsec also works\n",
    "\n",
    "print(d1)\n",
    "print(d2)"
   ]
  },
  {
   "cell_type": "markdown",
   "metadata": {},
   "source": [
    "Let's take the ratio of these different distances:"
   ]
  },
  {
   "cell_type": "code",
   "execution_count": 25,
   "metadata": {
    "collapsed": false
   },
   "outputs": [
    {
     "name": "stdout",
     "output_type": "stream",
     "text": [
      "[ 0.99794166  1.37458037  4.43775644  0.06281293  0.40242192] pc / m\n"
     ]
    }
   ],
   "source": [
    "print(d2/d1)"
   ]
  },
  {
   "cell_type": "markdown",
   "metadata": {},
   "source": [
    "We can ask astropy.units to evaluate `pc / m`:"
   ]
  },
  {
   "cell_type": "code",
   "execution_count": 26,
   "metadata": {
    "collapsed": false
   },
   "outputs": [
    {
     "name": "stdout",
     "output_type": "stream",
     "text": [
      "[  3.07932622e+16   4.24151183e+16   1.36934855e+17   1.93820445e+15\n",
      "   1.24174428e+16]\n"
     ]
    }
   ],
   "source": [
    "print((d2/d1).decompose())"
   ]
  },
  {
   "cell_type": "markdown",
   "metadata": {},
   "source": [
    "Let's try out some different units of angle:"
   ]
  },
  {
   "cell_type": "code",
   "execution_count": 33,
   "metadata": {
    "collapsed": false
   },
   "outputs": [
    {
     "name": "stdout",
     "output_type": "stream",
     "text": [
      "244.8\n"
     ]
    }
   ],
   "source": [
    "theta1 = 1.7 * u.deg\n",
    "theta2 = 25. * u.arcsec\n",
    "\n",
    "print((theta1/theta2).decompose())"
   ]
  },
  {
   "cell_type": "markdown",
   "metadata": {},
   "source": [
    "We can do conversions between coordinates:"
   ]
  },
  {
   "cell_type": "code",
   "execution_count": 42,
   "metadata": {
    "collapsed": false
   },
   "outputs": [
    {
     "name": "stdout",
     "output_type": "stream",
     "text": [
      "1.7 deg = 0.029671 rad = 102 arcmin\n"
     ]
    }
   ],
   "source": [
    "print('{:.5g} = {:.5g} = {:.5g}'.format(theta1, theta1.to(u.rad), theta1.to(u.arcmin)))"
   ]
  },
  {
   "cell_type": "markdown",
   "metadata": {},
   "source": [
    "Notice as well how astropy.units plays nicely with Python string formatting in the line above."
   ]
  },
  {
   "cell_type": "markdown",
   "metadata": {},
   "source": [
    "We can convert any quantity to [cgs](https://en.wikipedia.org/wiki/Centimetre%E2%80%93gram%E2%80%93second_system_of_units) or [SI](https://en.wikipedia.org/wiki/International_System_of_Units):"
   ]
  },
  {
   "cell_type": "code",
   "execution_count": 57,
   "metadata": {
    "collapsed": false
   },
   "outputs": [
    {
     "name": "stdout",
     "output_type": "stream",
     "text": [
      "[  1.47143342e+16   2.48377367e+16   2.72700128e+16   1.83990547e+15\n",
      "   5.95777085e+15] m\n",
      "[  1.47143342e+18   2.48377367e+18   2.72700128e+18   1.83990547e+17\n",
      "   5.95777085e+17] cm\n"
     ]
    }
   ],
   "source": [
    "print(d2.si)\n",
    "print(d2.cgs)"
   ]
  },
  {
   "cell_type": "markdown",
   "metadata": {},
   "source": [
    "There are several other useful features of astropy.units, which we don't have time to go into here. Take a look at the documentation [here](http://astropy.readthedocs.io/en/stable/units/index.html)."
   ]
  },
  {
   "cell_type": "markdown",
   "metadata": {},
   "source": [
    "# Constants (astropy.constants)\n",
    "\n",
    "This module defines some physical constants."
   ]
  },
  {
   "cell_type": "code",
   "execution_count": 44,
   "metadata": {
    "collapsed": true
   },
   "outputs": [],
   "source": [
    "import astropy.constants as const"
   ]
  },
  {
   "cell_type": "markdown",
   "metadata": {},
   "source": [
    "Let's take a look at the gravitational constant:"
   ]
  },
  {
   "cell_type": "code",
   "execution_count": 47,
   "metadata": {
    "collapsed": false
   },
   "outputs": [
    {
     "name": "stdout",
     "output_type": "stream",
     "text": [
      "  Name   = Gravitational constant\n",
      "  Value  = 6.67384e-11\n",
      "  Uncertainty  = 8e-15\n",
      "  Unit  = m3 / (kg s2)\n",
      "  Reference = CODATA 2010\n"
     ]
    }
   ],
   "source": [
    "print(const.G)"
   ]
  },
  {
   "cell_type": "markdown",
   "metadata": {},
   "source": [
    "Notice how there are several pieces of information included here. We can take a look at the uncertainty, which is given in the same units as the constant itself:"
   ]
  },
  {
   "cell_type": "code",
   "execution_count": 63,
   "metadata": {
    "collapsed": false
   },
   "outputs": [
    {
     "name": "stdout",
     "output_type": "stream",
     "text": [
      "8e-15\n"
     ]
    }
   ],
   "source": [
    "print(const.G.uncertainty)"
   ]
  },
  {
   "cell_type": "markdown",
   "metadata": {},
   "source": [
    "Each constant is a `Quantity` object from astropy.units, so we can do all the things we saw above. For example, let's calculate the Schwarzschild radius of the Sun:"
   ]
  },
  {
   "cell_type": "code",
   "execution_count": 70,
   "metadata": {
    "collapsed": false
   },
   "outputs": [
    {
     "name": "stdout",
     "output_type": "stream",
     "text": [
      "r_s = 1.48 km = 9.87e-09 AU\n"
     ]
    }
   ],
   "source": [
    "r_s = const.G * const.M_sun / const.c**2\n",
    "\n",
    "print('r_s = {:.3g} = {:.3g}'.format(r_s.to(u.km), r_s.to(u.AU)))"
   ]
  },
  {
   "cell_type": "markdown",
   "metadata": {},
   "source": [
    "# Coordinates (astropy.coordinates)\n",
    "\n",
    "This module allows you to convert between different spherical coordinate systems. Like astropy.constants, it uses astropy.units heavily."
   ]
  },
  {
   "cell_type": "code",
   "execution_count": 73,
   "metadata": {
    "collapsed": true
   },
   "outputs": [],
   "source": [
    "from astropy.coordinates import SkyCoord"
   ]
  },
  {
   "cell_type": "markdown",
   "metadata": {},
   "source": [
    "There are a couple of different ways to define coordinates. We'll try out a few below:"
   ]
  },
  {
   "cell_type": "code",
   "execution_count": 81,
   "metadata": {
    "collapsed": false
   },
   "outputs": [],
   "source": [
    "c1 = SkyCoord(100., 45., frame='galactic', unit='deg')\n",
    "c2 = SkyCoord(60.*u.deg, -25.*u.deg, frame='galactic')\n",
    "c3 = SkyCoord('10h50m35.3s', '+12d17m1.0s', frame='icrs')\n",
    "c3 = SkyCoord('10:50:35.3', '+12:17:1.0', frame='icrs', unit=(u.hourangle, u.deg))"
   ]
  },
  {
   "cell_type": "markdown",
   "metadata": {},
   "source": [
    "Notice how we've been defining a `frame` for each `SkyCoord` object. The `frame` is the celestial coordinate system. Some common systems are `galactic`, `icrs` and `fk5`. The latter two are different variants of equatorial coordinates.\n",
    "\n",
    "We can also define arrays of coordinates:"
   ]
  },
  {
   "cell_type": "code",
   "execution_count": 83,
   "metadata": {
    "collapsed": false
   },
   "outputs": [
    {
     "name": "stdout",
     "output_type": "stream",
     "text": [
      "<SkyCoord (FK5: equinox=J2000.000): (ra, dec) in deg\n",
      "    [(183.75193724, 78.20470676), (26.62355028, -84.23850118),\n",
      "     (266.84193659, 65.75355802), (186.09807557, -58.7149587),\n",
      "     (200.68501341, -57.95460265)]>\n"
     ]
    }
   ],
   "source": [
    "ra = 360. * np.random.random(5)\n",
    "dec = 180. * np.random.random(5) - 90.\n",
    "\n",
    "c4 = SkyCoord(ra*u.deg, dec*u.deg, frame='fk5')\n",
    "\n",
    "print(c4)"
   ]
  },
  {
   "cell_type": "markdown",
   "metadata": {},
   "source": [
    "We can transform betwee different coordinate systems:"
   ]
  },
  {
   "cell_type": "code",
   "execution_count": 88,
   "metadata": {
    "collapsed": false
   },
   "outputs": [
    {
     "name": "stdout",
     "output_type": "stream",
     "text": [
      "<SkyCoord (Galactic): (l, b) in deg\n",
      "    [(125.30990164, 38.75483206), (301.30519666, -32.71486375),\n",
      "     (95.48017798, 31.10507021), (299.41825433, 3.97215669),\n",
      "     (307.08857739, 4.66429541)]>\n",
      "<SkyCoord (ICRS): (ra, dec) in deg\n",
      "    [(183.75195809, 78.20470892), (26.62360412, -84.23850096),\n",
      "     (266.84193651, 65.75355264), (186.09805973, -58.71495678),\n",
      "     (200.68499736, -57.95460224)]>\n"
     ]
    }
   ],
   "source": [
    "c4_gal = c4.transform_to('galactic')\n",
    "c4_icrs = c4.transform_to('icrs')\n",
    "\n",
    "print(c4_gal)\n",
    "print(c4_icrs)"
   ]
  },
  {
   "cell_type": "markdown",
   "metadata": {},
   "source": [
    "Let's extract the RA and Dec of `c4` in the ICRS system:"
   ]
  },
  {
   "cell_type": "code",
   "execution_count": 97,
   "metadata": {
    "collapsed": false
   },
   "outputs": [
    {
     "name": "stdout",
     "output_type": "stream",
     "text": [
      "[u'183d45m07.0491s' u'26d37m24.9748s' u'266d50m30.9714s' u'186d05m53.015s'\n",
      " u'200d41m05.9905s']\n",
      "[ 183.75195809   26.62360412  266.84193651  186.09805973  200.68499736]\n",
      "deg\n",
      "\n",
      "[u'78d12m16.9521s' u'-84d14m18.6035s' u'65d45m12.7895s' u'-58d42m53.8444s'\n",
      " u'-57d57m16.5681s']\n",
      "[ 78.20470892 -84.23850096  65.75355264 -58.71495678 -57.95460224]\n",
      "deg\n"
     ]
    }
   ],
   "source": [
    "print(c4_icrs.ra)\n",
    "print(c4_icrs.ra.value)\n",
    "print(c4_icrs.ra.unit)\n",
    "print('')\n",
    "print(c4_icrs.dec)\n",
    "print(c4_icrs.dec.value)\n",
    "print(c4_icrs.dec.unit)"
   ]
  },
  {
   "cell_type": "markdown",
   "metadata": {},
   "source": [
    "Finally, we can include distances in sky coordinates, like so:"
   ]
  },
  {
   "cell_type": "code",
   "execution_count": 102,
   "metadata": {
    "collapsed": false
   },
   "outputs": [
    {
     "name": "stdout",
     "output_type": "stream",
     "text": [
      "<SkyCoord (Galactic): (l, b, distance) in (deg, deg, kpc)\n",
      "    (45.0, 10.0, 1.0)>\n",
      "d = 1.0 kpc\n",
      "x, y, z = (0.696364240320019, 0.6963642403200189, 0.17364817766693033) kpc\n"
     ]
    }
   ],
   "source": [
    "c5 = SkyCoord(45.*u.deg, 10.*u.deg, distance=1.*u.kpc, frame='galactic')\n",
    "print(c5)\n",
    "print('d = {}'.format(c5.distance))\n",
    "print('x, y, z = {}'.format(c5.cartesian))"
   ]
  },
  {
   "cell_type": "markdown",
   "metadata": {},
   "source": [
    "One more cool thing in `astropy.coordinates`:"
   ]
  },
  {
   "cell_type": "code",
   "execution_count": 108,
   "metadata": {
    "collapsed": false
   },
   "outputs": [
    {
     "data": {
      "text/latex": [
       "$(1814303.7455372282, -5214365.7436216, -3187340.5659875614) \\; \\mathrm{m}$"
      ],
      "text/plain": [
       "<EarthLocation (1814303.7455372282, -5214365.7436216, -3187340.5659875614) m>"
      ]
     },
     "execution_count": 108,
     "metadata": {},
     "output_type": "execute_result"
    }
   ],
   "source": [
    "from astropy.coordinates import EarthLocation\n",
    "EarthLocation.of_site('Cerro Tololo Interamerican Observatory')"
   ]
  },
  {
   "cell_type": "markdown",
   "metadata": {},
   "source": [
    "# ASCII Tables (astropy.io.ascii)\n",
    "\n",
    "A veritable Swiss-army knife for ASCII tables."
   ]
  },
  {
   "cell_type": "code",
   "execution_count": 111,
   "metadata": {
    "collapsed": true
   },
   "outputs": [],
   "source": [
    "from astropy.io import ascii"
   ]
  },
  {
   "cell_type": "markdown",
   "metadata": {},
   "source": [
    "The two basic functions are `ascii.read()` and `ascii.write()`.\n",
    "\n",
    "People often distribute ASCII tables in their own pet format, so you end up writing custom code to read each new ASCII table you encounter. The function `ascii.read()` will attempt to figure out the format of the file by itself. This usually works, as we show below with three different files:"
   ]
  },
  {
   "cell_type": "code",
   "execution_count": 115,
   "metadata": {
    "collapsed": false
   },
   "outputs": [
    {
     "name": "stdout",
     "output_type": "stream",
     "text": [
      "obsid redshift  X    Y      object  \n",
      "----- -------- ---- ---- -----------\n",
      " 3102     0.32 4167 4085 Q1250+568-A\n",
      "  877     0.22 4378 3892   Source 82\n"
     ]
    }
   ],
   "source": [
    "data = ascii.read('ascii1.txt')\n",
    "print(data)"
   ]
  },
  {
   "cell_type": "code",
   "execution_count": 143,
   "metadata": {
    "collapsed": false
   },
   "outputs": [
    {
     "name": "stdout",
     "output_type": "stream",
     "text": [
      "obsid redshift  X    Y      object  \n",
      "----- -------- ---- ---- -----------\n",
      " 3102     0.32 4167 4085 Q1250+568-A\n",
      "  877     0.22 4378 3892   Source 82\n"
     ]
    }
   ],
   "source": [
    "data = ascii.read('ascii2.txt')\n",
    "print(data)"
   ]
  },
  {
   "cell_type": "markdown",
   "metadata": {},
   "source": [
    "We can extract values from the table like so:"
   ]
  },
  {
   "cell_type": "code",
   "execution_count": 124,
   "metadata": {
    "collapsed": false
   },
   "outputs": [
    {
     "name": "stdout",
     "output_type": "stream",
     "text": [
      "877\n"
     ]
    }
   ],
   "source": [
    "print(data['obsid'][1])"
   ]
  },
  {
   "cell_type": "markdown",
   "metadata": {},
   "source": [
    "With some files, `ascii.read()` is not able to guess the format, and needs some help:"
   ]
  },
  {
   "cell_type": "code",
   "execution_count": 142,
   "metadata": {
    "collapsed": false
   },
   "outputs": [
    {
     "ename": "InconsistentTableError",
     "evalue": "\nERROR: Unable to guess table format with the guesses listed below:\nReader:Ecsv fill_values: [('', '0')] strict_names: True\nReader:FixedWidthTwoLine fill_values: [('', '0')] strict_names: True\nReader:FastBasic fill_values: [('', '0')] strict_names: True\nReader:Basic fill_values: [('', '0')] strict_names: True\nReader:Rdb fill_values: [('', '0')] strict_names: True\nReader:FastTab fill_values: [('', '0')] strict_names: True\nReader:Tab fill_values: [('', '0')] strict_names: True\nReader:Cds fill_values: [('', '0')] strict_names: True\nReader:Daophot fill_values: [('', '0')] strict_names: True\nReader:SExtractor fill_values: [('', '0')] strict_names: True\nReader:Ipac fill_values: [('', '0')] strict_names: True\nReader:Latex fill_values: [('', '0')] strict_names: True\nReader:AASTex fill_values: [('', '0')] strict_names: True\nReader:FastCommentedHeader delimiter: '|' fill_values: [('', '0')] quotechar: '\"' strict_names: True\nReader:FastCommentedHeader delimiter: '|' fill_values: [('', '0')] quotechar: \"'\" strict_names: True\nReader:FastCommentedHeader delimiter: ',' fill_values: [('', '0')] quotechar: '\"' strict_names: True\nReader:FastCommentedHeader delimiter: ',' fill_values: [('', '0')] quotechar: \"'\" strict_names: True\nReader:FastCommentedHeader delimiter: ' ' fill_values: [('', '0')] quotechar: '\"' strict_names: True\nReader:FastCommentedHeader delimiter: ' ' fill_values: [('', '0')] quotechar: \"'\" strict_names: True\nReader:FastCommentedHeader delimiter: '\\\\s' fill_values: [('', '0')] quotechar: '\"' strict_names: True\nReader:FastCommentedHeader delimiter: '\\\\s' fill_values: [('', '0')] quotechar: \"'\" strict_names: True\nReader:CommentedHeader delimiter: '|' fill_values: [('', '0')] quotechar: '\"' strict_names: True\nReader:CommentedHeader delimiter: '|' fill_values: [('', '0')] quotechar: \"'\" strict_names: True\nReader:CommentedHeader delimiter: ',' fill_values: [('', '0')] quotechar: '\"' strict_names: True\nReader:CommentedHeader delimiter: ',' fill_values: [('', '0')] quotechar: \"'\" strict_names: True\nReader:CommentedHeader delimiter: ' ' fill_values: [('', '0')] quotechar: '\"' strict_names: True\nReader:CommentedHeader delimiter: ' ' fill_values: [('', '0')] quotechar: \"'\" strict_names: True\nReader:CommentedHeader delimiter: '\\\\s' fill_values: [('', '0')] quotechar: '\"' strict_names: True\nReader:CommentedHeader delimiter: '\\\\s' fill_values: [('', '0')] quotechar: \"'\" strict_names: True\nReader:FastBasic delimiter: '|' fill_values: [('', '0')] quotechar: '\"' strict_names: True\nReader:FastBasic delimiter: '|' fill_values: [('', '0')] quotechar: \"'\" strict_names: True\nReader:FastBasic delimiter: ',' fill_values: [('', '0')] quotechar: '\"' strict_names: True\nReader:FastBasic delimiter: ',' fill_values: [('', '0')] quotechar: \"'\" strict_names: True\nReader:FastBasic delimiter: ' ' fill_values: [('', '0')] quotechar: '\"' strict_names: True\nReader:FastBasic delimiter: ' ' fill_values: [('', '0')] quotechar: \"'\" strict_names: True\nReader:FastBasic delimiter: '\\\\s' fill_values: [('', '0')] quotechar: '\"' strict_names: True\nReader:FastBasic delimiter: '\\\\s' fill_values: [('', '0')] quotechar: \"'\" strict_names: True\nReader:Basic delimiter: '|' fill_values: [('', '0')] quotechar: '\"' strict_names: True\nReader:Basic delimiter: '|' fill_values: [('', '0')] quotechar: \"'\" strict_names: True\nReader:Basic delimiter: ',' fill_values: [('', '0')] quotechar: '\"' strict_names: True\nReader:Basic delimiter: ',' fill_values: [('', '0')] quotechar: \"'\" strict_names: True\nReader:Basic delimiter: ' ' fill_values: [('', '0')] quotechar: '\"' strict_names: True\nReader:Basic delimiter: ' ' fill_values: [('', '0')] quotechar: \"'\" strict_names: True\nReader:Basic delimiter: '\\\\s' fill_values: [('', '0')] quotechar: '\"' strict_names: True\nReader:Basic delimiter: '\\\\s' fill_values: [('', '0')] quotechar: \"'\" strict_names: True\nReader:FastNoHeader delimiter: '|' fill_values: [('', '0')] quotechar: '\"' strict_names: True\nReader:FastNoHeader delimiter: '|' fill_values: [('', '0')] quotechar: \"'\" strict_names: True\nReader:FastNoHeader delimiter: ',' fill_values: [('', '0')] quotechar: '\"' strict_names: True\nReader:FastNoHeader delimiter: ',' fill_values: [('', '0')] quotechar: \"'\" strict_names: True\nReader:FastNoHeader delimiter: ' ' fill_values: [('', '0')] quotechar: '\"' strict_names: True\nReader:FastNoHeader delimiter: ' ' fill_values: [('', '0')] quotechar: \"'\" strict_names: True\nReader:FastNoHeader delimiter: '\\\\s' fill_values: [('', '0')] quotechar: '\"' strict_names: True\nReader:FastNoHeader delimiter: '\\\\s' fill_values: [('', '0')] quotechar: \"'\" strict_names: True\nReader:NoHeader delimiter: '|' fill_values: [('', '0')] quotechar: '\"' strict_names: True\nReader:NoHeader delimiter: '|' fill_values: [('', '0')] quotechar: \"'\" strict_names: True\nReader:NoHeader delimiter: ',' fill_values: [('', '0')] quotechar: '\"' strict_names: True\nReader:NoHeader delimiter: ',' fill_values: [('', '0')] quotechar: \"'\" strict_names: True\nReader:NoHeader delimiter: ' ' fill_values: [('', '0')] quotechar: '\"' strict_names: True\nReader:NoHeader delimiter: ' ' fill_values: [('', '0')] quotechar: \"'\" strict_names: True\nReader:NoHeader delimiter: '\\\\s' fill_values: [('', '0')] quotechar: '\"' strict_names: True\nReader:NoHeader delimiter: '\\\\s' fill_values: [('', '0')] quotechar: \"'\" strict_names: True\nReader:Basic fill_values: [('', '0')]\n\n************************************************************************\n** ERROR: Unable to guess table format with the guesses listed above. **\n**                                                                    **\n** To figure out why the table did not read, use guess=False and      **\n** appropriate arguments to read().  In particular specify the format **\n** and any known attributes like the delimiter.                       **\n************************************************************************",
     "output_type": "error",
     "traceback": [
      "\u001b[0;31m---------------------------------------------------------------------------\u001b[0m",
      "\u001b[0;31mInconsistentTableError\u001b[0m                    Traceback (most recent call last)",
      "\u001b[0;32m<ipython-input-142-8fd6ef8959b0>\u001b[0m in \u001b[0;36m<module>\u001b[0;34m()\u001b[0m\n\u001b[0;32m----> 1\u001b[0;31m \u001b[0mdata\u001b[0m \u001b[0;34m=\u001b[0m \u001b[0mascii\u001b[0m\u001b[0;34m.\u001b[0m\u001b[0mread\u001b[0m\u001b[0;34m(\u001b[0m\u001b[0;34m'ascii3.txt'\u001b[0m\u001b[0;34m)\u001b[0m\u001b[0;34m\u001b[0m\u001b[0m\n\u001b[0m",
      "\u001b[0;32m/usr/local/lib/python2.7/dist-packages/astropy/io/ascii/ui.pyc\u001b[0m in \u001b[0;36mread\u001b[0;34m(table, guess, **kwargs)\u001b[0m\n\u001b[1;32m    311\u001b[0m         \u001b[0;31m# through below to the non-guess way so that any problems result in a\u001b[0m\u001b[0;34m\u001b[0m\u001b[0;34m\u001b[0m\u001b[0m\n\u001b[1;32m    312\u001b[0m         \u001b[0;31m# more useful traceback.\u001b[0m\u001b[0;34m\u001b[0m\u001b[0;34m\u001b[0m\u001b[0m\n\u001b[0;32m--> 313\u001b[0;31m         \u001b[0mdat\u001b[0m \u001b[0;34m=\u001b[0m \u001b[0m_guess\u001b[0m\u001b[0;34m(\u001b[0m\u001b[0mtable\u001b[0m\u001b[0;34m,\u001b[0m \u001b[0mnew_kwargs\u001b[0m\u001b[0;34m,\u001b[0m \u001b[0mformat\u001b[0m\u001b[0;34m,\u001b[0m \u001b[0mfast_reader_param\u001b[0m\u001b[0;34m)\u001b[0m\u001b[0;34m\u001b[0m\u001b[0m\n\u001b[0m\u001b[1;32m    314\u001b[0m         \u001b[0;32mif\u001b[0m \u001b[0mdat\u001b[0m \u001b[0;32mis\u001b[0m \u001b[0mNone\u001b[0m\u001b[0;34m:\u001b[0m\u001b[0;34m\u001b[0m\u001b[0m\n\u001b[1;32m    315\u001b[0m             \u001b[0mguess\u001b[0m \u001b[0;34m=\u001b[0m \u001b[0mFalse\u001b[0m\u001b[0;34m\u001b[0m\u001b[0m\n",
      "\u001b[0;32m/usr/local/lib/python2.7/dist-packages/astropy/io/ascii/ui.pyc\u001b[0m in \u001b[0;36m_guess\u001b[0;34m(table, read_kwargs, format, fast_reader)\u001b[0m\n\u001b[1;32m    494\u001b[0m                    '************************************************************************']\n\u001b[1;32m    495\u001b[0m             \u001b[0mlines\u001b[0m\u001b[0;34m.\u001b[0m\u001b[0mextend\u001b[0m\u001b[0;34m(\u001b[0m\u001b[0mmsg\u001b[0m\u001b[0;34m)\u001b[0m\u001b[0;34m\u001b[0m\u001b[0m\n\u001b[0;32m--> 496\u001b[0;31m             \u001b[0;32mraise\u001b[0m \u001b[0mcore\u001b[0m\u001b[0;34m.\u001b[0m\u001b[0mInconsistentTableError\u001b[0m\u001b[0;34m(\u001b[0m\u001b[0;34m'\\n'\u001b[0m\u001b[0;34m.\u001b[0m\u001b[0mjoin\u001b[0m\u001b[0;34m(\u001b[0m\u001b[0mlines\u001b[0m\u001b[0;34m)\u001b[0m\u001b[0;34m)\u001b[0m\u001b[0;34m\u001b[0m\u001b[0m\n\u001b[0m\u001b[1;32m    497\u001b[0m \u001b[0;34m\u001b[0m\u001b[0m\n\u001b[1;32m    498\u001b[0m \u001b[0;32mdef\u001b[0m \u001b[0m_get_guess_kwargs_list\u001b[0m\u001b[0;34m(\u001b[0m\u001b[0mread_kwargs\u001b[0m\u001b[0;34m)\u001b[0m\u001b[0;34m:\u001b[0m\u001b[0;34m\u001b[0m\u001b[0m\n",
      "\u001b[0;31mInconsistentTableError\u001b[0m: \nERROR: Unable to guess table format with the guesses listed below:\nReader:Ecsv fill_values: [('', '0')] strict_names: True\nReader:FixedWidthTwoLine fill_values: [('', '0')] strict_names: True\nReader:FastBasic fill_values: [('', '0')] strict_names: True\nReader:Basic fill_values: [('', '0')] strict_names: True\nReader:Rdb fill_values: [('', '0')] strict_names: True\nReader:FastTab fill_values: [('', '0')] strict_names: True\nReader:Tab fill_values: [('', '0')] strict_names: True\nReader:Cds fill_values: [('', '0')] strict_names: True\nReader:Daophot fill_values: [('', '0')] strict_names: True\nReader:SExtractor fill_values: [('', '0')] strict_names: True\nReader:Ipac fill_values: [('', '0')] strict_names: True\nReader:Latex fill_values: [('', '0')] strict_names: True\nReader:AASTex fill_values: [('', '0')] strict_names: True\nReader:FastCommentedHeader delimiter: '|' fill_values: [('', '0')] quotechar: '\"' strict_names: True\nReader:FastCommentedHeader delimiter: '|' fill_values: [('', '0')] quotechar: \"'\" strict_names: True\nReader:FastCommentedHeader delimiter: ',' fill_values: [('', '0')] quotechar: '\"' strict_names: True\nReader:FastCommentedHeader delimiter: ',' fill_values: [('', '0')] quotechar: \"'\" strict_names: True\nReader:FastCommentedHeader delimiter: ' ' fill_values: [('', '0')] quotechar: '\"' strict_names: True\nReader:FastCommentedHeader delimiter: ' ' fill_values: [('', '0')] quotechar: \"'\" strict_names: True\nReader:FastCommentedHeader delimiter: '\\\\s' fill_values: [('', '0')] quotechar: '\"' strict_names: True\nReader:FastCommentedHeader delimiter: '\\\\s' fill_values: [('', '0')] quotechar: \"'\" strict_names: True\nReader:CommentedHeader delimiter: '|' fill_values: [('', '0')] quotechar: '\"' strict_names: True\nReader:CommentedHeader delimiter: '|' fill_values: [('', '0')] quotechar: \"'\" strict_names: True\nReader:CommentedHeader delimiter: ',' fill_values: [('', '0')] quotechar: '\"' strict_names: True\nReader:CommentedHeader delimiter: ',' fill_values: [('', '0')] quotechar: \"'\" strict_names: True\nReader:CommentedHeader delimiter: ' ' fill_values: [('', '0')] quotechar: '\"' strict_names: True\nReader:CommentedHeader delimiter: ' ' fill_values: [('', '0')] quotechar: \"'\" strict_names: True\nReader:CommentedHeader delimiter: '\\\\s' fill_values: [('', '0')] quotechar: '\"' strict_names: True\nReader:CommentedHeader delimiter: '\\\\s' fill_values: [('', '0')] quotechar: \"'\" strict_names: True\nReader:FastBasic delimiter: '|' fill_values: [('', '0')] quotechar: '\"' strict_names: True\nReader:FastBasic delimiter: '|' fill_values: [('', '0')] quotechar: \"'\" strict_names: True\nReader:FastBasic delimiter: ',' fill_values: [('', '0')] quotechar: '\"' strict_names: True\nReader:FastBasic delimiter: ',' fill_values: [('', '0')] quotechar: \"'\" strict_names: True\nReader:FastBasic delimiter: ' ' fill_values: [('', '0')] quotechar: '\"' strict_names: True\nReader:FastBasic delimiter: ' ' fill_values: [('', '0')] quotechar: \"'\" strict_names: True\nReader:FastBasic delimiter: '\\\\s' fill_values: [('', '0')] quotechar: '\"' strict_names: True\nReader:FastBasic delimiter: '\\\\s' fill_values: [('', '0')] quotechar: \"'\" strict_names: True\nReader:Basic delimiter: '|' fill_values: [('', '0')] quotechar: '\"' strict_names: True\nReader:Basic delimiter: '|' fill_values: [('', '0')] quotechar: \"'\" strict_names: True\nReader:Basic delimiter: ',' fill_values: [('', '0')] quotechar: '\"' strict_names: True\nReader:Basic delimiter: ',' fill_values: [('', '0')] quotechar: \"'\" strict_names: True\nReader:Basic delimiter: ' ' fill_values: [('', '0')] quotechar: '\"' strict_names: True\nReader:Basic delimiter: ' ' fill_values: [('', '0')] quotechar: \"'\" strict_names: True\nReader:Basic delimiter: '\\\\s' fill_values: [('', '0')] quotechar: '\"' strict_names: True\nReader:Basic delimiter: '\\\\s' fill_values: [('', '0')] quotechar: \"'\" strict_names: True\nReader:FastNoHeader delimiter: '|' fill_values: [('', '0')] quotechar: '\"' strict_names: True\nReader:FastNoHeader delimiter: '|' fill_values: [('', '0')] quotechar: \"'\" strict_names: True\nReader:FastNoHeader delimiter: ',' fill_values: [('', '0')] quotechar: '\"' strict_names: True\nReader:FastNoHeader delimiter: ',' fill_values: [('', '0')] quotechar: \"'\" strict_names: True\nReader:FastNoHeader delimiter: ' ' fill_values: [('', '0')] quotechar: '\"' strict_names: True\nReader:FastNoHeader delimiter: ' ' fill_values: [('', '0')] quotechar: \"'\" strict_names: True\nReader:FastNoHeader delimiter: '\\\\s' fill_values: [('', '0')] quotechar: '\"' strict_names: True\nReader:FastNoHeader delimiter: '\\\\s' fill_values: [('', '0')] quotechar: \"'\" strict_names: True\nReader:NoHeader delimiter: '|' fill_values: [('', '0')] quotechar: '\"' strict_names: True\nReader:NoHeader delimiter: '|' fill_values: [('', '0')] quotechar: \"'\" strict_names: True\nReader:NoHeader delimiter: ',' fill_values: [('', '0')] quotechar: '\"' strict_names: True\nReader:NoHeader delimiter: ',' fill_values: [('', '0')] quotechar: \"'\" strict_names: True\nReader:NoHeader delimiter: ' ' fill_values: [('', '0')] quotechar: '\"' strict_names: True\nReader:NoHeader delimiter: ' ' fill_values: [('', '0')] quotechar: \"'\" strict_names: True\nReader:NoHeader delimiter: '\\\\s' fill_values: [('', '0')] quotechar: '\"' strict_names: True\nReader:NoHeader delimiter: '\\\\s' fill_values: [('', '0')] quotechar: \"'\" strict_names: True\nReader:Basic fill_values: [('', '0')]\n\n************************************************************************\n** ERROR: Unable to guess table format with the guesses listed above. **\n**                                                                    **\n** To figure out why the table did not read, use guess=False and      **\n** appropriate arguments to read().  In particular specify the format **\n** and any known attributes like the delimiter.                       **\n************************************************************************"
     ]
    }
   ],
   "source": [
    "data = ascii.read('ascii3.txt')"
   ]
  },
  {
   "cell_type": "markdown",
   "metadata": {},
   "source": [
    "We give `ascii.read()` some hints, and then it works:"
   ]
  },
  {
   "cell_type": "code",
   "execution_count": 141,
   "metadata": {
    "collapsed": false
   },
   "outputs": [
    {
     "name": "stdout",
     "output_type": "stream",
     "text": [
      "obsid redshift  X    Y   object\n",
      "----- -------- ---- ---- ------\n",
      " 3102     0.32 4167 4085 Q1250+\n",
      "  877     0.22 4378 3892 \"Sourc\n"
     ]
    }
   ],
   "source": [
    "data = ascii.read('ascii3.txt', format='fixed_width', data_start=2)\n",
    "print(data)"
   ]
  },
  {
   "cell_type": "markdown",
   "metadata": {},
   "source": [
    "# FITS Files (astropy.io.fits)\n",
    "\n",
    "[FITS](https://en.wikipedia.org/wiki/FITS) is a widely used data format for astronomical images and tables, and `astropy.io.fits` (which you might also know under its old name, `pyfits`) is a widely used Python library for manipulating FITS files."
   ]
  },
  {
   "cell_type": "code",
   "execution_count": 144,
   "metadata": {
    "collapsed": true
   },
   "outputs": [],
   "source": [
    "import astropy.io.fits as fits"
   ]
  },
  {
   "cell_type": "markdown",
   "metadata": {},
   "source": [
    "Let's try to open a FITS file:"
   ]
  },
  {
   "cell_type": "code",
   "execution_count": 145,
   "metadata": {
    "collapsed": true
   },
   "outputs": [],
   "source": [
    "fname = 'dss17460a27m.fits'\n",
    "hdulist = fits.open(fname)"
   ]
  },
  {
   "cell_type": "markdown",
   "metadata": {},
   "source": [
    "Let's see what's inside this FITS file:"
   ]
  },
  {
   "cell_type": "code",
   "execution_count": 147,
   "metadata": {
    "collapsed": false
   },
   "outputs": [
    {
     "name": "stdout",
     "output_type": "stream",
     "text": [
      "Filename: dss17460a27m.fits\n",
      "No.    Name         Type      Cards   Dimensions   Format\n",
      "0    PRIMARY     PrimaryHDU     128   (59, 60)     int16   \n"
     ]
    }
   ],
   "source": [
    "hdulist.info()"
   ]
  },
  {
   "cell_type": "markdown",
   "metadata": {},
   "source": [
    "FITS files are organized into \"Header-Data Units\" (\"HDUs\" for short). Each HDU contains a header describing the structure, meaning, provenance, etc. of the data, followed by the data itself. There are different types of HDUs, among them: PrimaryHDU (the first HDU is always one of these), ImageHDU (containing an image), CompImageHDU (containing a compressed image), TableHDU (containing a table of data), BinTableHDU (ditto, but stored in a binary format).\n",
    "\n",
    "The file we have has only one HDU, which is a PrimaryHDU."
   ]
  },
  {
   "cell_type": "markdown",
   "metadata": {},
   "source": [
    "We access a particular HDU just like we would get an item from a list. Let's look at the data in the first (and only) HDU in our FITS file:"
   ]
  },
  {
   "cell_type": "code",
   "execution_count": 152,
   "metadata": {
    "collapsed": false,
    "scrolled": false
   },
   "outputs": [
    {
     "data": {
      "text/plain": [
       "array([[6996, 6996, 6889, ..., 7456, 7671, 7671],\n",
       "       [7211, 7211, 6889, ..., 7456, 7671, 7241],\n",
       "       [7211, 6996, 6459, ..., 7671, 7456, 7564],\n",
       "       ..., \n",
       "       [6748, 6748, 6748, ..., 8068, 7638, 7745],\n",
       "       [6425, 6640, 6533, ..., 8068, 7853, 7638],\n",
       "       [6855, 7070, 6963, ..., 7853, 7638, 7853]], dtype=int16)"
      ]
     },
     "execution_count": 152,
     "metadata": {},
     "output_type": "execute_result"
    }
   ],
   "source": [
    "hdulist[0].data"
   ]
  },
  {
   "cell_type": "markdown",
   "metadata": {},
   "source": [
    "Let's plot it using `matplotlib`:"
   ]
  },
  {
   "cell_type": "code",
   "execution_count": 157,
   "metadata": {
    "collapsed": false
   },
   "outputs": [
    {
     "data": {
      "image/png": "[encoded data removed]",
      "text/plain": [
       "<matplotlib.figure.Figure at 0x7facd586cd10>"
      ]
     },
     "metadata": {},
     "output_type": "display_data"
    }
   ],
   "source": [
    "plt.imshow(hdulist[0].data, cmap='binary', interpolation='nearest');"
   ]
  },
  {
   "cell_type": "markdown",
   "metadata": {},
   "source": [
    "Now, let's close this FITS file:"
   ]
  },
  {
   "cell_type": "code",
   "execution_count": 158,
   "metadata": {
    "collapsed": true
   },
   "outputs": [],
   "source": [
    "hdulist.close()"
   ]
  },
  {
   "cell_type": "markdown",
   "metadata": {},
   "source": [
    "Next, we'll be making our own file with table data. We begin by making a structured numpy array, which we'll fill with some arbitrary data:"
   ]
  },
  {
   "cell_type": "code",
   "execution_count": 163,
   "metadata": {
    "collapsed": false
   },
   "outputs": [],
   "source": [
    "dtype = [\n",
    "    ('x', 'f8'),\n",
    "    ('y', 'f8'),\n",
    "    ('velocity', 'f8'),\n",
    "    ('objid', 'i4'),\n",
    "    ('objname', 'S10')  # A string with a maximum length of 10 characters\n",
    "]\n",
    "\n",
    "data = np.empty(5, dtype=dtype)\n",
    "data['x'][:] = np.random.random(5)\n",
    "data['y'][:] = np.random.random(5)\n",
    "data['velocity'][:] = np.random.random(5)\n",
    "data['objid'][:] = np.arange(5)\n",
    "data['objname'][:] = 'a b c d e'.split()"
   ]
  },
  {
   "cell_type": "markdown",
   "metadata": {},
   "source": [
    "Now, we'll create an HDU that stores this data:"
   ]
  },
  {
   "cell_type": "code",
   "execution_count": 167,
   "metadata": {
    "collapsed": false
   },
   "outputs": [],
   "source": [
    "hdu = fits.BinTableHDU(data=data)"
   ]
  },
  {
   "cell_type": "markdown",
   "metadata": {},
   "source": [
    "Now, we'll create an HDUList (which could, in principle, have several HDUs, rather than just one), and we'll write it out to a file. The HDU requires a primary HDU, which we'll add in:"
   ]
  },
  {
   "cell_type": "code",
   "execution_count": 178,
   "metadata": {
    "collapsed": false
   },
   "outputs": [],
   "source": [
    "hdulist = fits.HDUList([fits.PrimaryHDU(), hdu]) # We need a dummy primary HDU\n",
    "hdulist.writeto('my_table.fits', clobber=True)  # clobber=True means that any existing file will be overwritten\n",
    "hdulist.close()"
   ]
  },
  {
   "cell_type": "markdown",
   "metadata": {},
   "source": [
    "That was just a very short intro to FITS files and `astropy.io.fits`. You'll probably have to heal with a lot of these files, and [the documentation](http://docs.astropy.org/en/stable/io/fits/index.html) will be very helpful."
   ]
  },
  {
   "cell_type": "markdown",
   "metadata": {},
   "source": [
    "# World Coordinate System (astropy.wcs)\n",
    "\n",
    "The World Coordinate System (WCS) is a system for translating between coordinates in an astronomical image and coordinates on the sky. If you ever deal with raw images, you'll need to use WCS."
   ]
  },
  {
   "cell_type": "code",
   "execution_count": 179,
   "metadata": {
    "collapsed": true
   },
   "outputs": [],
   "source": [
    "import astropy.wcs as wcs"
   ]
  },
  {
   "cell_type": "markdown",
   "metadata": {},
   "source": [
    "Normally, FITS images contain WCS information. We'll grab the WCS from the FITS image we opened earlier:"
   ]
  },
  {
   "cell_type": "code",
   "execution_count": 194,
   "metadata": {
    "collapsed": false
   },
   "outputs": [],
   "source": [
    "fname = 'dss17460a27m.fits'\n",
    "hdulist = fits.open(fname)\n",
    "\n",
    "w = wcs.WCS(hdulist[0].header)\n",
    "hdulist.close()"
   ]
  },
  {
   "cell_type": "markdown",
   "metadata": {},
   "source": [
    "The two basic things WCS does is allow you to go from \"world\" (i.e., sky) coordinates to \"pixel\" (i.e., image) coordinates, and vice versa. First, we'll go from pixel to world coordinates:"
   ]
  },
  {
   "cell_type": "code",
   "execution_count": 195,
   "metadata": {
    "collapsed": false
   },
   "outputs": [
    {
     "name": "stdout",
     "output_type": "stream",
     "text": [
      "[[ 92.35575456  20.47703492]\n",
      " [ 92.35786299  20.47784226]\n",
      " [ 92.35263803  20.47850844]]\n"
     ]
    }
   ],
   "source": [
    "pix_coords = np.array([\n",
    "    [10., 5.],\n",
    "    [3., 8.],\n",
    "    [20.5, 10.1]\n",
    "])\n",
    "\n",
    "world_coords = w.wcs_pix2world(pix_coords, 1)\n",
    "\n",
    "print(world_coords)"
   ]
  },
  {
   "cell_type": "markdown",
   "metadata": {},
   "source": [
    "In this case, the \"world coordinates\" are RA and Dec."
   ]
  },
  {
   "cell_type": "markdown",
   "metadata": {},
   "source": [
    "We can go from world coordinates to pixel coordinates as well:"
   ]
  },
  {
   "cell_type": "code",
   "execution_count": 196,
   "metadata": {
    "collapsed": false,
    "scrolled": false
   },
   "outputs": [
    {
     "name": "stdout",
     "output_type": "stream",
     "text": [
      "[[  9.20644676   6.67592584]\n",
      " [ 19.25541064   7.9442807 ]]\n"
     ]
    }
   ],
   "source": [
    "world_coords = np.array([\n",
    "    [92.356, 20.4775],\n",
    "    [92.353, 20.4779]\n",
    "])\n",
    "\n",
    "pix_coords = w.wcs_world2pix(world_coords, 1)\n",
    "\n",
    "print(pix_coords)"
   ]
  },
  {
   "cell_type": "markdown",
   "metadata": {},
   "source": [
    "# Convolution (astropy.convolve)\n",
    "\n",
    "Astropy contains some useful convolution functions, allowing you to set kernels flexibly, and dealing with NaNs."
   ]
  },
  {
   "cell_type": "code",
   "execution_count": 197,
   "metadata": {
    "collapsed": true
   },
   "outputs": [],
   "source": [
    "import astropy.convolution as conv"
   ]
  },
  {
   "cell_type": "markdown",
   "metadata": {},
   "source": [
    "Let's begin with our FITS image:"
   ]
  },
  {
   "cell_type": "code",
   "execution_count": 214,
   "metadata": {
    "collapsed": true
   },
   "outputs": [],
   "source": [
    "hdulist = fits.open(fname)\n",
    "img_orig = hdulist[0].data[:]\n",
    "hdulist.close()"
   ]
  },
  {
   "cell_type": "markdown",
   "metadata": {},
   "source": [
    "We define a kernel (there are many types we could choose), and then apply the convolution:"
   ]
  },
  {
   "cell_type": "code",
   "execution_count": 215,
   "metadata": {
    "collapsed": true
   },
   "outputs": [],
   "source": [
    "kern = conv.Gaussian2DKernel(5.)\n",
    "\n",
    "img_smooth = conv.convolve(img_orig, kern, boundary='extend')"
   ]
  },
  {
   "cell_type": "markdown",
   "metadata": {},
   "source": [
    "Let's plot the results. The original is on the left, and the smoothed image on the right:"
   ]
  },
  {
   "cell_type": "code",
   "execution_count": 217,
   "metadata": {
    "collapsed": false
   },
   "outputs": [
    {
     "data": {
      "image/png": "[encoded data removed]",
      "text/plain": [
       "<matplotlib.figure.Figure at 0x7faccd7f0510>"
      ]
     },
     "metadata": {},
     "output_type": "display_data"
    }
   ],
   "source": [
    "fig = plt.figure()\n",
    "\n",
    "ax = fig.add_subplot(1,2,1)\n",
    "ax.imshow(img_orig, cmap='binary', interpolation='nearest')\n",
    "ax.axis('off')\n",
    "\n",
    "ax = fig.add_subplot(1,2,2)\n",
    "ax.imshow(img_smooth, cmap='binary', interpolation='nearest')\n",
    "ax.axis('off');"
   ]
  },
  {
   "cell_type": "markdown",
   "metadata": {},
   "source": [
    "One nice thing about `astropy.convolution` is that it deals with NaNs gracefully:"
   ]
  },
  {
   "cell_type": "code",
   "execution_count": 211,
   "metadata": {
    "collapsed": false
   },
   "outputs": [
    {
     "data": {
      "text/plain": [
       "(-0.5, 58.5, 59.5, -0.5)"
      ]
     },
     "execution_count": 211,
     "metadata": {},
     "output_type": "execute_result"
    },
    {
     "data": {
      "image/png": "[encoded data removed]",
      "text/plain": [
       "<matplotlib.figure.Figure at 0x7facd562f450>"
      ]
     },
     "metadata": {},
     "output_type": "display_data"
    }
   ],
   "source": [
    "img_orig[5:10, 5:10] = np.nan\n",
    "img_smooth = conv.convolve(img_orig, kern, boundary='extend')\n",
    "\n",
    "fig = plt.figure()\n",
    "\n",
    "ax = fig.add_subplot(1,2,1)\n",
    "ax.imshow(img_orig, cmap='binary', interpolation='nearest')\n",
    "ax.axis('off')\n",
    "\n",
    "ax = fig.add_subplot(1,2,2)\n",
    "ax.imshow(img_smooth, cmap='binary', interpolation='nearest')\n",
    "ax.axis('off')"
   ]
  },
  {
   "cell_type": "code",
   "execution_count": null,
   "metadata": {
    "collapsed": true
   },
   "outputs": [],
   "source": []
  }
 ],
 "metadata": {
  "kernelspec": {
   "display_name": "Python 2",
   "language": "python",
   "name": "python2"
  },
  "language_info": {
   "codemirror_mode": {
    "name": "ipython",
    "version": 2
   },
   "file_extension": ".py",
   "mimetype": "text/x-python",
   "name": "python",
   "nbconvert_exporter": "python",
   "pygments_lexer": "ipython2",
   "version": "2.7.12"
  }
 },
 "nbformat": 4,
 "nbformat_minor": 1
}
