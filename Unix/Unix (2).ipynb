{
 "cells": [
  {
   "cell_type": "markdown",
   "metadata": {},
   "source": [
    "# Shell scripts\n",
    "\n",
    "This is a tutorial on Shell Command Language (shell scripts) for the [KIPAC computing boot camp](http://kipac.github.io/BootCamp).\n",
    "\n",
    "Author: [Yao-Yuan Mao](http://yymao.github.io), [Chris Davis](chris.pa.davis@gmail.com)"
   ]
  },
  {
   "cell_type": "markdown",
   "metadata": {},
   "source": [
    "Everything we type into the unix/linux command line interface is interpreted as \"shell script\", or \"shell command language\". There are [many different implementations](https://en.wikipedia.org/wiki/Comparison_of_command_shells#General_characteristics). Two of the most common ones are `bash` and `(t)csh`. \n",
    "\n",
    "Apparently (sadly?), despite some limited common features, different implementations would have differnt syntax, "
   ]
  },
  {
   "cell_type": "markdown",
   "metadata": {},
   "source": [
    "## Define and set variables\n",
    "\n",
    "Some common features:\n",
    "\n",
    "- To _call_ a variable, always start with the dollar sign (&#36;). For example, `$x` or `${x}`.\n",
    "- To _set_ a variable, the dollar sign is not needed. \n",
    "- Variable names are case-sensitive."
   ]
  },
  {
   "cell_type": "code",
   "execution_count": null,
   "metadata": {
    "collapsed": false
   },
   "outputs": [],
   "source": [
    "#bash\n",
    "\n",
    "x=1\n",
    "echo $x"
   ]
  },
  {
   "cell_type": "code",
   "execution_count": null,
   "metadata": {
    "collapsed": false
   },
   "outputs": [],
   "source": [
    "#csh \n",
    "\n",
    "set x 2\n",
    "echo $x"
   ]
  },
  {
   "cell_type": "markdown",
   "metadata": {},
   "source": [
    "You can also set variable content to string. Note the different quotation marks used here. When double quote is used, the variables inside the quotation would be expanded. "
   ]
  },
  {
   "cell_type": "code",
   "execution_count": null,
   "metadata": {
    "collapsed": true
   },
   "outputs": [],
   "source": [
    "#bash\n",
    "\n",
    "x='world'\n",
    "y=\"hello $x\"\n",
    "z='hello $x'\n",
    "\n",
    "echo $y\n",
    "echo $z"
   ]
  },
  {
   "cell_type": "code",
   "execution_count": null,
   "metadata": {
    "collapsed": true
   },
   "outputs": [],
   "source": [
    "#csh\n",
    "\n",
    "set x 'world'\n",
    "set y \"hello $x\"\n",
    "set z 'hello $x'\n",
    "\n",
    "echo $y\n",
    "echo $z"
   ]
  },
  {
   "cell_type": "markdown",
   "metadata": {},
   "source": [
    "These variables are local variables. That means they are not accessbile from other subshells. \n",
    "\n",
    "To make them \"enviornment variables\", you have to \"export\" them."
   ]
  },
  {
   "cell_type": "code",
   "execution_count": null,
   "metadata": {
    "collapsed": true
   },
   "outputs": [],
   "source": [
    "#bash\n",
    "\n",
    "export X=\"abc\""
   ]
  },
  {
   "cell_type": "code",
   "execution_count": null,
   "metadata": {
    "collapsed": false
   },
   "outputs": [],
   "source": [
    "#csh\n",
    "\n",
    "setenv X \"abc\""
   ]
  },
  {
   "cell_type": "markdown",
   "metadata": {},
   "source": [
    "## appending variables\n",
    "\n",
    "sometimes we want to append or prepend variables. This works the same way in both csh and bash. Here is an example how:"
   ]
  },
  {
   "cell_type": "code",
   "execution_count": null,
   "metadata": {
    "collapsed": true
   },
   "outputs": [],
   "source": [
    "#bash\n",
    "\n",
    "export x=world\n",
    "echo $x\n",
    "export x=\"hello ${x}\"\n",
    "echo $x"
   ]
  },
  {
   "cell_type": "markdown",
   "metadata": {},
   "source": [
    "## PATH\n",
    "\n",
    "Many programs use specific shell variables. For example, when you type a command, the shell looks through the PATH variable for directories where the command might be located. It will stop when it finds the command. Therefore, if you write some new executable in a new directory, and you want to call it elsewhere, you need to add that directory to the PATH variable.\n",
    "\n",
    "### Exercise\n",
    "\n",
    "Add the wget and tar executables from exercise 1 to your PATH. Instead of breaking our old wget and tar variables, rename them to wget_bootcamp and tar_bootcamp first"
   ]
  },
  {
   "cell_type": "code",
   "execution_count": null,
   "metadata": {
    "collapsed": true
   },
   "outputs": [],
   "source": [
    "#bash\n",
    "\n",
    "export PATH=$PATH:/path/to/unix/directory"
   ]
  },
  {
   "cell_type": "markdown",
   "metadata": {
    "collapsed": true
   },
   "source": [
    "## startup scripts\n",
    "\n",
    "One place where you have to use shell scripts is the start script. The start script is usually called:\n",
    "\n",
    "    .bashrc\n",
    "    .bash_profile\n",
    "    .cshrc\n",
    "    .login\n",
    "    .profile\n",
    "\n",
    "and it sits in your \"home directory\". \n",
    "\n",
    "**Reminder**: To go to your home directory, type `cd ~`.\n",
    "\n",
    "In most cases you want to put the script that sets enviornment variables in the startup script.\n",
    "\n",
    "If you modify a startup script and want to see the results of that modification without opening a new window, you can `source` the file, e.g. `source .bashrc`. **Note**: Startup scripts are often sourced in a specific order. If you source out of order, you might get a different result from what you would get if you just created a new window!\n"
   ]
  },
  {
   "cell_type": "markdown",
   "metadata": {},
   "source": [
    "### Exercise: Edit your your startup script so that you can use wget_bootcamp in a new window"
   ]
  },
  {
   "cell_type": "markdown",
   "metadata": {},
   "source": [
    "\n",
    "## alias\n",
    "\n",
    "Another useful thing to add in the startup script is alias, with which you can create shortcut to some commonly used commands.\n",
    "\n",
    "Below, I have created an alias `ll` which will display a directory's conents in long form, including permissions, size, and last time modified."
   ]
  },
  {
   "cell_type": "code",
   "execution_count": null,
   "metadata": {
    "collapsed": true
   },
   "outputs": [],
   "source": [
    "#bash\n",
    "alias ll='ls -l'"
   ]
  },
  {
   "cell_type": "code",
   "execution_count": null,
   "metadata": {
    "collapsed": true
   },
   "outputs": [],
   "source": [
    "#csh\n",
    "alias ll 'ls -l'"
   ]
  },
  {
   "cell_type": "markdown",
   "metadata": {
    "collapsed": true
   },
   "source": [
    "## functions\n",
    "\n",
    "Functions are like more customizable aliases. You can run multiple commands at once, and can take in arguments using numbers like `${1}`. Here is an example function that will compile a latex file, run bibtex, and then run xelatex a couple more times for things like table of contents. If you are in a directory and want to compile a file named `my_paper.tex`, you would write:\n",
    "\n",
    "    CompileLatex my_paper\n",
    "\n",
    "You can also specify default arguments using := . Here I have said that, if no argument is provided, use main. Thus,\n",
    "\n",
    "    CompileLatex\n",
    "  \n",
    "by itself will look for `main.tex` and compile that.\n",
    "\n",
    "#### Sadly, csh does not support functions. Instead, you must write extended aliases."
   ]
  },
  {
   "cell_type": "code",
   "execution_count": null,
   "metadata": {
    "collapsed": true
   },
   "outputs": [],
   "source": [
    "#bash\n",
    "\n",
    "function CompileLatex()\n",
    "{\n",
    "    latex -file-line-error -interaction=nonstopmode ${1:=main}.tex\n",
    "    bibtex ${1:=main}.aux\n",
    "    latex -file-line-error -interaction=nonstopmode ${1:=main}.tex\n",
    "    latex -file-line-error -interaction=nonstopmode ${1:=main}.tex\n",
    "}"
   ]
  },
  {
   "cell_type": "markdown",
   "metadata": {},
   "source": [
    "You can also specify multiple arguments using `@`. Below I give an example that will download files from a directory on the sherlock computing cluster specified by `${1}` to local directory `${2}` using flags (if any) specified from the third argument on:"
   ]
  },
  {
   "cell_type": "code",
   "execution_count": null,
   "metadata": {
    "collapsed": true
   },
   "outputs": [],
   "source": [
    "#bash\n",
    "\n",
    "function downsherlock() { rsync -rav ${@:3} cpd@sherlock.stanford.edu:${1} ${2} ;}"
   ]
  },
  {
   "cell_type": "markdown",
   "metadata": {},
   "source": [
    "### Exercise\n",
    "\n",
    "As Stanford affiliates, we have access to the Stanford computing clusters. Thus, we can access the rye01 computer via ssh with:\n",
    "\n",
    "    ssh cpd@rye01.stanford.edu\n",
    "\n",
    "Write a function `rye` which lets you specify which rye computer you want to log on to, but specifies 01 as the default.\n",
    "\n",
    "### hint:\n",
    "\n",
    "Sometimes macs have trouble sshing onto rye. In that case, I have found adding the following commands helps:\n",
    "\n",
    "    ssh -K -o GSSAPIKeyExchange=no cpd@rye01.stanford.edu\n",
    "    \n",
    "I _think_ this has been fixed."
   ]
  },
  {
   "cell_type": "code",
   "execution_count": null,
   "metadata": {
    "collapsed": true
   },
   "outputs": [],
   "source": [
    "#bash\n",
    "\n",
    "function rye(){ ssh cpd@rye${1:=01}.stanford.edu ;}"
   ]
  },
  {
   "cell_type": "markdown",
   "metadata": {},
   "source": [
    "## scripting in bash or csh\n",
    "\n",
    "Sometimes you need to make a bunch of directories for output of files. You have learned how to make directories with `mkdir`, but maybe you want to automate the scheme. My advice is this:\n",
    "\n",
    "### If you need to script in bash or csh, script in python instead!\n",
    "\n",
    "There is a very simple reason for this: python is simply a much more flexible language. In particular, manipulation of strings in shell is a huge pain, but is very easy in python. Shell will have _beautiful_ one line answers to a lot of simple manipulations (see the previous Unix session), but more complicated tasks tend to be quite cumbersome to implement in shell.\n",
    "\n",
    "I have found that the following packages are really useful:\n",
    "\n",
    "- os\n",
    "- sys\n",
    "- glob\n",
    "- subprocess\n",
    "\n",
    "Any python script you write can always (after appropriate chmod) be executed from shell. Just put\n",
    "\n",
    "    #!/usr/bin/env python\n",
    "\n",
    "at the head of your script, and you should be able to just type the name of the file and execute it. If you get `permission denied`, then you just need to change the permissions for the file (remember how from Unix (1)? `chmod u+x your_file`).\n",
    "\n",
    "Below I show a couple examples of things you can do in python to make shell scripting easier."
   ]
  },
  {
   "cell_type": "code",
   "execution_count": null,
   "metadata": {
    "collapsed": true
   },
   "outputs": [],
   "source": [
    "# example python function for making a set of directories:\n",
    "\n",
    "def check_make(path_check):\n",
    "    from os import path, makedirs\n",
    "    \"\"\"\n",
    "    Convenience routine to avoid that annoying 'can't make directory; already\n",
    "    present!' error.\n",
    "    \"\"\"\n",
    "    if not path.exists(path_check):\n",
    "        makedirs(path_check)"
   ]
  },
  {
   "cell_type": "code",
   "execution_count": null,
   "metadata": {
    "collapsed": true
   },
   "outputs": [],
   "source": [
    "# find all the names in directory that begin with uppercase A\n",
    "\n",
    "def find_A(directory):\n",
    "    from glob import glob\n",
    "    return glob(directory + '/A*')"
   ]
  },
  {
   "cell_type": "code",
   "execution_count": null,
   "metadata": {
    "collapsed": true
   },
   "outputs": [],
   "source": [
    "# call to the shell a command in python\n",
    "from subprocess import call\n",
    "\n",
    "# spaces in command correspond to entries in python list\n",
    "# NOTE that all entries must be strings!\n",
    "call(['echo', '\"hello world\"'])"
   ]
  },
  {
   "cell_type": "markdown",
   "metadata": {},
   "source": [
    "### Exercise\n",
    "\n",
    "In this folder are two log files: `Unix_2_bsub_00243636.log` and `Unix_2_bsub_00239721.log`. The 8 digits in the file name represent the exposure number. Write a python script that extracts the Max Memory and writes a file with two columns separated by a comma: the exposure number, and the maximum memory."
   ]
  },
  {
   "cell_type": "code",
   "execution_count": null,
   "metadata": {
    "collapsed": true
   },
   "outputs": [],
   "source": [
    "import glob\n",
    "import os\n",
    "\n",
    "# find the files\n",
    "files = glob.glob('/Users/cpd/Desktop/BootCamp/Unix/Unix_2_bsub_*.log')\n",
    "\n",
    "# extract their max memory\n",
    "max_memories = []\n",
    "exposure_numbers = []\n",
    "for f in files:\n",
    "    # extract the exposure_number\n",
    "    file_name = f.split('/')[-1]\n",
    "    exposure_number = int(file_name.split('.log')[0].split('_')[3])\n",
    "    exposure_numbers.append(exposure_number)\n",
    "    \n",
    "    # now read the file and extract the value.\n",
    "    # We note that the Max Memory column always looks like:\n",
    "    #    Max Memory :                                 \n",
    "    with open(f) as opened_file:\n",
    "        # we know it's near the end of the logfile, so go through the file from the back\n",
    "        # note that opened_file.readlines() returns a list of ALL the lines in the file.\n",
    "        found_max_memory = False\n",
    "        for file_line in reversed(opened_file.readlines()):\n",
    "            if found_max_memory:\n",
    "                break\n",
    "            if 'Max Memory :' in file_line:\n",
    "                # now we have to find the number. We note that the right side is always something like \"4031 MB\"\n",
    "                max_memory = int(file_line.split(' ')[-2])\n",
    "                max_memories.append(max_memory)\n",
    "                found_max_memory = True\n",
    "                \n",
    "# write the file\n",
    "output_file = '/Users/cpd/Desktop/Bootcamp/Unix/Unix_2_bsub_max_memory.csv'\n",
    "# remove it if it already exists\n",
    "if os.path.exists(output_file):\n",
    "    os.path.remove(output_file)\n",
    "with open(output_file, 'w') as opened_file:\n",
    "    header = 'exposure,max_memory\\n'\n",
    "    opened_file.write(header)\n",
    "    \n",
    "    for exposure_number, max_memory in zip(exposure_numbers, max_memories):\n",
    "        entry = '{0:08d},{1}\\n'.format(exposure_number, max_memory)\n",
    "        opened_file.write(entry)"
   ]
  }
 ],
 "metadata": {
  "kernelspec": {
   "display_name": "Python [conda root]",
   "language": "python",
   "name": "conda-root-py"
  },
  "language_info": {
   "codemirror_mode": {
    "name": "ipython",
    "version": 2
   },
   "file_extension": ".py",
   "mimetype": "text/x-python",
   "name": "python",
   "nbconvert_exporter": "python",
   "pygments_lexer": "ipython2",
   "version": "2.7.12"
  }
 },
 "nbformat": 4,
 "nbformat_minor": 0
}
