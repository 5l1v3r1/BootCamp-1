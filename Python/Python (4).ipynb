{
 "cells": [
  {
   "cell_type": "markdown",
   "metadata": {},
   "source": [
    "# Python Object Oriented Programming\n",
    "\n",
    "Author: Sean McLaughlin\n",
    "\n",
    "Object Oriented Programming (OOP) is arguably the most popular programming paradigm. It refers to a \"style\" of programming, partly in the user's control and partly emphasized by the programming language itself. Python, for example, was built from the start as an OOP language. That means that much of the language's built-ins follow and OOP design, and making your own objects is easy. \n",
    "\n",
    "**Disclaimer:** OOP is a powerful and popular programming paradigm. It is not, however, the only one. Some people have very, *very* strong opinions on this. For the next hour, we'll ignore those people. However, keep in mind going forward there are other was to design a program, and OOP is not always the best way! "
   ]
  },
  {
   "cell_type": "markdown",
   "metadata": {},
   "source": [
    "# TODO DELETME\n",
    "Topics to cover:\n",
    "* Make a class\n",
    "    * Instance variables\n",
    "    * Instance methods\n",
    "    * Difference between instances and the class itself\n",
    "* New v. Old style classes?\n",
    "* Iheritance\n",
    "* Operator overloading\n",
    "* Abstract classes"
   ]
  },
  {
   "cell_type": "markdown",
   "metadata": {},
   "source": [
    "-----\n",
    "### Part 0: What is OOP?"
   ]
  },
  {
   "cell_type": "markdown",
   "metadata": {},
   "source": [
    "What *is* an object?\n",
    "\n",
    "Well, first what *is* programming? \n",
    "\n",
    "Programming, in the most abstract sense, is defining logic to perform manipulations on data. \n",
    "\n",
    "An object is an abstract... um... *object* that contains both its relevant data and functions to manipulate that data. It follows from the idea that what we really care about are these abstract objects than the logic or data separately. "
   ]
  },
  {
   "cell_type": "markdown",
   "metadata": {},
   "source": [
    "Ok sure but... what *is* an object?\n",
    "\n",
    "It can be a lot of things. It can represent something real, like a student or an astronomical object. It can represent something more abstract, like a statistical model or a cosmology. It could even be something completely abstract. For example, all the widgets and cells in this notebook are actually objects within the Jupyter code. \n",
    "\n",
    "\n",
    "Programming with objects allows you to design your programs the way you actually understand the logic yourself. "
   ]
  },
  {
   "cell_type": "markdown",
   "metadata": {},
   "source": [
    "---\n",
    "### Part 1: Python Classes "
   ]
  },
  {
   "cell_type": "markdown",
   "metadata": {},
   "source": [
    "Let's make a simple class to get started. "
   ]
  },
  {
   "cell_type": "code",
   "execution_count": 7,
   "metadata": {
    "collapsed": true
   },
   "outputs": [],
   "source": [
    "class Student(object):\n",
    "    'A class defining a student!'\n",
    "    \n",
    "    def __init__(self, name, gpa, major = 'Physics'):\n",
    "        '''\n",
    "        Initialize the student. \n",
    "        \n",
    "        name: String, the student's name\n",
    "        gpa: The student's overall gpa\n",
    "        major: The student's major. Default is Physics. \n",
    "        '''\n",
    "        self.name = name\n",
    "        self.gpa = gpa\n",
    "        self.major = major\n",
    "        \n",
    "    def change_major(self, new_major):\n",
    "        '''\n",
    "        Change the student's major. \n",
    "        \n",
    "        new_major: str, the student's new major\n",
    "        '''\n",
    "        if new_major != self.major:\n",
    "            self.major=new_major\n",
    "        else:\n",
    "            print \"%s is already %s's major!\"%(self.major, self.name)\n",
    "        "
   ]
  },
  {
   "cell_type": "markdown",
   "metadata": {},
   "source": [
    "There's a lot to unpack here, so lets break it down. We've defined a class `Student` that has three attributes and two methods.\n",
    "\n",
    "The attributes are:\n",
    "* name\n",
    "* gpa\n",
    "* major\n",
    "\n",
    "And the methods are:\n",
    "* \\__init__\n",
    "* change_major\n",
    "\n",
    "How do these work? Let's make some instances to see. "
   ]
  },
  {
   "cell_type": "code",
   "execution_count": 8,
   "metadata": {
    "collapsed": false
   },
   "outputs": [
    {
     "name": "stdout",
     "output_type": "stream",
     "text": [
      "Sean 3.0 Physics\n",
      "Physics is already Sean's major!\n"
     ]
    }
   ],
   "source": [
    "student1 = Student('Sean', 3.0)\n",
    "print student1.name, student1.gpa, student1.major\n",
    "student2 = Student('Alice', 4.5, major='Biology')\n",
    "\n",
    "student2.change_major('Physics')#she wised up\n",
    "student1.change_major('Physics')#this should print! "
   ]
  },
  {
   "cell_type": "markdown",
   "metadata": {},
   "source": [
    "There's a few things to notice here:\n",
    "* student1 and student2 are *instances* of the student object. \n",
    "* We can access a Student's attributes and methods via `.` syntax"
   ]
  },
  {
   "cell_type": "code",
   "execution_count": null,
   "metadata": {
    "collapsed": true
   },
   "outputs": [],
   "source": [
    "from math import pi\n",
    "class Planet(object):\n",
    "    'A class defining the attributes of a planet.'\n",
    "    \n",
    "    G = 6.67e-11 #Newton's constant in SI units\n",
    "    \n",
    "    def __init__(self,name, order, mass,radius, moons=[]):\n",
    "        '''\n",
    "        Initialize the planet object.\n",
    "        name: str, the name of the planet\n",
    "        order: int, the planet's order in distance from the sun. \n",
    "        mass: float, The mass of the planet (in kg)\n",
    "        radius: float, radius of the planet (in m)\n",
    "        moons: list, a list of the names of the planet's moons. Default is an empty list. \n",
    "        '''\n",
    "        self.name\n",
    "        self.order = order\n",
    "        self.mass = mass\n",
    "        self.radius = radius\n",
    "        self.moons=moons\n",
    "        \n",
    "        volume = 4/3*pi*self.radius**3\n",
    "        self.density = self.mass/volume\n",
    "        \n",
    "    def __cmp__(self, other):\n",
    "        '''\n",
    "        Define comparison between planets. Defined as the planet closer to the sun is \"less\"\n",
    "        \n",
    "        other: Another Planet object\n",
    "        \n",
    "        return: the difference of self and other's orders. \n",
    "        '''\n",
    "        return self.order-other.order\n",
    "        \n",
    "    def num_moons(self):\n",
    "        '''\n",
    "        Return the number of moons the planet has\n",
    "        \n",
    "        return: Int, the number of moons\n",
    "        '''\n",
    "        return len(self.moons)\n",
    "    \n",
    "    def gravity(self, r):\n",
    "        '''\n",
    "        Calculate the acceleration due to gravity of the planet at a distance r.\n",
    "        r: float, the distance from the planet's center to calculate the force of gravity.\n",
    "        \n",
    "        return: float, the strength of gravity in m/s^2\n",
    "        '''\n",
    "        return G*self.mass/(r*r)\n",
    "    \n",
    "    def surface_gravity(self):\n",
    "        '''\n",
    "        Calculate the acceleration due to gravity on the planet's surface. \n",
    "        \n",
    "        return: float, the surface gravity in m/s^2\n",
    "        '''\n",
    "        return self.gravity(self.radius)"
   ]
  }
 ],
 "metadata": {
  "kernelspec": {
   "display_name": "Python 2",
   "language": "python",
   "name": "python2"
  },
  "language_info": {
   "codemirror_mode": {
    "name": "ipython",
    "version": 2
   },
   "file_extension": ".py",
   "mimetype": "text/x-python",
   "name": "python",
   "nbconvert_exporter": "python",
   "pygments_lexer": "ipython2",
   "version": "2.7.6"
  }
 },
 "nbformat": 4,
 "nbformat_minor": 0
}
