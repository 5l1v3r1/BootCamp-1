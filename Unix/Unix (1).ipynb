{
 "cells": [
  {
   "cell_type": "markdown",
   "metadata": {},
   "source": [
    "#  Basic Unix Tutorial\n",
    "\n",
    "This is a tutorial on basic unix operations for the [KIPAC computing boot camp](http://kipac.github.io/BootCamp).\n",
    "\n",
    "Authors: [Yao-Yuan Mao](http://yymao.github.io), [Joe DeRose](https://github.com/j-dr)\n",
    "\n",
    "Before getting started we will need to install a bash kernel for jupyter notebooks:\n",
    "\n",
    "```\n",
    "pip install bash_kernel  \n",
    "python -m bash_kernel.install\n",
    "```\n",
    "\n",
    "## Outline\n",
    "* Navigating the file system  \n",
    "* Manipulating the file system and files within it \n",
    "* Executing commands    \n",
    "* Useful utilities"
   ]
  },
  {
   "cell_type": "markdown",
   "metadata": {},
   "source": [
    "## Navigating the file system\n",
    "\n",
    "Unlike using a desktop enviornment, when you are working with a command line interface, you always \"exist\" in a specfic place in that system. We call this place the **Working Directory** (WD).\n",
    "\n",
    "- To print out the working directory, use *command* `pwd`. \n",
    "- To change the WD, use command `cd`, followed by an *argument*, the path of the new WD.\n",
    "    - If the path does NOT start with a slash (/), it's then RELATIVE to current WD\n",
    "    - To change the WD to the parent directory of current WD, usd `cd ..`\n",
    "    - To go back to the last WD, use `cd -`\n",
    "    - To go to your home directory, use `cd ~`\n",
    "    \n",
    "Try the following commands out. Use `pwd` to check if you get it right."
   ]
  },
  {
   "cell_type": "code",
   "execution_count": 1,
   "metadata": {
    "collapsed": false
   },
   "outputs": [
    {
     "data": {
      "text/plain": [
       "u'/Users/Joe/research/BootCamp/Unix'"
      ]
     },
     "execution_count": 1,
     "metadata": {},
     "output_type": "execute_result"
    }
   ],
   "source": [
    "pwd"
   ]
  },
  {
   "cell_type": "code",
   "execution_count": 25,
   "metadata": {
    "collapsed": false
   },
   "outputs": [
    {
     "name": "stdout",
     "output_type": "stream",
     "text": []
    }
   ],
   "source": [
    "cd /Users/Joe"
   ]
  },
  {
   "cell_type": "code",
   "execution_count": 26,
   "metadata": {
    "collapsed": false
   },
   "outputs": [
    {
     "name": "stdout",
     "output_type": "stream",
     "text": []
    }
   ],
   "source": [
    "cd Downloads"
   ]
  },
  {
   "cell_type": "code",
   "execution_count": 27,
   "metadata": {
    "collapsed": false
   },
   "outputs": [
    {
     "name": "stdout",
     "output_type": "stream",
     "text": []
    }
   ],
   "source": [
    "cd .."
   ]
  },
  {
   "cell_type": "code",
   "execution_count": 28,
   "metadata": {
    "collapsed": false
   },
   "outputs": [
    {
     "name": "stdout",
     "output_type": "stream",
     "text": [
      "/Users/Joe/Downloads\r\n"
     ]
    }
   ],
   "source": [
    "cd -"
   ]
  },
  {
   "cell_type": "code",
   "execution_count": 6,
   "metadata": {
    "collapsed": false
   },
   "outputs": [
    {
     "name": "stdout",
     "output_type": "stream",
     "text": [
      "/Users/Joe\n"
     ]
    }
   ],
   "source": [
    "cd ~"
   ]
  },
  {
   "cell_type": "markdown",
   "metadata": {},
   "source": [
    "To see the files and directories inside a directory, use `ls`, followed by that directory. If no argument is followed, it lists the files and directories inside current WD. \n",
    "\n",
    "Try the following commands out."
   ]
  },
  {
   "cell_type": "code",
   "execution_count": 7,
   "metadata": {
    "collapsed": false
   },
   "outputs": [
    {
     "name": "stdout",
     "output_type": "stream",
     "text": [
      "\u001b[34mApplications\u001b[m\u001b[m/    EDU              \u001b[34mSi2ratio\u001b[m\u001b[m/        \u001b[34mresearch\u001b[m\u001b[m/\r\n",
      "\u001b[34mCalibre Library\u001b[m\u001b[m/ \u001b[34mLibrary\u001b[m\u001b[m/         \u001b[34mTrovi\u001b[m\u001b[m/           \u001b[34mscratch\u001b[m\u001b[m/\r\n",
      "\u001b[34mDesktop\u001b[m\u001b[m/         \u001b[34mMovies\u001b[m\u001b[m/          \u001b[34mbashmarks\u001b[m\u001b[m/       \u001b[34mteaching\u001b[m\u001b[m/\r\n",
      "\u001b[34mDocuments\u001b[m\u001b[m/       \u001b[34mMusic\u001b[m\u001b[m/           \u001b[34mcoursework\u001b[m\u001b[m/      \u001b[34mworkspace\u001b[m\u001b[m/\r\n",
      "\u001b[34mDownloads\u001b[m\u001b[m/       \u001b[34mPictures\u001b[m\u001b[m/        \u001b[34mmworkspace\u001b[m\u001b[m/\r\n",
      "\u001b[34mDropbox\u001b[m\u001b[m/         \u001b[34mPublic\u001b[m\u001b[m/          \u001b[34mnotebooks\u001b[m\u001b[m/\r\n"
     ]
    }
   ],
   "source": [
    "ls"
   ]
  },
  {
   "cell_type": "code",
   "execution_count": 8,
   "metadata": {
    "collapsed": false
   },
   "outputs": [
    {
     "name": "stdout",
     "output_type": "stream",
     "text": [
      "\u001b[34mGuest\u001b[m\u001b[m/  \u001b[34mJoe\u001b[m\u001b[m/    \u001b[30m\u001b[42mShared\u001b[m\u001b[m/\r\n"
     ]
    }
   ],
   "source": [
    "ls .."
   ]
  },
  {
   "cell_type": "code",
   "execution_count": 9,
   "metadata": {
    "collapsed": false
   },
   "outputs": [
    {
     "name": "stdout",
     "output_type": "stream",
     "text": [
      "\u001b[34mApplications\u001b[m\u001b[m/    EDU              \u001b[34mSi2ratio\u001b[m\u001b[m/        \u001b[34mresearch\u001b[m\u001b[m/\r\n",
      "\u001b[34mCalibre Library\u001b[m\u001b[m/ \u001b[34mLibrary\u001b[m\u001b[m/         \u001b[34mTrovi\u001b[m\u001b[m/           \u001b[34mscratch\u001b[m\u001b[m/\r\n",
      "\u001b[34mDesktop\u001b[m\u001b[m/         \u001b[34mMovies\u001b[m\u001b[m/          \u001b[34mbashmarks\u001b[m\u001b[m/       \u001b[34mteaching\u001b[m\u001b[m/\r\n",
      "\u001b[34mDocuments\u001b[m\u001b[m/       \u001b[34mMusic\u001b[m\u001b[m/           \u001b[34mcoursework\u001b[m\u001b[m/      \u001b[34mworkspace\u001b[m\u001b[m/\r\n",
      "\u001b[34mDownloads\u001b[m\u001b[m/       \u001b[34mPictures\u001b[m\u001b[m/        \u001b[34mmworkspace\u001b[m\u001b[m/\r\n",
      "\u001b[34mDropbox\u001b[m\u001b[m/         \u001b[34mPublic\u001b[m\u001b[m/          \u001b[34mnotebooks\u001b[m\u001b[m/\r\n"
     ]
    }
   ],
   "source": [
    "ls ~"
   ]
  },
  {
   "cell_type": "markdown",
   "metadata": {},
   "source": [
    "(Note that when you `ls` a directory, you did not automatically `cd` into that directory. You still stay in your original WD. Use `pwd` to be sure.)\n",
    "\n",
    "Keep trying some more:"
   ]
  },
  {
   "cell_type": "code",
   "execution_count": 10,
   "metadata": {
    "collapsed": false
   },
   "outputs": [
    {
     "name": "stdout",
     "output_type": "stream",
     "text": [
      "\u001b[34m.\u001b[m\u001b[m/                     \u001b[34m.jupyter\u001b[m\u001b[m/              .serverauth.587\r\n",
      "\u001b[34m..\u001b[m\u001b[m/                    .lesshst               .serverauth.596\r\n",
      ".CFUserTextEncoding    \u001b[34m.local\u001b[m\u001b[m/                .serverauth.673\r\n",
      ".DS_Store              \u001b[34m.matlab\u001b[m\u001b[m/               .serverauth.71030\r\n",
      "\u001b[34m.Trash\u001b[m\u001b[m/                \u001b[34m.matplotlib\u001b[m\u001b[m/           .serverauth.76096\r\n",
      ".Xauthority            .mysql_history         .serverauth.920\r\n",
      "\u001b[34m.adobe\u001b[m\u001b[m/                .netrc                 .serverauth.962\r\n",
      "\u001b[34m.astropy\u001b[m\u001b[m/              .node_repl_history     .sqlite_history\r\n",
      "\u001b[34m.atom\u001b[m\u001b[m/                 \u001b[34m.npm\u001b[m\u001b[m/                  \u001b[34m.ssh\u001b[m\u001b[m/\r\n",
      ".bash_history          \u001b[34m.nx\u001b[m\u001b[m/                   \u001b[34m.subversion\u001b[m\u001b[m/\r\n",
      "\u001b[34m.bash_sessions\u001b[m\u001b[m/        .octave_hist           .viminfo\r\n",
      "\u001b[34m.cache\u001b[m\u001b[m/                .octaverc              \u001b[34mApplications\u001b[m\u001b[m/\r\n",
      "\u001b[34m.canopy\u001b[m\u001b[m/               .octaverc~             \u001b[34mCalibre Library\u001b[m\u001b[m/\r\n",
      "\u001b[34m.config\u001b[m\u001b[m/               \u001b[34m.oracle_jre_usage\u001b[m\u001b[m/     \u001b[34mDesktop\u001b[m\u001b[m/\r\n",
      "\u001b[34m.continuum\u001b[m\u001b[m/            \u001b[34m.pip\u001b[m\u001b[m/                  \u001b[34mDocuments\u001b[m\u001b[m/\r\n",
      "\u001b[34m.cups\u001b[m\u001b[m/                 .profile               \u001b[34mDownloads\u001b[m\u001b[m/\r\n",
      "\u001b[34m.distlib\u001b[m\u001b[m/              .profile-anaconda.bak  \u001b[34mDropbox\u001b[m\u001b[m/\r\n",
      "\u001b[34m.dropbox\u001b[m\u001b[m/              .profile~              EDU\r\n",
      ".emacs                 \u001b[34m.pyxbld\u001b[m\u001b[m/               \u001b[34mLibrary\u001b[m\u001b[m/\r\n",
      "\u001b[34m.emacs.d\u001b[m\u001b[m/              \u001b[34m.qt\u001b[m\u001b[m/                   \u001b[34mMovies\u001b[m\u001b[m/\r\n",
      ".enstaller4rc          .rnd                   \u001b[34mMusic\u001b[m\u001b[m/\r\n",
      "\u001b[34m.gem\u001b[m\u001b[m/                  .sdirs                 \u001b[34mPictures\u001b[m\u001b[m/\r\n",
      "\u001b[34m.git\u001b[m\u001b[m/                  .serverauth.1062       \u001b[34mPublic\u001b[m\u001b[m/\r\n",
      ".gitconfig             .serverauth.1182       \u001b[34mSi2ratio\u001b[m\u001b[m/\r\n",
      ".gitconfig~            .serverauth.1407       \u001b[34mTrovi\u001b[m\u001b[m/\r\n",
      ".gitk                  .serverauth.1425       \u001b[34mbashmarks\u001b[m\u001b[m/\r\n",
      ".hgrc                  .serverauth.1432       \u001b[34mcoursework\u001b[m\u001b[m/\r\n",
      ".hgrc~                 .serverauth.16962      \u001b[34mmworkspace\u001b[m\u001b[m/\r\n",
      "\u001b[34m.ipython\u001b[m\u001b[m/              .serverauth.1792       \u001b[34mnotebooks\u001b[m\u001b[m/\r\n",
      "\u001b[34m.julia\u001b[m\u001b[m/                .serverauth.2127       \u001b[34mresearch\u001b[m\u001b[m/\r\n",
      ".julia_history         .serverauth.25046      \u001b[34mscratch\u001b[m\u001b[m/\r\n",
      ".juliarc.jl            .serverauth.2717       \u001b[34mteaching\u001b[m\u001b[m/\r\n",
      ".juliarc.jl~           .serverauth.5825       \u001b[34mworkspace\u001b[m\u001b[m/\r\n"
     ]
    }
   ],
   "source": [
    "ls -a ~"
   ]
  },
  {
   "cell_type": "code",
   "execution_count": 11,
   "metadata": {
    "collapsed": false
   },
   "outputs": [
    {
     "name": "stdout",
     "output_type": "stream",
     "text": [
      "total 0\r\n",
      "drwx------    6 Joe  staff    204 Oct  4 09:02 \u001b[34mApplications\u001b[m\u001b[m/\r\n",
      "drwxr-xr-x    8 Joe  staff    272 Oct 11  2015 \u001b[34mCalibre Library\u001b[m\u001b[m/\r\n",
      "drwx------+   9 Joe  staff    306 Oct  4 16:05 \u001b[34mDesktop\u001b[m\u001b[m/\r\n",
      "drwx------+  47 Joe  staff   1598 Oct  3 09:42 \u001b[34mDocuments\u001b[m\u001b[m/\r\n",
      "drwx------+ 394 Joe  staff  13396 Oct  2 16:34 \u001b[34mDownloads\u001b[m\u001b[m/\r\n",
      "drwx------@  19 Joe  staff    646 Oct  4 09:02 \u001b[34mDropbox\u001b[m\u001b[m/\r\n",
      "-rw-r--r--    1 Joe  staff      0 Aug 10  2015 EDU\r\n",
      "drwx------@  72 Joe  staff   2448 Jun  1 00:01 \u001b[34mLibrary\u001b[m\u001b[m/\r\n",
      "drwx------+   4 Joe  staff    136 Aug 28  2013 \u001b[34mMovies\u001b[m\u001b[m/\r\n",
      "drwx------+   6 Joe  staff    204 Jun 25  2013 \u001b[34mMusic\u001b[m\u001b[m/\r\n",
      "drwx------+  19 Joe  staff    646 Aug 23 09:46 \u001b[34mPictures\u001b[m\u001b[m/\r\n",
      "drwxr-xr-x+   4 Joe  staff    136 May 21  2013 \u001b[34mPublic\u001b[m\u001b[m/\r\n",
      "drwx------  137 Joe  staff   4658 Jun  9  2014 \u001b[34mSi2ratio\u001b[m\u001b[m/\r\n",
      "drwxr-xr-x    5 Joe  staff    170 Jan 18  2015 \u001b[34mTrovi\u001b[m\u001b[m/\r\n",
      "drwxr-xr-x    7 Joe  staff    238 Jul  1  2013 \u001b[34mbashmarks\u001b[m\u001b[m/\r\n",
      "drwxr-xr-x   16 Joe  staff    544 May 20 15:48 \u001b[34mcoursework\u001b[m\u001b[m/\r\n",
      "drwxr-xr-x    4 Joe  staff    136 Jan 21  2015 \u001b[34mmworkspace\u001b[m\u001b[m/\r\n",
      "drwxr-xr-x    4 Joe  staff    136 Mar  3  2016 \u001b[34mnotebooks\u001b[m\u001b[m/\r\n",
      "drwxr-xr-x   47 Joe  staff   1598 Sep 28 22:21 \u001b[34mresearch\u001b[m\u001b[m/\r\n",
      "drwxr-xr-x    3 Joe  staff    102 Oct 31  2013 \u001b[34mscratch\u001b[m\u001b[m/\r\n",
      "drwxr-xr-x    4 Joe  staff    136 Sep 20  2015 \u001b[34mteaching\u001b[m\u001b[m/\r\n",
      "drwxr-xr-x    6 Joe  staff    204 Jan  2  2014 \u001b[34mworkspace\u001b[m\u001b[m/\r\n"
     ]
    }
   ],
   "source": [
    "ls -l ~"
   ]
  },
  {
   "cell_type": "code",
   "execution_count": 12,
   "metadata": {
    "collapsed": false
   },
   "outputs": [
    {
     "name": "stdout",
     "output_type": "stream",
     "text": [
      "\u001b[34mDesktop\u001b[m\u001b[m/         \u001b[34mPictures\u001b[m\u001b[m/        EDU              \u001b[34mMovies\u001b[m\u001b[m/\r\n",
      "\u001b[34mApplications\u001b[m\u001b[m/    \u001b[34mLibrary\u001b[m\u001b[m/         \u001b[34mmworkspace\u001b[m\u001b[m/      \u001b[34mbashmarks\u001b[m\u001b[m/\r\n",
      "\u001b[34mDropbox\u001b[m\u001b[m/         \u001b[34mcoursework\u001b[m\u001b[m/      \u001b[34mTrovi\u001b[m\u001b[m/           \u001b[34mMusic\u001b[m\u001b[m/\r\n",
      "\u001b[34mDocuments\u001b[m\u001b[m/       \u001b[34mnotebooks\u001b[m\u001b[m/       \u001b[34mSi2ratio\u001b[m\u001b[m/        \u001b[34mPublic\u001b[m\u001b[m/\r\n",
      "\u001b[34mDownloads\u001b[m\u001b[m/       \u001b[34mCalibre Library\u001b[m\u001b[m/ \u001b[34mworkspace\u001b[m\u001b[m/\r\n",
      "\u001b[34mresearch\u001b[m\u001b[m/        \u001b[34mteaching\u001b[m\u001b[m/        \u001b[34mscratch\u001b[m\u001b[m/\r\n"
     ]
    }
   ],
   "source": [
    "ls -t ~"
   ]
  },
  {
   "cell_type": "markdown",
   "metadata": {},
   "source": [
    "Notice that by adding *optional arguments* such as `-a` or `-l` after `ls`, we obtain slightly different outputs. For `ls`, `-a` prints all files including the hidden ones, `-l` prints a long, detailed list, `-t` prints the list ordered by time.\n",
    "\n",
    "You can also combine options, like:"
   ]
  },
  {
   "cell_type": "code",
   "execution_count": 1,
   "metadata": {
    "collapsed": false
   },
   "outputs": [
    {
     "name": "stdout",
     "output_type": "stream",
     "text": [
      "total 496\r\n",
      "-rw-------    1 Joe   staff   8783 Oct  4 22:11 .bash_history\r\n",
      "-rw-------    1 Joe   staff     46 Oct  4 21:43 .lesshst\r\n",
      "drwxr-xr-x  279 Joe   staff   9486 Oct  4 20:59 \u001b[34m.bash_sessions\u001b[39;49m\u001b[0m\r\n",
      "-rw-------    1 Joe   staff    715 Oct  4 20:59 .sdirs\r\n",
      "drwxr-xr-x    5 Joe   staff    170 Oct  4 20:48 \u001b[34mnew_dir\u001b[39;49m\u001b[0m\r\n",
      "drwxr-xr-x+ 100 Joe   staff   3400 Oct  4 20:46 \u001b[34m.\u001b[39;49m\u001b[0m\r\n",
      "-rw-r--r--@   1 Joe   staff  18436 Oct  4 16:07 .DS_Store\r\n",
      "drwx------+   9 Joe   staff    306 Oct  4 16:05 \u001b[34mDesktop\u001b[39;49m\u001b[0m\r\n",
      "drwx------  491 Joe   staff  16694 Oct  4 16:05 \u001b[34m.Trash\u001b[39;49m\u001b[0m\r\n",
      "-rw-------    1 Joe   staff   5516 Oct  4 09:38 .Xauthority\r\n",
      "-rw-------    1 Joe   staff     59 Oct  4 09:38 .serverauth.673\r\n",
      "drwx------    6 Joe   staff    204 Oct  4 09:02 \u001b[34mApplications\u001b[39;49m\u001b[0m\r\n",
      "drwx------@  19 Joe   staff    646 Oct  4 09:02 \u001b[34mDropbox\u001b[39;49m\u001b[0m\r\n",
      "drwxr-xr-x    6 Joe   staff    204 Oct  3 23:31 \u001b[34m.matplotlib\u001b[39;49m\u001b[0m\r\n",
      "drwx------+  47 Joe   staff   1598 Oct  3 09:42 \u001b[34mDocuments\u001b[39;49m\u001b[0m\r\n",
      "drwx------+ 394 Joe   staff  13396 Oct  2 16:34 \u001b[34mDownloads\u001b[39;49m\u001b[0m\r\n",
      "drwxr-xr-x   47 Joe   staff   1598 Sep 28 22:21 \u001b[34mresearch\u001b[39;49m\u001b[0m\r\n",
      "-rw-------    1 Joe   staff    204 Sep 28 22:11 .netrc\r\n",
      "drwxr-xr-x    4 Joe   staff    136 Sep 28 22:11 \u001b[34m.cache\u001b[39;49m\u001b[0m\r\n",
      "drwxr-xr-x    3 Joe   staff    102 Sep 28 22:11 \u001b[34m.config\u001b[39;49m\u001b[0m\r\n",
      "drwxr-xr-x   11 Joe   staff    374 Sep 28 22:11 \u001b[34m.local\u001b[39;49m\u001b[0m\r\n",
      "drwxr-xr-x  348 Joe   staff  11832 Sep 28 21:42 \u001b[34m.npm\u001b[39;49m\u001b[0m\r\n",
      "-rw-------    1 Joe   staff      0 Sep 28 21:41 .node_repl_history\r\n",
      "-rw-------    1 Joe   staff     61 Sep 14 17:46 .serverauth.1182\r\n",
      "drwx------+  19 Joe   staff    646 Aug 23 09:46 \u001b[34mPictures\u001b[39;49m\u001b[0m\r\n",
      "-rw-r--r--    1 Joe   staff   2094 Aug 17 13:38 .profile\r\n",
      "-rw-r--r--    1 Joe   staff   2085 Aug 17 13:38 .profile~\r\n",
      "-rw-------    1 Joe   staff     59 Aug 17 10:20 .serverauth.1425\r\n",
      "drwxr-xr-x   14 Joe   staff    476 Aug 14 18:39 \u001b[34m.atom\u001b[39;49m\u001b[0m\r\n",
      "-rw-r--r--    1 Joe   staff    191 Jun 22 17:05 .gitconfig\r\n",
      "drwxr-xr-x   14 Joe   staff    476 Jun  8 09:37 \u001b[34m.git\u001b[39;49m\u001b[0m\r\n",
      "drwx------@  72 Joe   staff   2448 Jun  1 00:01 \u001b[34mLibrary\u001b[39;49m\u001b[0m\r\n",
      "drwxr-xr-x    6 root  admin    204 May 31 23:47 \u001b[34m..\u001b[39;49m\u001b[0m\r\n",
      "-rw-------    1 Joe   staff     59 May 30 12:05 .serverauth.1407\r\n",
      "-rw-------    1 Joe   staff     61 May 25 13:58 .serverauth.596\r\n",
      "-rw-------    1 Joe   staff     61 May 21 15:41 .serverauth.920\r\n",
      "-rw-------    1 Joe   staff     82 May 20 16:32 .serverauth.2127\r\n",
      "drwxr-xr-x   16 Joe   staff    544 May 20 15:48 \u001b[34mcoursework\u001b[39;49m\u001b[0m\r\n",
      "-rw-------    1 Joe   staff     61 May 17 09:33 .serverauth.25046\r\n",
      "drwx------   11 Joe   staff    374 Apr 17 11:49 \u001b[34m.dropbox\u001b[39;49m\u001b[0m\r\n",
      "-rw-------    1 Joe   staff     72 Mar 17  2016 .serverauth.1432\r\n",
      "-rw-r--r--    1 Joe   staff  38318 Mar  8  2016 .julia_history\r\n",
      "-rw-r--r--    1 Joe   staff   1500 Mar  8  2016 .profile-anaconda.bak\r\n",
      "-rw-r--r--    1 Joe   staff     93 Mar  7  2016 .juliarc.jl\r\n",
      "-rw-r--r--    1 Joe   staff     60 Mar  6  2016 .juliarc.jl~\r\n",
      "drwxr-xr-x    4 Joe   staff    136 Mar  3  2016 \u001b[34mnotebooks\u001b[39;49m\u001b[0m\r\n",
      "-rw-------    1 Joe   staff     61 Jan 26  2016 .serverauth.2717\r\n",
      "-rw-r--r--    1 Joe   staff     56 Jan 25  2016 .emacs\r\n",
      "drwxr-xr-x    4 Joe   staff    136 Jan 25  2016 \u001b[34m.emacs.d\u001b[39;49m\u001b[0m\r\n",
      "drwxr-xr-x   62 Joe   staff   2108 Jan 14  2016 \u001b[34m.nx\u001b[39;49m\u001b[0m\r\n",
      "drwx------   11 Joe   staff    374 Jan 12  2016 \u001b[34m.ssh\u001b[39;49m\u001b[0m\r\n",
      "drwxr-xr-x    6 Joe   staff    204 Jan 11  2016 \u001b[34m.julia\u001b[39;49m\u001b[0m\r\n",
      "drwxr-xr-x    3 Joe   staff    102 Dec  3  2015 \u001b[34m.oracle_jre_usage\u001b[39;49m\u001b[0m\r\n",
      "-rw-------    1 Joe   staff   3124 Dec  3  2015 .octave_hist\r\n",
      "-rw-r--r--    1 Joe   staff    296 Dec  1  2015 .hgrc\r\n",
      "-rw-------    1 Joe   staff    811 Dec  1  2015 .viminfo\r\n",
      "-rw-r--r--    1 Joe   staff    288 Dec  1  2015 .hgrc~\r\n",
      "-rw-r--r--    1 Joe   staff     64 Nov 30  2015 .octaverc\r\n",
      "-rw-r--r--    1 Joe   staff     23 Nov 30  2015 .octaverc~\r\n",
      "-rw-------    1 Joe   staff     61 Oct 21  2015 .serverauth.1792\r\n",
      "drwxr-xr-x    2 root  staff     68 Oct 18  2015 \u001b[34m.continuum\u001b[39;49m\u001b[0m\r\n",
      "drwxr-xr-x    8 Joe   staff    272 Oct 11  2015 \u001b[34mCalibre Library\u001b[39;49m\u001b[0m\r\n",
      "drwxr-xr-x    3 Joe   staff    102 Sep 29  2015 \u001b[34m.jupyter\u001b[39;49m\u001b[0m\r\n",
      "-rw-------    1 Joe   staff     61 Sep 24  2015 .serverauth.1062\r\n",
      "drwxr-xr-x    3 Joe   staff    102 Sep 21  2015 \u001b[34m.astropy\u001b[39;49m\u001b[0m\r\n",
      "drwxr-xr-x    4 Joe   staff    136 Sep 20  2015 \u001b[34mteaching\u001b[39;49m\u001b[0m\r\n",
      "-rw-------    1 Joe   staff    126 Sep 18  2015 .serverauth.587\r\n",
      "-rw-------    1 Joe   staff     61 Sep  3  2015 .serverauth.16962\r\n",
      "-rw-r--r--    1 Joe   staff      0 Aug 10  2015 EDU\r\n",
      "-rw-------    1 Joe   staff     63 Jul 30  2015 .serverauth.5825\r\n",
      "-r--------    1 Joe   staff      7 Apr 19  2015 .CFUserTextEncoding\r\n",
      "drwxr-xr-x    9 Joe   staff    306 Mar 19  2015 \u001b[34m.ipython\u001b[39;49m\u001b[0m\r\n",
      "-rw-------    1 Joe   staff     59 Mar 11  2015 .serverauth.71030\r\n",
      "-rw-------    1 Joe   staff     75 Feb 15  2015 .serverauth.76096\r\n",
      "drwxr-xr-x    4 Joe   staff    136 Jan 21  2015 \u001b[34mmworkspace\u001b[39;49m\u001b[0m\r\n",
      "drwxr-xr-x    5 Joe   staff    170 Jan 18  2015 \u001b[34mTrovi\u001b[39;49m\u001b[0m\r\n",
      "-rw-------    1 Joe   staff     75 Nov  8  2014 .serverauth.962\r\n",
      "-rw-r--r--    1 Joe   staff   2443 Oct  5  2014 .enstaller4rc\r\n",
      "-rw-------    1 Joe   staff   1551 Sep 15  2014 .sqlite_history\r\n",
      "drwx------  137 Joe   staff   4658 Jun  9  2014 \u001b[34mSi2ratio\u001b[39;49m\u001b[0m\r\n",
      "drwxr-xr-x   14 Joe   staff    476 Mar 27  2014 \u001b[34m.canopy\u001b[39;49m\u001b[0m\r\n",
      "drwxr-xr-x    3 Joe   staff    102 Mar 27  2014 \u001b[34m.distlib\u001b[39;49m\u001b[0m\r\n",
      "-rw-------    1 Joe   staff   4425 Mar 24  2014 .mysql_history\r\n",
      "drwxr-xr-x    6 Joe   staff    204 Jan  2  2014 \u001b[34mworkspace\u001b[39;49m\u001b[0m\r\n",
      "drwx------    3 Joe   staff    102 Dec 12  2013 \u001b[34m.cups\u001b[39;49m\u001b[0m\r\n",
      "drwxr-xr-x    6 Joe   staff    204 Dec  7  2013 \u001b[34m.subversion\u001b[39;49m\u001b[0m\r\n",
      "drwxr-xr-x    4 Joe   staff    136 Nov 21  2013 \u001b[34m.pyxbld\u001b[39;49m\u001b[0m\r\n",
      "drwxr-xr-x    4 Joe   staff    136 Nov 13  2013 \u001b[34m.gem\u001b[39;49m\u001b[0m\r\n",
      "-rw-r--r--    1 Joe   staff    893 Nov 13  2013 .gitk\r\n",
      "drwxr-xr-x    3 Joe   staff    102 Oct 31  2013 \u001b[34mscratch\u001b[39;49m\u001b[0m\r\n",
      "drwxr-xr-x    3 Joe   staff    102 Sep 28  2013 \u001b[34m.pip\u001b[39;49m\u001b[0m\r\n",
      "drwxr-xr-x    3 Joe   staff    102 Sep  5  2013 \u001b[34m.matlab\u001b[39;49m\u001b[0m\r\n",
      "-rw-------    1 root  staff   1024 Aug 29  2013 .rnd\r\n",
      "drwx------+   4 Joe   staff    136 Aug 28  2013 \u001b[34mMovies\u001b[39;49m\u001b[0m\r\n",
      "drwxr-xr-x    4 Joe   staff    136 Jul 30  2013 \u001b[34m.adobe\u001b[39;49m\u001b[0m\r\n",
      "-rw-r--r--    1 Joe   staff    197 Jul 30  2013 .gitconfig~\r\n",
      "drwxr-xr-x    7 Joe   staff    238 Jul  1  2013 \u001b[34mbashmarks\u001b[39;49m\u001b[0m\r\n",
      "drwx------+   6 Joe   staff    204 Jun 25  2013 \u001b[34mMusic\u001b[39;49m\u001b[0m\r\n",
      "drwx------    3 Joe   staff    102 May 21  2013 \u001b[34m.qt\u001b[39;49m\u001b[0m\r\n",
      "drwxr-xr-x+   4 Joe   staff    136 May 21  2013 \u001b[34mPublic\u001b[39;49m\u001b[0m\r\n"
     ]
    }
   ],
   "source": [
    "ls -alt ~"
   ]
  },
  {
   "cell_type": "markdown",
   "metadata": {},
   "source": [
    "**You might have noticed**:\n",
    "\n",
    "- Operations are specificed by `<command> <arguments>`\n",
    "- Optional arguments *usually* start with a dash (-)\n",
    "- The names of hidden files/directories always start with a dot (.)"
   ]
  },
  {
   "cell_type": "markdown",
   "metadata": {},
   "source": [
    "When in doubt use ```man```, which will show the manual for any command with documentation on the linux man pages."
   ]
  },
  {
   "cell_type": "markdown",
   "metadata": {},
   "source": [
    "##  Manipulating the file system \n",
    "\n",
    "Now we are going to download some files for this session, so `cd` into a directory of your chioce, we will store the files there.\n",
    "\n",
    "Want to create a new empty directory? `cd` into the directory where you want to create the new directory, and use `mkdir` followed by the name of new directory. Then `cd` into it."
   ]
  },
  {
   "cell_type": "code",
   "execution_count": 17,
   "metadata": {
    "collapsed": false
   },
   "outputs": [
    {
     "name": "stdout",
     "output_type": "stream",
     "text": []
    }
   ],
   "source": [
    "mkdir new_dir\n",
    "cd new_dir"
   ]
  },
  {
   "cell_type": "markdown",
   "metadata": {},
   "source": [
    "(You also noticed that when you make a new directory, you did not automatically `cd` into it.)\n",
    "\n",
    "Now we can download the files. I have compressed the files as a signle tarball. Type the following commands to download and decompress the file."
   ]
  },
  {
   "cell_type": "code",
   "execution_count": 18,
   "metadata": {
    "collapsed": false
   },
   "outputs": [
    {
     "name": "stdout",
     "output_type": "stream",
     "text": [
      "--2016-10-04 20:48:58--  https://github.com/KIPAC/BootCamp/raw/master/Unix/files_for_practice.tar.gz\r\n",
      "Resolving github.com... 192.30.253.113\r\n",
      "Connecting to github.com|192.30.253.113|:443... connected.\r\n",
      "HTTP request sent, awaiting response... 302 Found\r\n",
      "Location: https://raw.githubusercontent.com/KIPAC/BootCamp/master/Unix/files_for_practice.tar.gz [following]\r\n",
      "--2016-10-04 20:48:58--  https://raw.githubusercontent.com/KIPAC/BootCamp/master/Unix/files_for_practice.tar.gz\r\n",
      "Resolving raw.githubusercontent.com... 151.101.40.133\r\n",
      "Connecting to raw.githubusercontent.com|151.101.40.133|:443... connected.\r\n",
      "HTTP request sent, awaiting response... 200 OK\r\n",
      "Length: 7397 (7.2K) [application/octet-stream]\r\n",
      "Saving to: 'files_for_practice.tar.gz'\r\n",
      "\r\n",
      "\r",
      "files_for_practice.   0%[                      ]       0  --.-KB/s             \r",
      "files_for_practice. 100%[=====================>]   7.22K  --.-KB/s   in 0s     \r\n",
      "\r\n",
      "2016-10-04 20:48:59 (32.8 MB/s) - 'files_for_practice.tar.gz' saved [7397/7397]\r\n",
      "\r\n"
     ]
    }
   ],
   "source": [
    "wget https://github.com/KIPAC/BootCamp/raw/master/Unix/files_for_practice.tar.gz"
   ]
  },
  {
   "cell_type": "markdown",
   "metadata": {},
   "source": [
    "Note: If you don't have `wget` on your machine, just download [this file](https://github.com/KIPAC/BootCamp/raw/master/Unix/files_for_practice.tar.gz) and then move it to the new directory you just created."
   ]
  },
  {
   "cell_type": "code",
   "execution_count": 19,
   "metadata": {
    "collapsed": false
   },
   "outputs": [
    {
     "name": "stdout",
     "output_type": "stream",
     "text": []
    }
   ],
   "source": [
    "tar -xzf files_for_practice.tar.gz"
   ]
  },
  {
   "cell_type": "markdown",
   "metadata": {},
   "source": [
    "### Task 1\n",
    "\n",
    "- Create a directory call `mp3` under `files_for_practice/random_files`\n",
    "- Move all the mp3 files under `files_for_practice/random_files` into `files_for_practice/random_files/mp3`"
   ]
  },
  {
   "cell_type": "code",
   "execution_count": null,
   "metadata": {
    "collapsed": false
   },
   "outputs": [],
   "source": [
    "cd files_for_practice/random_files"
   ]
  },
  {
   "cell_type": "code",
   "execution_count": null,
   "metadata": {
    "collapsed": false
   },
   "outputs": [],
   "source": [
    "mkdir mp3"
   ]
  },
  {
   "cell_type": "code",
   "execution_count": null,
   "metadata": {
    "collapsed": true
   },
   "outputs": [],
   "source": [
    "mv *.mp3 mp3/"
   ]
  },
  {
   "cell_type": "markdown",
   "metadata": {},
   "source": [
    "Here `mv` is the command to move or rename files/directories. It should be called as \n",
    "\n",
    "    mv [source file] [target file]\n",
    "    ### OR ###\n",
    "    mv [files to be moved [...]] [target directory]\n",
    "    \n",
    "The star symbol (\\*), or asterisk, is a **wildcard character** that matches any charcters. "
   ]
  },
  {
   "cell_type": "markdown",
   "metadata": {},
   "source": [
    "### Task 2\n",
    "\n",
    "- Create a directory call `est` under `files_for_practice/random_files`\n",
    "- **Copy** all files whose filenames _are_ `est`, **regardless of their file extensions**, under `files_for_practice/random_files`, into `files_for_practice/random_files/est`\n",
    "\n",
    "(What's the command for copy? You guessed it --- `cp`.)"
   ]
  },
  {
   "cell_type": "code",
   "execution_count": null,
   "metadata": {
    "collapsed": true
   },
   "outputs": [],
   "source": [
    "mkdir est"
   ]
  },
  {
   "cell_type": "code",
   "execution_count": null,
   "metadata": {
    "collapsed": true
   },
   "outputs": [],
   "source": [
    "cp est.* est/"
   ]
  },
  {
   "cell_type": "markdown",
   "metadata": {},
   "source": [
    "### Task 3\n",
    "\n",
    "- In `files_for_practice/random_files`, rename the file `architecto.mp3` to `consequuntur.html`"
   ]
  },
  {
   "cell_type": "code",
   "execution_count": null,
   "metadata": {
    "collapsed": true
   },
   "outputs": [],
   "source": [
    "mv architecto.mp3 consequuntur.html"
   ]
  },
  {
   "cell_type": "markdown",
   "metadata": {},
   "source": [
    "### Task 4\n",
    "\n",
    "- In `files_for_practice/random_files`, remove the file `molestias.css`\n",
    "\n",
    "(Yes, command for remove is `rm`. It is a good idea to add `-i` after it, so that you won't accidental delete files you don't want to delete.)"
   ]
  },
  {
   "cell_type": "code",
   "execution_count": null,
   "metadata": {
    "collapsed": true
   },
   "outputs": [],
   "source": [
    "rm -i molestias.css"
   ]
  },
  {
   "cell_type": "markdown",
   "metadata": {},
   "source": [
    "### What we have learned\n",
    "\n",
    "- `pwd`: print current working directory\n",
    "- `cd`: change working directory\n",
    "- `ls`: list files and directories\n",
    "- `mkdir`: make new directories\n",
    "- `mv`: move files and directories\n",
    "- `cp`: copy files\n",
    "- `rm`: delete files\n",
    "- `wget [URL]`: download file\n",
    "- `tar -xzf [FILE]`: uncompress file"
   ]
  },
  {
   "cell_type": "markdown",
   "metadata": {},
   "source": [
    "## Read text files"
   ]
  },
  {
   "cell_type": "markdown",
   "metadata": {},
   "source": [
    "- Use `more` or `less` to read a text file.\n",
    "   - Use Page Up/Down to scroll\n",
    "   - /keyword to search for a keyword, n/N to navigate to next/previous result\n",
    "   - Type `q` to quit\n",
    "- Use `cat` to print out the content of a file.\n",
    "- Use `head` to print out the first few lines of a file.\n",
    "- Use `tail` to print out the last few lines of a file."
   ]
  },
  {
   "cell_type": "markdown",
   "metadata": {},
   "source": [
    "### Task 5\n",
    "\n",
    "- what's the second to the last line in file `users.txt`?\n",
    "- what's the third line in file `clients.txt`?"
   ]
  },
  {
   "cell_type": "code",
   "execution_count": null,
   "metadata": {
    "collapsed": false
   },
   "outputs": [],
   "source": [
    "tail -n 2 users.txt"
   ]
  },
  {
   "cell_type": "code",
   "execution_count": null,
   "metadata": {
    "collapsed": false
   },
   "outputs": [],
   "source": [
    "head -n 3 clients.txt"
   ]
  },
  {
   "cell_type": "markdown",
   "metadata": {},
   "source": [
    "## Execute files \n",
    "\n",
    "We have already used many *programs* already, like `wget` and `tar` --- they *are* programs with command-line interfaces. \n",
    "\n",
    "Just on like all other systems, these programs live *somewhere* in the system. You can find out where with the `which` command:"
   ]
  },
  {
   "cell_type": "code",
   "execution_count": 30,
   "metadata": {
    "collapsed": false
   },
   "outputs": [
    {
     "name": "stdout",
     "output_type": "stream",
     "text": [
      "/usr/bin/tar\r\n"
     ]
    }
   ],
   "source": [
    "which tar"
   ]
  },
  {
   "cell_type": "code",
   "execution_count": null,
   "metadata": {
    "collapsed": true
   },
   "outputs": [],
   "source": [
    "which wget"
   ]
  },
  {
   "cell_type": "code",
   "execution_count": null,
   "metadata": {
    "collapsed": false
   },
   "outputs": [],
   "source": [
    "which which"
   ]
  },
  {
   "cell_type": "markdown",
   "metadata": {},
   "source": [
    "The system knows where to find these programs by looking into some pre-defined paths, which are stored in an enviroment variable called `$PATH`. We'll talk more about variables later. For now you can check out what's in your pre-defined paths by printing out this variable:"
   ]
  },
  {
   "cell_type": "code",
   "execution_count": 29,
   "metadata": {
    "collapsed": false
   },
   "outputs": [
    {
     "name": "stdout",
     "output_type": "stream",
     "text": [
      "//anaconda/bin:/usr/local/bin:/usr/bin:/bin:/usr/sbin:/sbin:/opt/X11/bin:/usr/local/git/bin:/usr/texbin\r\n"
     ]
    }
   ],
   "source": [
    "echo $PATH"
   ]
  },
  {
   "cell_type": "markdown",
   "metadata": {},
   "source": [
    "So what if I have a program also called `wget` in my current WD and I want to run it? \n",
    "\n",
    "You then need to specify it's path (i.e. at least one slash '/' needs to appear). It the program is in your current WD, you can call it with `./<program name>`, where the dot (.) stands for current WD."
   ]
  },
  {
   "cell_type": "markdown",
   "metadata": {},
   "source": [
    "### Task 6\n",
    "\n",
    "- change WD to files_for_practice/executables\n",
    "- try running the fake programs `wget` and `tar`."
   ]
  },
  {
   "cell_type": "code",
   "execution_count": null,
   "metadata": {
    "collapsed": true
   },
   "outputs": [],
   "source": [
    "cd ../executables"
   ]
  },
  {
   "cell_type": "code",
   "execution_count": null,
   "metadata": {
    "collapsed": true
   },
   "outputs": [],
   "source": [
    "./wget"
   ]
  },
  {
   "cell_type": "code",
   "execution_count": null,
   "metadata": {
    "collapsed": true
   },
   "outputs": [],
   "source": [
    "./tar"
   ]
  },
  {
   "cell_type": "markdown",
   "metadata": {},
   "source": [
    "You'll notice that you cannot execute `tar`. The reason is that you don't have the permission to execute it. \n",
    "\n",
    "You can **change the permission** (read/write/execute) by the command `chmod`. Try:"
   ]
  },
  {
   "cell_type": "code",
   "execution_count": null,
   "metadata": {
    "collapsed": true
   },
   "outputs": [],
   "source": [
    "chmod u+x tar"
   ]
  },
  {
   "cell_type": "markdown",
   "metadata": {},
   "source": [
    "### Task 7\n",
    "\n",
    "- remove user's read permisson from the file `alphabet.txt`\n",
    "- See if it works by reading the file\n",
    "- If it works, reinstate user's read permisson"
   ]
  },
  {
   "cell_type": "code",
   "execution_count": null,
   "metadata": {
    "collapsed": true
   },
   "outputs": [],
   "source": [
    "chmod u-r alphabet.txt"
   ]
  },
  {
   "cell_type": "code",
   "execution_count": null,
   "metadata": {
    "collapsed": true
   },
   "outputs": [],
   "source": [
    "cat alphabet.txt"
   ]
  },
  {
   "cell_type": "code",
   "execution_count": null,
   "metadata": {
    "collapsed": true
   },
   "outputs": [],
   "source": [
    "chmod u+r alphabet.txt"
   ]
  },
  {
   "cell_type": "markdown",
   "metadata": {},
   "source": [
    "## I/O redirection and piping\n",
    "\n",
    "**Redirection**:\n",
    "To read `input_file` as standard input and print standard output to a new file `output_file`:\n",
    "\n",
    "    command < input_file > output_file\n",
    "    \n",
    "You can use only one part of it:\n",
    "\n",
    "    command < input_file\n",
    "    \n",
    "    command > output_file\n",
    "    \n",
    "You can also redirect the output and **append** to a file with two arrows:\n",
    "\n",
    "    command >> output_file\n",
    "\n",
    "\n",
    "**Piping**:\n",
    "To use the standard output from `command1` as the standard input of `command2`\n",
    "\n",
    "    command1 | command2"
   ]
  },
  {
   "cell_type": "markdown",
   "metadata": {},
   "source": [
    "### Task 8\n",
    "\n",
    "- add execute permission to user for the file `reverse`\n",
    "- run `reverse` with the content of `alphabet.txt` as stanford input (try both redirection and piping)\n",
    "\n",
    "**Hints**:\n",
    "recall the command to change permission, and the command to print out the whole file."
   ]
  },
  {
   "cell_type": "code",
   "execution_count": null,
   "metadata": {
    "collapsed": true
   },
   "outputs": [],
   "source": [
    "chmod u+x reverse"
   ]
  },
  {
   "cell_type": "code",
   "execution_count": null,
   "metadata": {
    "collapsed": true
   },
   "outputs": [],
   "source": [
    "./reverse < alphabet.txt"
   ]
  },
  {
   "cell_type": "markdown",
   "metadata": {},
   "source": [
    "### Task 9\n",
    "\n",
    "- go to the directory `files_for_practice/random_files`\n",
    "- how many files in total are in this directory?\n",
    "- how many \"png\" files are in this directory?\n",
    "\n",
    "\n",
    "**Hints**:\n",
    "\n",
    "- `ls` has an option `-1`. With this option, each file would be printed as one single line.\n",
    "- Command `wc` can count the words and lines from standard input"
   ]
  },
  {
   "cell_type": "code",
   "execution_count": null,
   "metadata": {
    "collapsed": false
   },
   "outputs": [],
   "source": [
    "cd ../random_files"
   ]
  },
  {
   "cell_type": "code",
   "execution_count": null,
   "metadata": {
    "collapsed": false
   },
   "outputs": [],
   "source": [
    "ls -1 | wc -l"
   ]
  },
  {
   "cell_type": "code",
   "execution_count": null,
   "metadata": {
    "collapsed": false
   },
   "outputs": [],
   "source": [
    "ls -1 *.png | wc -l"
   ]
  },
  {
   "cell_type": "markdown",
   "metadata": {},
   "source": [
    "## grep\n",
    "\n",
    "grep is a powerful program that finds patterns"
   ]
  },
  {
   "cell_type": "code",
   "execution_count": 31,
   "metadata": {
    "collapsed": false
   },
   "outputs": [
    {
     "name": "stdout",
     "output_type": "stream",
     "text": [
      "grep: users.txt: No such file or directory\r\n"
     ]
    }
   ],
   "source": [
    "grep ^d users.txt"
   ]
  },
  {
   "cell_type": "code",
   "execution_count": null,
   "metadata": {
    "collapsed": true
   },
   "outputs": [],
   "source": [
    "grep ^d *.txt"
   ]
  },
  {
   "cell_type": "code",
   "execution_count": null,
   "metadata": {
    "collapsed": false
   },
   "outputs": [],
   "source": [
    "ls -1 | grep -E i.\\.mp3"
   ]
  },
  {
   "cell_type": "markdown",
   "metadata": {},
   "source": [
    "### Task 10\n",
    "Search grepdata.txt for all lines that do not begin with a capital letter."
   ]
  },
  {
   "cell_type": "code",
   "execution_count": 32,
   "metadata": {
    "collapsed": false
   },
   "outputs": [
    {
     "name": "stdout",
     "output_type": "stream",
     "text": [
      "grep: grepdata.txt: No such file or directory\r\n"
     ]
    }
   ],
   "source": [
    "grep '^[^A-Z]' grepdata.txt "
   ]
  },
  {
   "cell_type": "markdown",
   "metadata": {},
   "source": [
    "## sed\n",
    "sed is a stream editor whose strength is altering input streams (such as text files).\n",
    "\n",
    "To replace a phrase in a file the syntax is:\n",
    "\n",
    "```\n",
    "sed 's/phrase/replacement/' filename\n",
    "```"
   ]
  },
  {
   "cell_type": "code",
   "execution_count": 34,
   "metadata": {
    "collapsed": false
   },
   "outputs": [
    {
     "name": "stdout",
     "output_type": "stream",
     "text": [
      "sed: users.txt: No such file or directory\r\n"
     ]
    }
   ],
   "source": [
    "sed 's/\\./SPAM/' users.txt"
   ]
  },
  {
   "cell_type": "code",
   "execution_count": null,
   "metadata": {
    "collapsed": true
   },
   "outputs": [],
   "source": [
    "sed -i.bak's/\\./SPAM/' users.txt"
   ]
  },
  {
   "cell_type": "markdown",
   "metadata": {},
   "source": [
    "### awk\n",
    "awk "
   ]
  },
  {
   "cell_type": "markdown",
   "metadata": {},
   "source": [
    "## Monitoring and killing processes"
   ]
  },
  {
   "cell_type": "markdown",
   "metadata": {},
   "source": [
    "You can view all processes currently running in the terminal using ```ps```, and kill them using ```kill```"
   ]
  },
  {
   "cell_type": "code",
   "execution_count": 2,
   "metadata": {
    "collapsed": false
   },
   "outputs": [
    {
     "name": "stdout",
     "output_type": "stream",
     "text": [
      "  PID TTY           TIME CMD\r\n",
      "  595 ttys000    0:00.06 -bash\r\n",
      " 3035 ttys001    0:00.01 /bin/bash\r\n",
      " 2330 ttys002    0:00.67 -bash\r\n",
      " 2492 ttys003    0:00.01 /bin/bash\r\n",
      " 1856 ttys006    0:00.03 -bash\r\n",
      " 2164 ttys006    0:12.32 //anaconda/bin/python //anaconda/bin/jupyter-notebook\r\n",
      " 2487 ttys006    0:00.82 //anaconda/bin/python -m bash_kernel -f /Users/Joe/Lib\r\n",
      " 3030 ttys006    0:00.56 //anaconda/bin/python -m bash_kernel -f /Users/Joe/Lib\r\n"
     ]
    }
   ],
   "source": [
    "ps"
   ]
  },
  {
   "cell_type": "markdown",
   "metadata": {},
   "source": [
    "### Task 11\n",
    "Kill all anaconda processes using ```ps``` and ```kill```. \n",
    "\n",
    "*Hint: use ```xargs```"
   ]
  },
  {
   "cell_type": "code",
   "execution_count": 3,
   "metadata": {
    "collapsed": false
   },
   "outputs": [
    {
     "name": "stdout",
     "output_type": "stream",
     "text": [
      " 3061 ttys001    0:00.00 grep anaconda\r\n",
      " 2164 ttys006    0:12.63 //anaconda/bin/python //anaconda/bin/jupyter-notebook\r\n",
      " 2487 ttys006    0:00.83 //anaconda/bin/python -m bash_kernel -f /Users/Joe/Library/Jupyter/runtime/kernel-fa929154-ddcf-4935-8bce-aee14eb029de.json\r\n",
      " 3030 ttys006    0:00.58 //anaconda/bin/python -m bash_kernel -f /Users/Joe/Library/Jupyter/runtime/kernel-b8d2a5c3-7343-421a-bc21-285c363c9719.json\r\n"
     ]
    }
   ],
   "source": [
    "ps | grep anaconda "
   ]
  },
  {
   "cell_type": "code",
   "execution_count": null,
   "metadata": {
    "collapsed": true
   },
   "outputs": [],
   "source": []
  }
 ],
 "metadata": {
  "kernelspec": {
   "display_name": "Bash",
   "language": "bash",
   "name": "bash"
  },
  "language_info": {
   "codemirror_mode": "shell",
   "file_extension": ".sh",
   "mimetype": "text/x-sh",
   "name": "bash"
  }
 },
 "nbformat": 4,
 "nbformat_minor": 0
}
