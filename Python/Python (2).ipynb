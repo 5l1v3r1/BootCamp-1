{
 "cells": [
  {
   "cell_type": "markdown",
   "metadata": {},
   "source": [
    "# Python: syntax and concepts\n",
    "\n",
    "This is a tutorial on basic Python syntax and concepts for the [KIPAC computing boot camp](http://kipac.github.io/BootCamp).\n",
    "\n",
    "Author: [Yao-Yuan Mao](http://yymao.github.io)"
   ]
  },
  {
   "cell_type": "markdown",
   "metadata": {},
   "source": [
    "## Basic syntax:\n",
    "\n",
    "- No semicolons (;). Each line needs to be a complete statment, unless broken by a backslash (\\).\n",
    "- Variables can be declared dynamically. \n",
    "- Nested statments are opened by colons (:), and the structures are specified by **indentation**."
   ]
  },
  {
   "cell_type": "code",
   "execution_count": null,
   "metadata": {
    "collapsed": false
   },
   "outputs": [],
   "source": [
    "x = 1\n",
    "\n",
    "if x > 1:\n",
    "    print('x > 1')\n",
    "else:\n",
    "    print('x <= 1')"
   ]
  },
  {
   "cell_type": "code",
   "execution_count": null,
   "metadata": {
    "collapsed": false
   },
   "outputs": [],
   "source": [
    "def multiply(a, b):\n",
    "    return a*b\n",
    "\n",
    "multiply(1.2, 2)"
   ]
  },
  {
   "cell_type": "code",
   "execution_count": null,
   "metadata": {
    "collapsed": false
   },
   "outputs": [],
   "source": [
    "x = 10\n",
    "while x > 0:\n",
    "    x -= 1\n",
    "    print(x)"
   ]
  },
  {
   "cell_type": "markdown",
   "metadata": {},
   "source": [
    "## Hello World in python"
   ]
  },
  {
   "cell_type": "code",
   "execution_count": null,
   "metadata": {
    "collapsed": false
   },
   "outputs": [],
   "source": [
    "import __hello__"
   ]
  },
  {
   "cell_type": "markdown",
   "metadata": {},
   "source": [
    "## Modular design\n",
    "\n",
    "Many functionalities and features are availiable by loading modules.\n",
    "\n",
    "[See here](https://docs.python.org/2/library/) for a list of modules in the Python standard library"
   ]
  },
  {
   "cell_type": "code",
   "execution_count": null,
   "metadata": {
    "collapsed": false
   },
   "outputs": [],
   "source": [
    "cos(0)"
   ]
  },
  {
   "cell_type": "code",
   "execution_count": null,
   "metadata": {
    "collapsed": false
   },
   "outputs": [],
   "source": [
    "import math\n",
    "\n",
    "math.cos(0)"
   ]
  },
  {
   "cell_type": "code",
   "execution_count": null,
   "metadata": {
    "collapsed": false
   },
   "outputs": [],
   "source": [
    "from math import cos\n",
    "\n",
    "cos(0)"
   ]
  },
  {
   "cell_type": "code",
   "execution_count": null,
   "metadata": {
    "collapsed": false
   },
   "outputs": [],
   "source": [
    "sin = 1.0\n",
    "print(sin)\n",
    "\n",
    "from math import sin\n",
    "print(sin)"
   ]
  },
  {
   "cell_type": "code",
   "execution_count": null,
   "metadata": {
    "collapsed": false
   },
   "outputs": [],
   "source": [
    "import os\n",
    "\n",
    "print os.listdir(os.curdir)\n",
    "print os.path.getsize('Python (2).ipynb')"
   ]
  },
  {
   "cell_type": "code",
   "execution_count": null,
   "metadata": {
    "collapsed": false
   },
   "outputs": [],
   "source": [
    "import time\n",
    "\n",
    "time.sleep(3)\n",
    "print time.time()"
   ]
  },
  {
   "cell_type": "code",
   "execution_count": null,
   "metadata": {
    "collapsed": false
   },
   "outputs": [],
   "source": [
    "import subprocess\n",
    "\n",
    "subprocess.check_output(['wc', '-l', 'Zen.txt'])"
   ]
  },
  {
   "cell_type": "markdown",
   "metadata": {},
   "source": [
    "## functions and lambda expressions"
   ]
  },
  {
   "cell_type": "code",
   "execution_count": null,
   "metadata": {
    "collapsed": true
   },
   "outputs": [],
   "source": [
    "def add(x, y):\n",
    "    return x + y\n",
    "\n",
    "add(1, 2)"
   ]
  },
  {
   "cell_type": "code",
   "execution_count": null,
   "metadata": {
    "collapsed": false
   },
   "outputs": [],
   "source": [
    "def addone(x, y=1):\n",
    "    return x + y\n",
    "\n",
    "print(addone(1))\n",
    "print(addone(1, 3))"
   ]
  },
  {
   "cell_type": "markdown",
   "metadata": {},
   "source": [
    "lambda expression is an one-line function that always has a return"
   ]
  },
  {
   "cell_type": "code",
   "execution_count": null,
   "metadata": {
    "collapsed": false
   },
   "outputs": [],
   "source": [
    "addone = lambda x, y=1: x + y\n",
    "addone(1)"
   ]
  },
  {
   "cell_type": "code",
   "execution_count": null,
   "metadata": {
    "collapsed": false
   },
   "outputs": [],
   "source": [
    "from scipy.integrate import quad\n",
    "\n",
    "quad(lambda x: x*x*x, 0, 1)"
   ]
  },
  {
   "cell_type": "markdown",
   "metadata": {},
   "source": [
    "### variable scope\n",
    "\n",
    "Variable scope is implicitly determined by the scope **in which one assigns a value to the variable**, unless scope is explicitly declared with `global`.\n",
    "\n",
    "See the difference between the following three cells."
   ]
  },
  {
   "cell_type": "code",
   "execution_count": null,
   "metadata": {
    "collapsed": false
   },
   "outputs": [],
   "source": [
    "x = 1\n",
    "\n",
    "def my_function():\n",
    "    print(x)\n",
    "    \n",
    "my_function()\n",
    "\n",
    "print(x)"
   ]
  },
  {
   "cell_type": "code",
   "execution_count": null,
   "metadata": {
    "collapsed": false
   },
   "outputs": [],
   "source": [
    "x = 1\n",
    "\n",
    "def my_function():\n",
    "    x = 3\n",
    "    print(x)\n",
    "    \n",
    "my_function()\n",
    "\n",
    "print(x)"
   ]
  },
  {
   "cell_type": "code",
   "execution_count": null,
   "metadata": {
    "collapsed": false
   },
   "outputs": [],
   "source": [
    "x = 1\n",
    "\n",
    "def my_function():\n",
    "    global x\n",
    "    x = 3\n",
    "    print(x)\n",
    "    \n",
    "my_function()\n",
    "\n",
    "print(x)"
   ]
  },
  {
   "cell_type": "markdown",
   "metadata": {},
   "source": [
    "## unpacking"
   ]
  },
  {
   "cell_type": "code",
   "execution_count": null,
   "metadata": {
    "collapsed": false
   },
   "outputs": [],
   "source": [
    "a, b = ('this is a', 'this is b')\n",
    "print(a)\n",
    "print(b)"
   ]
  },
  {
   "cell_type": "code",
   "execution_count": null,
   "metadata": {
    "collapsed": false
   },
   "outputs": [],
   "source": [
    "a, b = b, a\n",
    "print(a)\n",
    "print(b)"
   ]
  },
  {
   "cell_type": "markdown",
   "metadata": {},
   "source": [
    "## Iterator"
   ]
  },
  {
   "cell_type": "markdown",
   "metadata": {},
   "source": [
    "### for loop syntax\n",
    "\n",
    "    for <counter> in <iterator>:\n",
    "        <do ...>\n",
    "        \n",
    "You can iterate over many differnt objects!"
   ]
  },
  {
   "cell_type": "code",
   "execution_count": null,
   "metadata": {
    "collapsed": false
   },
   "outputs": [],
   "source": [
    "for i in xrange(10):\n",
    "    print(i)"
   ]
  },
  {
   "cell_type": "code",
   "execution_count": null,
   "metadata": {
    "collapsed": false
   },
   "outputs": [],
   "source": [
    "for i in xrange(6, 20, 4):\n",
    "    print(i)"
   ]
  },
  {
   "cell_type": "markdown",
   "metadata": {},
   "source": [
    "Note the counter is just a container, and is *not* used in controlling the for loop"
   ]
  },
  {
   "cell_type": "code",
   "execution_count": null,
   "metadata": {
    "collapsed": false
   },
   "outputs": [],
   "source": [
    "for i in xrange(6, 20, 4):\n",
    "    i = 0\n",
    "    print(i)"
   ]
  },
  {
   "cell_type": "code",
   "execution_count": null,
   "metadata": {
    "collapsed": false
   },
   "outputs": [],
   "source": [
    "for i in 'Hello World!':\n",
    "    print(i)"
   ]
  },
  {
   "cell_type": "code",
   "execution_count": null,
   "metadata": {
    "collapsed": false
   },
   "outputs": [],
   "source": [
    "for i in [1, 2.23, None, 'string', lambda x:x+1, [1,2,3]]:\n",
    "    print(i)"
   ]
  },
  {
   "cell_type": "code",
   "execution_count": null,
   "metadata": {
    "collapsed": false
   },
   "outputs": [],
   "source": [
    "with open('Zen.txt') as f:\n",
    "    for line in f:\n",
    "        print(line)"
   ]
  },
  {
   "cell_type": "markdown",
   "metadata": {},
   "source": [
    "Iterators can also be used in expressions!"
   ]
  },
  {
   "cell_type": "code",
   "execution_count": null,
   "metadata": {
    "collapsed": false
   },
   "outputs": [],
   "source": [
    "any(x == 9 for x in xrange(9))"
   ]
  },
  {
   "cell_type": "code",
   "execution_count": null,
   "metadata": {
    "collapsed": false
   },
   "outputs": [],
   "source": [
    "list(x*x for x in xrange(9))\n",
    "\n",
    "# or use list comprehension\n",
    "[x*x for x in xrange(9)]"
   ]
  },
  {
   "cell_type": "code",
   "execution_count": null,
   "metadata": {
    "collapsed": false
   },
   "outputs": [],
   "source": [
    "dict((str(x), x) for x in xrange(9))\n",
    "\n",
    "# or use dictionary comprehension\n",
    "{str(x): x for x in xrange(9)}"
   ]
  },
  {
   "cell_type": "code",
   "execution_count": null,
   "metadata": {
    "collapsed": true
   },
   "outputs": [],
   "source": [
    "arr = [1,2,3,4,5,6,7,8,9,10,11]"
   ]
  },
  {
   "cell_type": "markdown",
   "metadata": {},
   "source": [
    "Compare the three methods below:"
   ]
  },
  {
   "cell_type": "code",
   "execution_count": null,
   "metadata": {
    "collapsed": false
   },
   "outputs": [],
   "source": [
    "count = 0\n",
    "for i in range(len(arr)):\n",
    "    if arr[i] > 1:\n",
    "        count += 1"
   ]
  },
  {
   "cell_type": "code",
   "execution_count": null,
   "metadata": {
    "collapsed": false
   },
   "outputs": [],
   "source": [
    "count = 0\n",
    "for i in arr:\n",
    "    if i > 1:\n",
    "        count += 1"
   ]
  },
  {
   "cell_type": "code",
   "execution_count": null,
   "metadata": {
    "collapsed": false
   },
   "outputs": [],
   "source": [
    "count = sum(1 for i in arr if i > 1)"
   ]
  },
  {
   "cell_type": "markdown",
   "metadata": {},
   "source": [
    "Good practice: if you use this expression more than once, name it a function."
   ]
  },
  {
   "cell_type": "code",
   "execution_count": null,
   "metadata": {
    "collapsed": false
   },
   "outputs": [],
   "source": [
    "def countif(f, arr):\n",
    "    return sum(1 for i in arr if f(i))\n",
    "\n",
    "countif(lambda x: x > 1, arr)"
   ]
  },
  {
   "cell_type": "markdown",
   "metadata": {
    "collapsed": true
   },
   "source": [
    "## Exceptions"
   ]
  },
  {
   "cell_type": "code",
   "execution_count": null,
   "metadata": {
    "collapsed": false
   },
   "outputs": [],
   "source": [
    "a = 'abd'\n",
    "try:\n",
    "    a = int(a)\n",
    "except (ValueError, TypeError):\n",
    "    a = 0\n",
    "    \n",
    "print(a)"
   ]
  },
  {
   "cell_type": "markdown",
   "metadata": {},
   "source": [
    "## Task 1\n",
    "\n",
    "Write a function: \n",
    "- Take one string as input\n",
    "- Return `Ture` if there exists an integer character *AND* its value matches its index in that string. Reture `False` otherwise.\n",
    "\n",
    "Examples:\n",
    "\n",
    "    task1('000') => True      # '0' at index 0\n",
    "    task1('abc') => False     # no integer character\n",
    "    task1('321') => False     # no matchin indices\n",
    "    task1('abc321') => True   # '3' at index 3"
   ]
  },
  {
   "cell_type": "code",
   "execution_count": null,
   "metadata": {
    "collapsed": false
   },
   "outputs": [],
   "source": [
    "def task1(s):\n",
    "    pass"
   ]
  },
  {
   "cell_type": "markdown",
   "metadata": {},
   "source": [
    "## Task 2\n",
    "\n",
    "Write a function: \n",
    "- Take one list of numbers as input\n",
    "- Return `True` if the numbers in the list are monotone (strictly) decreasing. Reture `False` otherwise.\n",
    "\n",
    "Examples:\n",
    "\n",
    "    task2([3,1,2]) => False\n",
    "    task2([3,2,1]) => True\n",
    "    task2([3,2,2,1]) => False"
   ]
  },
  {
   "cell_type": "code",
   "execution_count": null,
   "metadata": {
    "collapsed": true
   },
   "outputs": [],
   "source": [
    "def task2(numbers):\n",
    "    pass"
   ]
  },
  {
   "cell_type": "markdown",
   "metadata": {},
   "source": [
    "## Task 3\n",
    "\n",
    "Write a function: \n",
    "-  Take two lists of numbers as input\n",
    "-  Return `True` if the following two criteria are both true:\n",
    "   1. The second list is longer than or of the same length as the first list.\n",
    "   2. Each element in the second list is larger than or equal to the corresponding element (i.e., at the same index)\n",
    "      in the first list.\n",
    "- Reture `False` otherwise.\n",
    "\n",
    "Examples:\n",
    "\n",
    "    task3([3,2,4,5], [1,5,6,7]) => False\n",
    "    task3([3,2,4,5,6], [5,5,6]) => False\n",
    "    task3([3,2,1], [9,8,7]) => True\n",
    "    task3([3,2,1], [9,8,7,6]) => True\n"
   ]
  },
  {
   "cell_type": "code",
   "execution_count": null,
   "metadata": {
    "collapsed": true
   },
   "outputs": [],
   "source": [
    "def task2(numbers):\n",
    "    pass"
   ]
  }
 ],
 "metadata": {
  "kernelspec": {
   "display_name": "Python 2",
   "language": "python",
   "name": "python2"
  },
  "language_info": {
   "codemirror_mode": {
    "name": "ipython",
    "version": 2
   },
   "file_extension": ".py",
   "mimetype": "text/x-python",
   "name": "python",
   "nbconvert_exporter": "python",
   "pygments_lexer": "ipython2",
   "version": "2.7.10"
  }
 },
 "nbformat": 4,
 "nbformat_minor": 0
}
